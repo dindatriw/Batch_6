{
  "nbformat": 4,
  "nbformat_minor": 0,
  "metadata": {
    "colab": {
      "name": "Final Project_Churn Modelling.ipynb",
      "provenance": [],
      "collapsed_sections": [
        "VOiUnGJH1_uU",
        "Vur3bOSt2EIT",
        "nylqBsCh7CUx",
        "W2eidU_R7HRQ",
        "XSTfUrKFgAQU",
        "G4y8h_6pggGQ",
        "UKxm5alPhMsr",
        "LmTw0XWexWuO",
        "WFTqY0_ar02F",
        "nyukNbTVxndh",
        "FIRp4X_87SxL",
        "en9d6aIY7Mpl",
        "HYd9DglgDfuP",
        "90LDzzntFa7h",
        "PL-7mkQ04cAO",
        "0XFiO5by-xZ4",
        "Jk9ihr1X-4KL",
        "LyACq03e-7qf",
        "o2dQMnez_QXj",
        "Dg1lSGIE_Wx4",
        "WZ5loj9Z_a-d",
        "L81m8Fo3980g",
        "gWnuVa8t-GUm",
        "Z6aJBiTT-K6h",
        "GeXF9aoi-SGR",
        "bo3jjgxPgNrI",
        "4nc53JnaK8jV",
        "q4TkPMMVq2xt",
        "05jQn9MKrCqw",
        "D-q6_rRhDCIL",
        "Zl2ghABqJxGl",
        "zzNjH96XNrV2",
        "qZIIU8n-OvvZ",
        "5P5QlqMOZgGY",
        "Qu2NXJgRxTRu",
        "kf1kgYC-LLbC",
        "j3H8EAx3NUvn",
        "o9lkpgI8ZXsU",
        "zMYkvNJMiW05",
        "MtlU5jxf__Tp"
      ],
      "toc_visible": true,
      "include_colab_link": true
    },
    "kernelspec": {
      "name": "python3",
      "display_name": "Python 3"
    },
    "language_info": {
      "name": "python"
    }
  },
  "cells": [
    {
      "cell_type": "markdown",
      "metadata": {
        "id": "view-in-github",
        "colab_type": "text"
      },
      "source": [
        "<a href=\"https://colab.research.google.com/github/dindatriw/Bootcamp-Data-Science-Batch_6-with-Digital-Skola/blob/main/Final_Project_Churn_Modelling.ipynb\" target=\"_parent\"><img src=\"https://colab.research.google.com/assets/colab-badge.svg\" alt=\"Open In Colab\"/></a>"
      ]
    },
    {
      "cell_type": "code",
      "metadata": {
        "id": "Ri2O1wfG6dlJ"
      },
      "source": [
        "# Import libraries\n",
        "import pandas as pd, seaborn as sns, matplotlib.pyplot as plt, numpy as np\n",
        "from sklearn.model_selection import train_test_split\n",
        "from sklearn.preprocessing import StandardScaler\n",
        "from collections import Counter\n",
        "from sklearn.metrics import confusion_matrix\n",
        "from sklearn.neighbors import KNeighborsClassifier\n",
        "from sklearn.svm import SVC\n",
        "from sklearn.tree import DecisionTreeClassifier\n",
        "from sklearn.ensemble import RandomForestClassifier, BaggingClassifier, AdaBoostClassifier\n",
        "import xgboost as xgb\n",
        "from sklearn.model_selection import RandomizedSearchCV"
      ],
      "execution_count": 3,
      "outputs": []
    },
    {
      "cell_type": "markdown",
      "metadata": {
        "id": "VOiUnGJH1_uU"
      },
      "source": [
        "# The Dataset"
      ]
    },
    {
      "cell_type": "markdown",
      "metadata": {
        "id": "t8ue1ITZ2V6u"
      },
      "source": [
        "Dataset: https://www.kaggle.com/shubh0799/churn-modelling"
      ]
    },
    {
      "cell_type": "code",
      "metadata": {
        "id": "OL_eS39U9TFZ",
        "colab": {
          "base_uri": "https://localhost:8080/",
          "height": 408
        },
        "outputId": "8a7f97bd-eac8-467d-8c2f-d08ba05fb5b6"
      },
      "source": [
        "# Read csv file into dataframe\n",
        "df = pd.read_csv('/content/Churn_Modelling.csv')\n",
        "df"
      ],
      "execution_count": 4,
      "outputs": [
        {
          "output_type": "execute_result",
          "data": {
            "text/html": [
              "<div>\n",
              "<style scoped>\n",
              "    .dataframe tbody tr th:only-of-type {\n",
              "        vertical-align: middle;\n",
              "    }\n",
              "\n",
              "    .dataframe tbody tr th {\n",
              "        vertical-align: top;\n",
              "    }\n",
              "\n",
              "    .dataframe thead th {\n",
              "        text-align: right;\n",
              "    }\n",
              "</style>\n",
              "<table border=\"1\" class=\"dataframe\">\n",
              "  <thead>\n",
              "    <tr style=\"text-align: right;\">\n",
              "      <th></th>\n",
              "      <th>RowNumber</th>\n",
              "      <th>CustomerId</th>\n",
              "      <th>Surname</th>\n",
              "      <th>CreditScore</th>\n",
              "      <th>Geography</th>\n",
              "      <th>Gender</th>\n",
              "      <th>Age</th>\n",
              "      <th>Tenure</th>\n",
              "      <th>Balance</th>\n",
              "      <th>NumOfProducts</th>\n",
              "      <th>HasCrCard</th>\n",
              "      <th>IsActiveMember</th>\n",
              "      <th>EstimatedSalary</th>\n",
              "      <th>Exited</th>\n",
              "    </tr>\n",
              "  </thead>\n",
              "  <tbody>\n",
              "    <tr>\n",
              "      <th>0</th>\n",
              "      <td>1</td>\n",
              "      <td>15634602</td>\n",
              "      <td>Hargrave</td>\n",
              "      <td>619</td>\n",
              "      <td>France</td>\n",
              "      <td>Female</td>\n",
              "      <td>42</td>\n",
              "      <td>2</td>\n",
              "      <td>0.00</td>\n",
              "      <td>1</td>\n",
              "      <td>1</td>\n",
              "      <td>1</td>\n",
              "      <td>101348.88</td>\n",
              "      <td>1</td>\n",
              "    </tr>\n",
              "    <tr>\n",
              "      <th>1</th>\n",
              "      <td>2</td>\n",
              "      <td>15647311</td>\n",
              "      <td>Hill</td>\n",
              "      <td>608</td>\n",
              "      <td>Spain</td>\n",
              "      <td>Female</td>\n",
              "      <td>41</td>\n",
              "      <td>1</td>\n",
              "      <td>83807.86</td>\n",
              "      <td>1</td>\n",
              "      <td>0</td>\n",
              "      <td>1</td>\n",
              "      <td>112542.58</td>\n",
              "      <td>0</td>\n",
              "    </tr>\n",
              "    <tr>\n",
              "      <th>2</th>\n",
              "      <td>3</td>\n",
              "      <td>15619304</td>\n",
              "      <td>Onio</td>\n",
              "      <td>502</td>\n",
              "      <td>France</td>\n",
              "      <td>Female</td>\n",
              "      <td>42</td>\n",
              "      <td>8</td>\n",
              "      <td>159660.80</td>\n",
              "      <td>3</td>\n",
              "      <td>1</td>\n",
              "      <td>0</td>\n",
              "      <td>113931.57</td>\n",
              "      <td>1</td>\n",
              "    </tr>\n",
              "    <tr>\n",
              "      <th>3</th>\n",
              "      <td>4</td>\n",
              "      <td>15701354</td>\n",
              "      <td>Boni</td>\n",
              "      <td>699</td>\n",
              "      <td>France</td>\n",
              "      <td>Female</td>\n",
              "      <td>39</td>\n",
              "      <td>1</td>\n",
              "      <td>0.00</td>\n",
              "      <td>2</td>\n",
              "      <td>0</td>\n",
              "      <td>0</td>\n",
              "      <td>93826.63</td>\n",
              "      <td>0</td>\n",
              "    </tr>\n",
              "    <tr>\n",
              "      <th>4</th>\n",
              "      <td>5</td>\n",
              "      <td>15737888</td>\n",
              "      <td>Mitchell</td>\n",
              "      <td>850</td>\n",
              "      <td>Spain</td>\n",
              "      <td>Female</td>\n",
              "      <td>43</td>\n",
              "      <td>2</td>\n",
              "      <td>125510.82</td>\n",
              "      <td>1</td>\n",
              "      <td>1</td>\n",
              "      <td>1</td>\n",
              "      <td>79084.10</td>\n",
              "      <td>0</td>\n",
              "    </tr>\n",
              "    <tr>\n",
              "      <th>...</th>\n",
              "      <td>...</td>\n",
              "      <td>...</td>\n",
              "      <td>...</td>\n",
              "      <td>...</td>\n",
              "      <td>...</td>\n",
              "      <td>...</td>\n",
              "      <td>...</td>\n",
              "      <td>...</td>\n",
              "      <td>...</td>\n",
              "      <td>...</td>\n",
              "      <td>...</td>\n",
              "      <td>...</td>\n",
              "      <td>...</td>\n",
              "      <td>...</td>\n",
              "    </tr>\n",
              "    <tr>\n",
              "      <th>9995</th>\n",
              "      <td>9996</td>\n",
              "      <td>15606229</td>\n",
              "      <td>Obijiaku</td>\n",
              "      <td>771</td>\n",
              "      <td>France</td>\n",
              "      <td>Male</td>\n",
              "      <td>39</td>\n",
              "      <td>5</td>\n",
              "      <td>0.00</td>\n",
              "      <td>2</td>\n",
              "      <td>1</td>\n",
              "      <td>0</td>\n",
              "      <td>96270.64</td>\n",
              "      <td>0</td>\n",
              "    </tr>\n",
              "    <tr>\n",
              "      <th>9996</th>\n",
              "      <td>9997</td>\n",
              "      <td>15569892</td>\n",
              "      <td>Johnstone</td>\n",
              "      <td>516</td>\n",
              "      <td>France</td>\n",
              "      <td>Male</td>\n",
              "      <td>35</td>\n",
              "      <td>10</td>\n",
              "      <td>57369.61</td>\n",
              "      <td>1</td>\n",
              "      <td>1</td>\n",
              "      <td>1</td>\n",
              "      <td>101699.77</td>\n",
              "      <td>0</td>\n",
              "    </tr>\n",
              "    <tr>\n",
              "      <th>9997</th>\n",
              "      <td>9998</td>\n",
              "      <td>15584532</td>\n",
              "      <td>Liu</td>\n",
              "      <td>709</td>\n",
              "      <td>France</td>\n",
              "      <td>Female</td>\n",
              "      <td>36</td>\n",
              "      <td>7</td>\n",
              "      <td>0.00</td>\n",
              "      <td>1</td>\n",
              "      <td>0</td>\n",
              "      <td>1</td>\n",
              "      <td>42085.58</td>\n",
              "      <td>1</td>\n",
              "    </tr>\n",
              "    <tr>\n",
              "      <th>9998</th>\n",
              "      <td>9999</td>\n",
              "      <td>15682355</td>\n",
              "      <td>Sabbatini</td>\n",
              "      <td>772</td>\n",
              "      <td>Germany</td>\n",
              "      <td>Male</td>\n",
              "      <td>42</td>\n",
              "      <td>3</td>\n",
              "      <td>75075.31</td>\n",
              "      <td>2</td>\n",
              "      <td>1</td>\n",
              "      <td>0</td>\n",
              "      <td>92888.52</td>\n",
              "      <td>1</td>\n",
              "    </tr>\n",
              "    <tr>\n",
              "      <th>9999</th>\n",
              "      <td>10000</td>\n",
              "      <td>15628319</td>\n",
              "      <td>Walker</td>\n",
              "      <td>792</td>\n",
              "      <td>France</td>\n",
              "      <td>Female</td>\n",
              "      <td>28</td>\n",
              "      <td>4</td>\n",
              "      <td>130142.79</td>\n",
              "      <td>1</td>\n",
              "      <td>1</td>\n",
              "      <td>0</td>\n",
              "      <td>38190.78</td>\n",
              "      <td>0</td>\n",
              "    </tr>\n",
              "  </tbody>\n",
              "</table>\n",
              "<p>10000 rows × 14 columns</p>\n",
              "</div>"
            ],
            "text/plain": [
              "      RowNumber  CustomerId    Surname  ...  IsActiveMember EstimatedSalary Exited\n",
              "0             1    15634602   Hargrave  ...               1       101348.88      1\n",
              "1             2    15647311       Hill  ...               1       112542.58      0\n",
              "2             3    15619304       Onio  ...               0       113931.57      1\n",
              "3             4    15701354       Boni  ...               0        93826.63      0\n",
              "4             5    15737888   Mitchell  ...               1        79084.10      0\n",
              "...         ...         ...        ...  ...             ...             ...    ...\n",
              "9995       9996    15606229   Obijiaku  ...               0        96270.64      0\n",
              "9996       9997    15569892  Johnstone  ...               1       101699.77      0\n",
              "9997       9998    15584532        Liu  ...               1        42085.58      1\n",
              "9998       9999    15682355  Sabbatini  ...               0        92888.52      1\n",
              "9999      10000    15628319     Walker  ...               0        38190.78      0\n",
              "\n",
              "[10000 rows x 14 columns]"
            ]
          },
          "metadata": {},
          "execution_count": 4
        }
      ]
    },
    {
      "cell_type": "code",
      "metadata": {
        "id": "69aU13cA2hR0",
        "colab": {
          "base_uri": "https://localhost:8080/"
        },
        "outputId": "c249516f-a193-4c5c-8d35-4004a052aa05"
      },
      "source": [
        "# Concise summary of dataframe\n",
        "df.info()"
      ],
      "execution_count": null,
      "outputs": [
        {
          "output_type": "stream",
          "name": "stdout",
          "text": [
            "<class 'pandas.core.frame.DataFrame'>\n",
            "RangeIndex: 10000 entries, 0 to 9999\n",
            "Data columns (total 14 columns):\n",
            " #   Column           Non-Null Count  Dtype  \n",
            "---  ------           --------------  -----  \n",
            " 0   RowNumber        10000 non-null  int64  \n",
            " 1   CustomerId       10000 non-null  int64  \n",
            " 2   Surname          10000 non-null  object \n",
            " 3   CreditScore      10000 non-null  int64  \n",
            " 4   Geography        10000 non-null  object \n",
            " 5   Gender           10000 non-null  object \n",
            " 6   Age              10000 non-null  int64  \n",
            " 7   Tenure           10000 non-null  int64  \n",
            " 8   Balance          10000 non-null  float64\n",
            " 9   NumOfProducts    10000 non-null  int64  \n",
            " 10  HasCrCard        10000 non-null  int64  \n",
            " 11  IsActiveMember   10000 non-null  int64  \n",
            " 12  EstimatedSalary  10000 non-null  float64\n",
            " 13  Exited           10000 non-null  int64  \n",
            "dtypes: float64(2), int64(9), object(3)\n",
            "memory usage: 1.1+ MB\n"
          ]
        }
      ]
    },
    {
      "cell_type": "code",
      "metadata": {
        "id": "rrwruNW62h_8",
        "colab": {
          "base_uri": "https://localhost:8080/"
        },
        "outputId": "462e236d-51ab-4412-a5cb-e19d6d2e60f4"
      },
      "source": [
        "# Generate descriptive statistics\n",
        "df.describe()"
      ],
      "execution_count": null,
      "outputs": [
        {
          "output_type": "execute_result",
          "data": {
            "text/html": [
              "<div>\n",
              "<style scoped>\n",
              "    .dataframe tbody tr th:only-of-type {\n",
              "        vertical-align: middle;\n",
              "    }\n",
              "\n",
              "    .dataframe tbody tr th {\n",
              "        vertical-align: top;\n",
              "    }\n",
              "\n",
              "    .dataframe thead th {\n",
              "        text-align: right;\n",
              "    }\n",
              "</style>\n",
              "<table border=\"1\" class=\"dataframe\">\n",
              "  <thead>\n",
              "    <tr style=\"text-align: right;\">\n",
              "      <th></th>\n",
              "      <th>RowNumber</th>\n",
              "      <th>CustomerId</th>\n",
              "      <th>CreditScore</th>\n",
              "      <th>Age</th>\n",
              "      <th>Tenure</th>\n",
              "      <th>Balance</th>\n",
              "      <th>NumOfProducts</th>\n",
              "      <th>HasCrCard</th>\n",
              "      <th>IsActiveMember</th>\n",
              "      <th>EstimatedSalary</th>\n",
              "      <th>Exited</th>\n",
              "    </tr>\n",
              "  </thead>\n",
              "  <tbody>\n",
              "    <tr>\n",
              "      <th>count</th>\n",
              "      <td>10000.00000</td>\n",
              "      <td>1.000000e+04</td>\n",
              "      <td>10000.000000</td>\n",
              "      <td>10000.000000</td>\n",
              "      <td>10000.000000</td>\n",
              "      <td>10000.000000</td>\n",
              "      <td>10000.000000</td>\n",
              "      <td>10000.00000</td>\n",
              "      <td>10000.000000</td>\n",
              "      <td>10000.000000</td>\n",
              "      <td>10000.000000</td>\n",
              "    </tr>\n",
              "    <tr>\n",
              "      <th>mean</th>\n",
              "      <td>5000.50000</td>\n",
              "      <td>1.569094e+07</td>\n",
              "      <td>650.528800</td>\n",
              "      <td>38.921800</td>\n",
              "      <td>5.012800</td>\n",
              "      <td>76485.889288</td>\n",
              "      <td>1.530200</td>\n",
              "      <td>0.70550</td>\n",
              "      <td>0.515100</td>\n",
              "      <td>100090.239881</td>\n",
              "      <td>0.203700</td>\n",
              "    </tr>\n",
              "    <tr>\n",
              "      <th>std</th>\n",
              "      <td>2886.89568</td>\n",
              "      <td>7.193619e+04</td>\n",
              "      <td>96.653299</td>\n",
              "      <td>10.487806</td>\n",
              "      <td>2.892174</td>\n",
              "      <td>62397.405202</td>\n",
              "      <td>0.581654</td>\n",
              "      <td>0.45584</td>\n",
              "      <td>0.499797</td>\n",
              "      <td>57510.492818</td>\n",
              "      <td>0.402769</td>\n",
              "    </tr>\n",
              "    <tr>\n",
              "      <th>min</th>\n",
              "      <td>1.00000</td>\n",
              "      <td>1.556570e+07</td>\n",
              "      <td>350.000000</td>\n",
              "      <td>18.000000</td>\n",
              "      <td>0.000000</td>\n",
              "      <td>0.000000</td>\n",
              "      <td>1.000000</td>\n",
              "      <td>0.00000</td>\n",
              "      <td>0.000000</td>\n",
              "      <td>11.580000</td>\n",
              "      <td>0.000000</td>\n",
              "    </tr>\n",
              "    <tr>\n",
              "      <th>25%</th>\n",
              "      <td>2500.75000</td>\n",
              "      <td>1.562853e+07</td>\n",
              "      <td>584.000000</td>\n",
              "      <td>32.000000</td>\n",
              "      <td>3.000000</td>\n",
              "      <td>0.000000</td>\n",
              "      <td>1.000000</td>\n",
              "      <td>0.00000</td>\n",
              "      <td>0.000000</td>\n",
              "      <td>51002.110000</td>\n",
              "      <td>0.000000</td>\n",
              "    </tr>\n",
              "    <tr>\n",
              "      <th>50%</th>\n",
              "      <td>5000.50000</td>\n",
              "      <td>1.569074e+07</td>\n",
              "      <td>652.000000</td>\n",
              "      <td>37.000000</td>\n",
              "      <td>5.000000</td>\n",
              "      <td>97198.540000</td>\n",
              "      <td>1.000000</td>\n",
              "      <td>1.00000</td>\n",
              "      <td>1.000000</td>\n",
              "      <td>100193.915000</td>\n",
              "      <td>0.000000</td>\n",
              "    </tr>\n",
              "    <tr>\n",
              "      <th>75%</th>\n",
              "      <td>7500.25000</td>\n",
              "      <td>1.575323e+07</td>\n",
              "      <td>718.000000</td>\n",
              "      <td>44.000000</td>\n",
              "      <td>7.000000</td>\n",
              "      <td>127644.240000</td>\n",
              "      <td>2.000000</td>\n",
              "      <td>1.00000</td>\n",
              "      <td>1.000000</td>\n",
              "      <td>149388.247500</td>\n",
              "      <td>0.000000</td>\n",
              "    </tr>\n",
              "    <tr>\n",
              "      <th>max</th>\n",
              "      <td>10000.00000</td>\n",
              "      <td>1.581569e+07</td>\n",
              "      <td>850.000000</td>\n",
              "      <td>92.000000</td>\n",
              "      <td>10.000000</td>\n",
              "      <td>250898.090000</td>\n",
              "      <td>4.000000</td>\n",
              "      <td>1.00000</td>\n",
              "      <td>1.000000</td>\n",
              "      <td>199992.480000</td>\n",
              "      <td>1.000000</td>\n",
              "    </tr>\n",
              "  </tbody>\n",
              "</table>\n",
              "</div>"
            ],
            "text/plain": [
              "         RowNumber    CustomerId  ...  EstimatedSalary        Exited\n",
              "count  10000.00000  1.000000e+04  ...     10000.000000  10000.000000\n",
              "mean    5000.50000  1.569094e+07  ...    100090.239881      0.203700\n",
              "std     2886.89568  7.193619e+04  ...     57510.492818      0.402769\n",
              "min        1.00000  1.556570e+07  ...        11.580000      0.000000\n",
              "25%     2500.75000  1.562853e+07  ...     51002.110000      0.000000\n",
              "50%     5000.50000  1.569074e+07  ...    100193.915000      0.000000\n",
              "75%     7500.25000  1.575323e+07  ...    149388.247500      0.000000\n",
              "max    10000.00000  1.581569e+07  ...    199992.480000      1.000000\n",
              "\n",
              "[8 rows x 11 columns]"
            ]
          },
          "metadata": {},
          "execution_count": 4
        }
      ]
    },
    {
      "cell_type": "markdown",
      "metadata": {
        "id": "BfLlgZ5hdPkM"
      },
      "source": [
        "# Business Understanding"
      ]
    },
    {
      "cell_type": "markdown",
      "metadata": {
        "id": "AlDpUQhDdR3K"
      },
      "source": [
        "Suatu Bank memiliki dataset mengenai pelanggan yang bertahan atau tidak dalam menggunakan produknya. Maka dengan churn modelling ini, Bank akan memprediksi untuk pelanggan baru di masa mendatang apakah pelanggan akan berhenti / tidak menggunakan produk Bank tersebut berdasarkan dengan data dan variabel yang ada. \n",
        "\n"
      ]
    },
    {
      "cell_type": "markdown",
      "metadata": {
        "id": "Vur3bOSt2EIT"
      },
      "source": [
        "# Exploratory and Visualization"
      ]
    },
    {
      "cell_type": "code",
      "metadata": {
        "id": "la35nYwY2LAE"
      },
      "source": [
        "# Set the plot style\n",
        "sns.set_style('whitegrid')"
      ],
      "execution_count": null,
      "outputs": []
    },
    {
      "cell_type": "markdown",
      "metadata": {
        "id": "nylqBsCh7CUx"
      },
      "source": [
        "## Univariate Analysis\n",
        "\n",
        "Untuk melihat karakteristik masing-masing variabel"
      ]
    },
    {
      "cell_type": "markdown",
      "metadata": {
        "id": "W2eidU_R7HRQ"
      },
      "source": [
        "### CreditScore"
      ]
    },
    {
      "cell_type": "code",
      "metadata": {
        "id": "Jlgv19h07NY5",
        "colab": {
          "base_uri": "https://localhost:8080/"
        },
        "outputId": "979c2356-ffa8-47f7-85ef-4a2f556bdc8f"
      },
      "source": [
        "df[['CreditScore']].describe()"
      ],
      "execution_count": null,
      "outputs": [
        {
          "output_type": "execute_result",
          "data": {
            "text/html": [
              "<div>\n",
              "<style scoped>\n",
              "    .dataframe tbody tr th:only-of-type {\n",
              "        vertical-align: middle;\n",
              "    }\n",
              "\n",
              "    .dataframe tbody tr th {\n",
              "        vertical-align: top;\n",
              "    }\n",
              "\n",
              "    .dataframe thead th {\n",
              "        text-align: right;\n",
              "    }\n",
              "</style>\n",
              "<table border=\"1\" class=\"dataframe\">\n",
              "  <thead>\n",
              "    <tr style=\"text-align: right;\">\n",
              "      <th></th>\n",
              "      <th>CreditScore</th>\n",
              "    </tr>\n",
              "  </thead>\n",
              "  <tbody>\n",
              "    <tr>\n",
              "      <th>count</th>\n",
              "      <td>10000.000000</td>\n",
              "    </tr>\n",
              "    <tr>\n",
              "      <th>mean</th>\n",
              "      <td>650.528800</td>\n",
              "    </tr>\n",
              "    <tr>\n",
              "      <th>std</th>\n",
              "      <td>96.653299</td>\n",
              "    </tr>\n",
              "    <tr>\n",
              "      <th>min</th>\n",
              "      <td>350.000000</td>\n",
              "    </tr>\n",
              "    <tr>\n",
              "      <th>25%</th>\n",
              "      <td>584.000000</td>\n",
              "    </tr>\n",
              "    <tr>\n",
              "      <th>50%</th>\n",
              "      <td>652.000000</td>\n",
              "    </tr>\n",
              "    <tr>\n",
              "      <th>75%</th>\n",
              "      <td>718.000000</td>\n",
              "    </tr>\n",
              "    <tr>\n",
              "      <th>max</th>\n",
              "      <td>850.000000</td>\n",
              "    </tr>\n",
              "  </tbody>\n",
              "</table>\n",
              "</div>"
            ],
            "text/plain": [
              "        CreditScore\n",
              "count  10000.000000\n",
              "mean     650.528800\n",
              "std       96.653299\n",
              "min      350.000000\n",
              "25%      584.000000\n",
              "50%      652.000000\n",
              "75%      718.000000\n",
              "max      850.000000"
            ]
          },
          "metadata": {},
          "execution_count": 6
        }
      ]
    },
    {
      "cell_type": "code",
      "metadata": {
        "id": "5RDWDd877wfd",
        "colab": {
          "base_uri": "https://localhost:8080/"
        },
        "outputId": "60d48c60-3b9d-4380-8a38-8982f0cf1f08"
      },
      "source": [
        "df[['CreditScore']].mode().rename(index={0: 'Mode'})"
      ],
      "execution_count": null,
      "outputs": [
        {
          "output_type": "execute_result",
          "data": {
            "text/html": [
              "<div>\n",
              "<style scoped>\n",
              "    .dataframe tbody tr th:only-of-type {\n",
              "        vertical-align: middle;\n",
              "    }\n",
              "\n",
              "    .dataframe tbody tr th {\n",
              "        vertical-align: top;\n",
              "    }\n",
              "\n",
              "    .dataframe thead th {\n",
              "        text-align: right;\n",
              "    }\n",
              "</style>\n",
              "<table border=\"1\" class=\"dataframe\">\n",
              "  <thead>\n",
              "    <tr style=\"text-align: right;\">\n",
              "      <th></th>\n",
              "      <th>CreditScore</th>\n",
              "    </tr>\n",
              "  </thead>\n",
              "  <tbody>\n",
              "    <tr>\n",
              "      <th>Mode</th>\n",
              "      <td>850</td>\n",
              "    </tr>\n",
              "  </tbody>\n",
              "</table>\n",
              "</div>"
            ],
            "text/plain": [
              "      CreditScore\n",
              "Mode          850"
            ]
          },
          "metadata": {},
          "execution_count": 7
        }
      ]
    },
    {
      "cell_type": "code",
      "metadata": {
        "id": "vIQj3qKI_Xnt",
        "colab": {
          "base_uri": "https://localhost:8080/"
        },
        "outputId": "9504fb26-807f-4b1d-b9ca-45b4ab824f1f"
      },
      "source": [
        "sns.histplot(df['CreditScore'],bins=100,kde='True');"
      ],
      "execution_count": null,
      "outputs": [
        {
          "output_type": "display_data",
          "data": {
            "image/png": "[encoded data removed]",
            "text/plain": [
              "<Figure size 432x288 with 1 Axes>"
            ]
          },
          "metadata": {}
        }
      ]
    },
    {
      "cell_type": "code",
      "metadata": {
        "id": "0W-PD5g-L_Ge",
        "colab": {
          "base_uri": "https://localhost:8080/"
        },
        "outputId": "a5a88ab0-a951-4299-d14c-2756f3aba187"
      },
      "source": [
        "# Menghitung rentang antar kuartil serta batas-batas pencilan\n",
        "Q1 = df['CreditScore'].quantile(q = 0.25)\n",
        "Q3 = df['CreditScore'].quantile(q = 0.75)\n",
        "IQR = Q3 - Q1\n",
        "UIF = Q3 + 1.5 * IQR\n",
        "LIF = Q1 - 1.5 * IQR\n",
        "UOF = Q3 + 3 * IQR\n",
        "LOF = Q1 - 3 * IQR\n",
        "print('Rentang antar kuartil: ', IQR)\n",
        "print('Batas luar atas: ', UOF)\n",
        "print('Batas dalam atas: ', UIF)\n",
        "print('Batas dalam bawah: ', LIF)\n",
        "print('Batas luar bawah: ', LOF)"
      ],
      "execution_count": null,
      "outputs": [
        {
          "output_type": "stream",
          "name": "stdout",
          "text": [
            "Rentang antar kuartil:  134.0\n",
            "Batas luar atas:  1120.0\n",
            "Batas dalam atas:  919.0\n",
            "Batas dalam bawah:  383.0\n",
            "Batas luar bawah:  182.0\n"
          ]
        }
      ]
    },
    {
      "cell_type": "code",
      "metadata": {
        "id": "uiSSdz6Ntgid",
        "colab": {
          "base_uri": "https://localhost:8080/"
        },
        "outputId": "a3839458-b730-4f42-e371-9a137c552816"
      },
      "source": [
        "# Mengidentifikasi pencilan di atas batas luar atas\n",
        "print('Di atas batas luar atas:')\n",
        "df['CreditScore'][df['CreditScore'] > UOF]"
      ],
      "execution_count": null,
      "outputs": [
        {
          "output_type": "stream",
          "name": "stdout",
          "text": [
            "Di atas batas luar atas:\n"
          ]
        },
        {
          "output_type": "execute_result",
          "data": {
            "text/plain": [
              "Series([], Name: CreditScore, dtype: int64)"
            ]
          },
          "metadata": {},
          "execution_count": 10
        }
      ]
    },
    {
      "cell_type": "code",
      "metadata": {
        "id": "JqpSzwgZOHXe",
        "colab": {
          "base_uri": "https://localhost:8080/"
        },
        "outputId": "c49a11ec-d7bf-4250-9ad6-b1df954d4acd"
      },
      "source": [
        "# Mengidentifikasi pencilan di atas batas dalam atas\n",
        "print('Di atas batas dalam atas:')\n",
        "df['CreditScore'][df['CreditScore'] > UIF]"
      ],
      "execution_count": null,
      "outputs": [
        {
          "output_type": "stream",
          "name": "stdout",
          "text": [
            "Di atas batas dalam atas:\n"
          ]
        },
        {
          "output_type": "execute_result",
          "data": {
            "text/plain": [
              "Series([], Name: CreditScore, dtype: int64)"
            ]
          },
          "metadata": {},
          "execution_count": 11
        }
      ]
    },
    {
      "cell_type": "code",
      "metadata": {
        "id": "dPtsxZeHQPMa",
        "colab": {
          "base_uri": "https://localhost:8080/"
        },
        "outputId": "6587aeae-f92c-4fb2-b950-d320b34f28e6"
      },
      "source": [
        "# Mengidentifikasi pencilan di bawah batas dalam bawah\n",
        "print('Di bawah batas dalam bawah:')\n",
        "df['CreditScore'][df['CreditScore'] < LIF]"
      ],
      "execution_count": null,
      "outputs": [
        {
          "output_type": "stream",
          "name": "stdout",
          "text": [
            "Di bawah batas dalam bawah:\n"
          ]
        },
        {
          "output_type": "execute_result",
          "data": {
            "text/plain": [
              "7       376\n",
              "942     376\n",
              "1193    363\n",
              "1405    359\n",
              "1631    350\n",
              "1838    350\n",
              "1962    358\n",
              "2473    351\n",
              "2579    365\n",
              "8154    367\n",
              "8723    350\n",
              "8762    350\n",
              "9210    382\n",
              "9356    373\n",
              "9624    350\n",
              "Name: CreditScore, dtype: int64"
            ]
          },
          "metadata": {},
          "execution_count": 12
        }
      ]
    },
    {
      "cell_type": "code",
      "metadata": {
        "id": "1VifrPJHQUD5",
        "colab": {
          "base_uri": "https://localhost:8080/"
        },
        "outputId": "473b5ecb-16e6-4bc5-fa3e-719e90473718"
      },
      "source": [
        "# Mengidentifikasi pencilan di bawah batas luar bawah\n",
        "print('Di bawah batas luar bawah:')\n",
        "df['CreditScore'][df['CreditScore'] < LOF]"
      ],
      "execution_count": null,
      "outputs": [
        {
          "output_type": "stream",
          "name": "stdout",
          "text": [
            "Di bawah batas luar bawah:\n"
          ]
        },
        {
          "output_type": "execute_result",
          "data": {
            "text/plain": [
              "Series([], Name: CreditScore, dtype: int64)"
            ]
          },
          "metadata": {},
          "execution_count": 13
        }
      ]
    },
    {
      "cell_type": "code",
      "metadata": {
        "id": "2wJzksYWcfrd",
        "colab": {
          "base_uri": "https://localhost:8080/"
        },
        "outputId": "12cc4479-7f51-46ee-9ee4-dffa2997effc"
      },
      "source": [
        "sns.boxplot(x=df['CreditScore']);"
      ],
      "execution_count": null,
      "outputs": [
        {
          "output_type": "display_data",
          "data": {
            "image/png": "[encoded data removed]",
            "text/plain": [
              "<Figure size 432x288 with 1 Axes>"
            ]
          },
          "metadata": {}
        }
      ]
    },
    {
      "cell_type": "markdown",
      "metadata": {
        "id": "XSTfUrKFgAQU"
      },
      "source": [
        "### Geography"
      ]
    },
    {
      "cell_type": "code",
      "metadata": {
        "id": "ktvXI8HBgKe7",
        "colab": {
          "base_uri": "https://localhost:8080/"
        },
        "outputId": "6354312a-d332-4fb6-b6da-ec729f736c6c"
      },
      "source": [
        "df['Geography'].value_counts().rename_axis('Geography').to_frame('Count').sort_values(by='Geography')"
      ],
      "execution_count": null,
      "outputs": [
        {
          "output_type": "execute_result",
          "data": {
            "text/html": [
              "<div>\n",
              "<style scoped>\n",
              "    .dataframe tbody tr th:only-of-type {\n",
              "        vertical-align: middle;\n",
              "    }\n",
              "\n",
              "    .dataframe tbody tr th {\n",
              "        vertical-align: top;\n",
              "    }\n",
              "\n",
              "    .dataframe thead th {\n",
              "        text-align: right;\n",
              "    }\n",
              "</style>\n",
              "<table border=\"1\" class=\"dataframe\">\n",
              "  <thead>\n",
              "    <tr style=\"text-align: right;\">\n",
              "      <th></th>\n",
              "      <th>Count</th>\n",
              "    </tr>\n",
              "    <tr>\n",
              "      <th>Geography</th>\n",
              "      <th></th>\n",
              "    </tr>\n",
              "  </thead>\n",
              "  <tbody>\n",
              "    <tr>\n",
              "      <th>France</th>\n",
              "      <td>5014</td>\n",
              "    </tr>\n",
              "    <tr>\n",
              "      <th>Germany</th>\n",
              "      <td>2509</td>\n",
              "    </tr>\n",
              "    <tr>\n",
              "      <th>Spain</th>\n",
              "      <td>2477</td>\n",
              "    </tr>\n",
              "  </tbody>\n",
              "</table>\n",
              "</div>"
            ],
            "text/plain": [
              "           Count\n",
              "Geography       \n",
              "France      5014\n",
              "Germany     2509\n",
              "Spain       2477"
            ]
          },
          "metadata": {},
          "execution_count": 15
        }
      ]
    },
    {
      "cell_type": "code",
      "metadata": {
        "id": "gWYiJq70gSmk",
        "colab": {
          "base_uri": "https://localhost:8080/"
        },
        "outputId": "840b51eb-a9f1-4fd8-ab93-bcc6d97fdb8b"
      },
      "source": [
        "df['Geography'].value_counts().plot.pie(explode=[0,0,0.1],labels=['France','Germany','Spain'],autopct='%.2f%%',shadow=True,figsize=(5,5));"
      ],
      "execution_count": null,
      "outputs": [
        {
          "output_type": "display_data",
          "data": {
            "image/png": "[encoded data removed]",
            "text/plain": [
              "<Figure size 360x360 with 1 Axes>"
            ]
          },
          "metadata": {}
        }
      ]
    },
    {
      "cell_type": "markdown",
      "metadata": {
        "id": "r6h5SHuAz5po"
      },
      "source": [
        "Mayoritas pelanggan berasal dari Prancis"
      ]
    },
    {
      "cell_type": "markdown",
      "metadata": {
        "id": "G4y8h_6pggGQ"
      },
      "source": [
        "### Gender"
      ]
    },
    {
      "cell_type": "code",
      "metadata": {
        "id": "rrxfMGICgmgf",
        "colab": {
          "base_uri": "https://localhost:8080/"
        },
        "outputId": "cceab23e-cce5-4123-8056-eb7564547de4"
      },
      "source": [
        "df['Gender'].value_counts().rename_axis('Gender').to_frame('Count').sort_values(by='Gender')"
      ],
      "execution_count": null,
      "outputs": [
        {
          "output_type": "execute_result",
          "data": {
            "text/html": [
              "<div>\n",
              "<style scoped>\n",
              "    .dataframe tbody tr th:only-of-type {\n",
              "        vertical-align: middle;\n",
              "    }\n",
              "\n",
              "    .dataframe tbody tr th {\n",
              "        vertical-align: top;\n",
              "    }\n",
              "\n",
              "    .dataframe thead th {\n",
              "        text-align: right;\n",
              "    }\n",
              "</style>\n",
              "<table border=\"1\" class=\"dataframe\">\n",
              "  <thead>\n",
              "    <tr style=\"text-align: right;\">\n",
              "      <th></th>\n",
              "      <th>Count</th>\n",
              "    </tr>\n",
              "    <tr>\n",
              "      <th>Gender</th>\n",
              "      <th></th>\n",
              "    </tr>\n",
              "  </thead>\n",
              "  <tbody>\n",
              "    <tr>\n",
              "      <th>Female</th>\n",
              "      <td>4543</td>\n",
              "    </tr>\n",
              "    <tr>\n",
              "      <th>Male</th>\n",
              "      <td>5457</td>\n",
              "    </tr>\n",
              "  </tbody>\n",
              "</table>\n",
              "</div>"
            ],
            "text/plain": [
              "        Count\n",
              "Gender       \n",
              "Female   4543\n",
              "Male     5457"
            ]
          },
          "metadata": {},
          "execution_count": 17
        }
      ]
    },
    {
      "cell_type": "code",
      "metadata": {
        "id": "kJBntn1Zg08H",
        "colab": {
          "base_uri": "https://localhost:8080/"
        },
        "outputId": "f249ec85-20f5-445e-bc73-bbac29e22f8b"
      },
      "source": [
        "df['Gender'].value_counts().plot.pie(explode=[0,0.1],labels=['Male','Female'],autopct='%.2f%%',shadow=True,figsize=(5,5));"
      ],
      "execution_count": null,
      "outputs": [
        {
          "output_type": "display_data",
          "data": {
            "image/png": "[encoded data removed]",
            "text/plain": [
              "<Figure size 360x360 with 1 Axes>"
            ]
          },
          "metadata": {}
        }
      ]
    },
    {
      "cell_type": "markdown",
      "metadata": {
        "id": "UKxm5alPhMsr"
      },
      "source": [
        "### Age"
      ]
    },
    {
      "cell_type": "code",
      "metadata": {
        "id": "K4xfuATVrPOH",
        "colab": {
          "base_uri": "https://localhost:8080/"
        },
        "outputId": "af2f7a2b-a9a0-4ae1-8666-bfe79ea9d09b"
      },
      "source": [
        "df[['Age']].describe()"
      ],
      "execution_count": null,
      "outputs": [
        {
          "output_type": "execute_result",
          "data": {
            "text/html": [
              "<div>\n",
              "<style scoped>\n",
              "    .dataframe tbody tr th:only-of-type {\n",
              "        vertical-align: middle;\n",
              "    }\n",
              "\n",
              "    .dataframe tbody tr th {\n",
              "        vertical-align: top;\n",
              "    }\n",
              "\n",
              "    .dataframe thead th {\n",
              "        text-align: right;\n",
              "    }\n",
              "</style>\n",
              "<table border=\"1\" class=\"dataframe\">\n",
              "  <thead>\n",
              "    <tr style=\"text-align: right;\">\n",
              "      <th></th>\n",
              "      <th>Age</th>\n",
              "    </tr>\n",
              "  </thead>\n",
              "  <tbody>\n",
              "    <tr>\n",
              "      <th>count</th>\n",
              "      <td>10000.000000</td>\n",
              "    </tr>\n",
              "    <tr>\n",
              "      <th>mean</th>\n",
              "      <td>38.921800</td>\n",
              "    </tr>\n",
              "    <tr>\n",
              "      <th>std</th>\n",
              "      <td>10.487806</td>\n",
              "    </tr>\n",
              "    <tr>\n",
              "      <th>min</th>\n",
              "      <td>18.000000</td>\n",
              "    </tr>\n",
              "    <tr>\n",
              "      <th>25%</th>\n",
              "      <td>32.000000</td>\n",
              "    </tr>\n",
              "    <tr>\n",
              "      <th>50%</th>\n",
              "      <td>37.000000</td>\n",
              "    </tr>\n",
              "    <tr>\n",
              "      <th>75%</th>\n",
              "      <td>44.000000</td>\n",
              "    </tr>\n",
              "    <tr>\n",
              "      <th>max</th>\n",
              "      <td>92.000000</td>\n",
              "    </tr>\n",
              "  </tbody>\n",
              "</table>\n",
              "</div>"
            ],
            "text/plain": [
              "                Age\n",
              "count  10000.000000\n",
              "mean      38.921800\n",
              "std       10.487806\n",
              "min       18.000000\n",
              "25%       32.000000\n",
              "50%       37.000000\n",
              "75%       44.000000\n",
              "max       92.000000"
            ]
          },
          "metadata": {},
          "execution_count": 19
        }
      ]
    },
    {
      "cell_type": "code",
      "metadata": {
        "id": "DlHnvR7Ortt8",
        "colab": {
          "base_uri": "https://localhost:8080/"
        },
        "outputId": "51c648cf-9696-4998-c604-0516d36ef1ee"
      },
      "source": [
        "df[['Age']].mode().rename(index={0: 'Mode'})"
      ],
      "execution_count": null,
      "outputs": [
        {
          "output_type": "execute_result",
          "data": {
            "text/html": [
              "<div>\n",
              "<style scoped>\n",
              "    .dataframe tbody tr th:only-of-type {\n",
              "        vertical-align: middle;\n",
              "    }\n",
              "\n",
              "    .dataframe tbody tr th {\n",
              "        vertical-align: top;\n",
              "    }\n",
              "\n",
              "    .dataframe thead th {\n",
              "        text-align: right;\n",
              "    }\n",
              "</style>\n",
              "<table border=\"1\" class=\"dataframe\">\n",
              "  <thead>\n",
              "    <tr style=\"text-align: right;\">\n",
              "      <th></th>\n",
              "      <th>Age</th>\n",
              "    </tr>\n",
              "  </thead>\n",
              "  <tbody>\n",
              "    <tr>\n",
              "      <th>Mode</th>\n",
              "      <td>37</td>\n",
              "    </tr>\n",
              "  </tbody>\n",
              "</table>\n",
              "</div>"
            ],
            "text/plain": [
              "      Age\n",
              "Mode   37"
            ]
          },
          "metadata": {},
          "execution_count": 20
        }
      ]
    },
    {
      "cell_type": "code",
      "metadata": {
        "id": "IRqY4PDhr4m3",
        "colab": {
          "base_uri": "https://localhost:8080/"
        },
        "outputId": "97e76439-0b02-4c99-dd20-62f0708bbea0"
      },
      "source": [
        "sns.histplot(df['Age'],bins=25,kde='True');"
      ],
      "execution_count": null,
      "outputs": [
        {
          "output_type": "display_data",
          "data": {
            "image/png": "[encoded data removed]",
            "text/plain": [
              "<Figure size 432x288 with 1 Axes>"
            ]
          },
          "metadata": {}
        }
      ]
    },
    {
      "cell_type": "code",
      "metadata": {
        "id": "V5yc_MYcshL4",
        "colab": {
          "base_uri": "https://localhost:8080/"
        },
        "outputId": "5329195b-17c2-4914-af8c-3fbe011a4a3b"
      },
      "source": [
        "# Menghitung rentang antar kuartil serta batas-batas pencilan\n",
        "Q1 = df['Age'].quantile(q = 0.25)\n",
        "Q3 = df['Age'].quantile(q = 0.75)\n",
        "IQR = Q3 - Q1\n",
        "UIF = Q3 + 1.5 * IQR\n",
        "LIF = Q1 - 1.5 * IQR\n",
        "UOF = Q3 + 3 * IQR\n",
        "LOF = Q1 - 3 * IQR\n",
        "print('Rentang antar kuartil: ', IQR)\n",
        "print('Batas luar atas: ', UOF)\n",
        "print('Batas dalam atas: ', UIF)\n",
        "print('Batas dalam bawah: ', LIF)\n",
        "print('Batas luar bawah: ', LOF)"
      ],
      "execution_count": null,
      "outputs": [
        {
          "output_type": "stream",
          "name": "stdout",
          "text": [
            "Rentang antar kuartil:  12.0\n",
            "Batas luar atas:  80.0\n",
            "Batas dalam atas:  62.0\n",
            "Batas dalam bawah:  14.0\n",
            "Batas luar bawah:  -4.0\n"
          ]
        }
      ]
    },
    {
      "cell_type": "code",
      "metadata": {
        "id": "kfOel0Nztzkd",
        "colab": {
          "base_uri": "https://localhost:8080/"
        },
        "outputId": "7051659d-3214-42d1-ecab-0c2b8a8c4087"
      },
      "source": [
        "# Mengidentifikasi pencilan di atas batas luar atas\n",
        "print('Di atas batas luar atas:')\n",
        "df['Age'][df['Age'] > UOF]"
      ],
      "execution_count": null,
      "outputs": [
        {
          "output_type": "stream",
          "name": "stdout",
          "text": [
            "Di atas batas luar atas:\n"
          ]
        },
        {
          "output_type": "execute_result",
          "data": {
            "text/plain": [
              "766     82\n",
              "2458    88\n",
              "3033    85\n",
              "3387    84\n",
              "3531    84\n",
              "4931    81\n",
              "6443    92\n",
              "6759    92\n",
              "7526    81\n",
              "7956    81\n",
              "9080    81\n",
              "9309    83\n",
              "Name: Age, dtype: int64"
            ]
          },
          "metadata": {},
          "execution_count": 23
        }
      ]
    },
    {
      "cell_type": "code",
      "metadata": {
        "id": "XbuYwIG_sn_3",
        "colab": {
          "base_uri": "https://localhost:8080/"
        },
        "outputId": "95925f52-041a-4a61-c740-820406072f25"
      },
      "source": [
        "# Mengidentifikasi pencilan di atas batas dalam atas\n",
        "print('Di atas batas dalam atas:')\n",
        "df['Age'][df['Age'] > UIF]"
      ],
      "execution_count": null,
      "outputs": [
        {
          "output_type": "stream",
          "name": "stdout",
          "text": [
            "Di atas batas dalam atas:\n"
          ]
        },
        {
          "output_type": "execute_result",
          "data": {
            "text/plain": [
              "58      66\n",
              "85      75\n",
              "104     65\n",
              "158     73\n",
              "181     65\n",
              "        ..\n",
              "9753    68\n",
              "9765    64\n",
              "9832    64\n",
              "9894    77\n",
              "9936    77\n",
              "Name: Age, Length: 359, dtype: int64"
            ]
          },
          "metadata": {},
          "execution_count": 24
        }
      ]
    },
    {
      "cell_type": "code",
      "metadata": {
        "id": "bEHAUK2usz93",
        "colab": {
          "base_uri": "https://localhost:8080/"
        },
        "outputId": "353dc539-9494-482f-eb72-cc91022c0e52"
      },
      "source": [
        "# Mengidentifikasi pencilan di bawah batas dalam bawah\n",
        "print('Di bawah batas dalam bawah:')\n",
        "df['Age'][df['Age'] < LIF]"
      ],
      "execution_count": null,
      "outputs": [
        {
          "output_type": "stream",
          "name": "stdout",
          "text": [
            "Di bawah batas dalam bawah:\n"
          ]
        },
        {
          "output_type": "execute_result",
          "data": {
            "text/plain": [
              "Series([], Name: Age, dtype: int64)"
            ]
          },
          "metadata": {},
          "execution_count": 25
        }
      ]
    },
    {
      "cell_type": "code",
      "metadata": {
        "id": "R2caOcvCtHKh",
        "colab": {
          "base_uri": "https://localhost:8080/"
        },
        "outputId": "aded7a89-31ef-47c2-a794-3a3c26a4ee7b"
      },
      "source": [
        "# Mengidentifikasi pencilan di bawah batas luar bawah\n",
        "print('Di bawah batas luar bawah:')\n",
        "df['Age'][df['Age'] < LOF]"
      ],
      "execution_count": null,
      "outputs": [
        {
          "output_type": "stream",
          "name": "stdout",
          "text": [
            "Di bawah batas luar bawah:\n"
          ]
        },
        {
          "output_type": "execute_result",
          "data": {
            "text/plain": [
              "Series([], Name: Age, dtype: int64)"
            ]
          },
          "metadata": {},
          "execution_count": 26
        }
      ]
    },
    {
      "cell_type": "code",
      "metadata": {
        "id": "GSg6GM8EtksT",
        "colab": {
          "base_uri": "https://localhost:8080/"
        },
        "outputId": "caa0c244-9027-402e-e2a1-39d30ec417d8"
      },
      "source": [
        "sns.boxplot(x=df['Age']);"
      ],
      "execution_count": null,
      "outputs": [
        {
          "output_type": "display_data",
          "data": {
            "image/png": "[encoded data removed]",
            "text/plain": [
              "<Figure size 432x288 with 1 Axes>"
            ]
          },
          "metadata": {}
        }
      ]
    },
    {
      "cell_type": "markdown",
      "metadata": {
        "id": "WQj73Qmc0tWK"
      },
      "source": [
        "Mayoritas umur pelanggan berada pada rentang 30-40 tahun. Pelanggan yang berumur 60 tahun ke atas pun masih banyak yang menggunakan produk dari Bank tersebut."
      ]
    },
    {
      "cell_type": "markdown",
      "metadata": {
        "id": "LmTw0XWexWuO"
      },
      "source": [
        "### Tenure"
      ]
    },
    {
      "cell_type": "code",
      "metadata": {
        "id": "x-m13cMxxA51",
        "colab": {
          "base_uri": "https://localhost:8080/"
        },
        "outputId": "401ba027-855a-4853-90ed-04beab6b0ff0"
      },
      "source": [
        "df[['Tenure']].describe()"
      ],
      "execution_count": null,
      "outputs": [
        {
          "output_type": "execute_result",
          "data": {
            "text/html": [
              "<div>\n",
              "<style scoped>\n",
              "    .dataframe tbody tr th:only-of-type {\n",
              "        vertical-align: middle;\n",
              "    }\n",
              "\n",
              "    .dataframe tbody tr th {\n",
              "        vertical-align: top;\n",
              "    }\n",
              "\n",
              "    .dataframe thead th {\n",
              "        text-align: right;\n",
              "    }\n",
              "</style>\n",
              "<table border=\"1\" class=\"dataframe\">\n",
              "  <thead>\n",
              "    <tr style=\"text-align: right;\">\n",
              "      <th></th>\n",
              "      <th>Tenure</th>\n",
              "    </tr>\n",
              "  </thead>\n",
              "  <tbody>\n",
              "    <tr>\n",
              "      <th>count</th>\n",
              "      <td>10000.000000</td>\n",
              "    </tr>\n",
              "    <tr>\n",
              "      <th>mean</th>\n",
              "      <td>5.012800</td>\n",
              "    </tr>\n",
              "    <tr>\n",
              "      <th>std</th>\n",
              "      <td>2.892174</td>\n",
              "    </tr>\n",
              "    <tr>\n",
              "      <th>min</th>\n",
              "      <td>0.000000</td>\n",
              "    </tr>\n",
              "    <tr>\n",
              "      <th>25%</th>\n",
              "      <td>3.000000</td>\n",
              "    </tr>\n",
              "    <tr>\n",
              "      <th>50%</th>\n",
              "      <td>5.000000</td>\n",
              "    </tr>\n",
              "    <tr>\n",
              "      <th>75%</th>\n",
              "      <td>7.000000</td>\n",
              "    </tr>\n",
              "    <tr>\n",
              "      <th>max</th>\n",
              "      <td>10.000000</td>\n",
              "    </tr>\n",
              "  </tbody>\n",
              "</table>\n",
              "</div>"
            ],
            "text/plain": [
              "             Tenure\n",
              "count  10000.000000\n",
              "mean       5.012800\n",
              "std        2.892174\n",
              "min        0.000000\n",
              "25%        3.000000\n",
              "50%        5.000000\n",
              "75%        7.000000\n",
              "max       10.000000"
            ]
          },
          "metadata": {},
          "execution_count": 28
        }
      ]
    },
    {
      "cell_type": "code",
      "metadata": {
        "id": "LjR9mFLdxT1n",
        "colab": {
          "base_uri": "https://localhost:8080/"
        },
        "outputId": "12537b14-391b-4a3e-98f9-70bc7b1bc175"
      },
      "source": [
        "df[['Tenure']].mode().rename(index={0: 'Mode'})"
      ],
      "execution_count": null,
      "outputs": [
        {
          "output_type": "execute_result",
          "data": {
            "text/html": [
              "<div>\n",
              "<style scoped>\n",
              "    .dataframe tbody tr th:only-of-type {\n",
              "        vertical-align: middle;\n",
              "    }\n",
              "\n",
              "    .dataframe tbody tr th {\n",
              "        vertical-align: top;\n",
              "    }\n",
              "\n",
              "    .dataframe thead th {\n",
              "        text-align: right;\n",
              "    }\n",
              "</style>\n",
              "<table border=\"1\" class=\"dataframe\">\n",
              "  <thead>\n",
              "    <tr style=\"text-align: right;\">\n",
              "      <th></th>\n",
              "      <th>Tenure</th>\n",
              "    </tr>\n",
              "  </thead>\n",
              "  <tbody>\n",
              "    <tr>\n",
              "      <th>Mode</th>\n",
              "      <td>2</td>\n",
              "    </tr>\n",
              "  </tbody>\n",
              "</table>\n",
              "</div>"
            ],
            "text/plain": [
              "      Tenure\n",
              "Mode       2"
            ]
          },
          "metadata": {},
          "execution_count": 29
        }
      ]
    },
    {
      "cell_type": "code",
      "metadata": {
        "id": "_ffQ0r2-pPhI",
        "colab": {
          "base_uri": "https://localhost:8080/"
        },
        "outputId": "e351e96c-4e6b-4b3e-861d-cb405e608e22"
      },
      "source": [
        "df['Tenure'].value_counts().rename_axis('Tenure').to_frame('Count').sort_values(by='Tenure')"
      ],
      "execution_count": null,
      "outputs": [
        {
          "output_type": "execute_result",
          "data": {
            "text/html": [
              "<div>\n",
              "<style scoped>\n",
              "    .dataframe tbody tr th:only-of-type {\n",
              "        vertical-align: middle;\n",
              "    }\n",
              "\n",
              "    .dataframe tbody tr th {\n",
              "        vertical-align: top;\n",
              "    }\n",
              "\n",
              "    .dataframe thead th {\n",
              "        text-align: right;\n",
              "    }\n",
              "</style>\n",
              "<table border=\"1\" class=\"dataframe\">\n",
              "  <thead>\n",
              "    <tr style=\"text-align: right;\">\n",
              "      <th></th>\n",
              "      <th>Count</th>\n",
              "    </tr>\n",
              "    <tr>\n",
              "      <th>Tenure</th>\n",
              "      <th></th>\n",
              "    </tr>\n",
              "  </thead>\n",
              "  <tbody>\n",
              "    <tr>\n",
              "      <th>0</th>\n",
              "      <td>413</td>\n",
              "    </tr>\n",
              "    <tr>\n",
              "      <th>1</th>\n",
              "      <td>1035</td>\n",
              "    </tr>\n",
              "    <tr>\n",
              "      <th>2</th>\n",
              "      <td>1048</td>\n",
              "    </tr>\n",
              "    <tr>\n",
              "      <th>3</th>\n",
              "      <td>1009</td>\n",
              "    </tr>\n",
              "    <tr>\n",
              "      <th>4</th>\n",
              "      <td>989</td>\n",
              "    </tr>\n",
              "    <tr>\n",
              "      <th>5</th>\n",
              "      <td>1012</td>\n",
              "    </tr>\n",
              "    <tr>\n",
              "      <th>6</th>\n",
              "      <td>967</td>\n",
              "    </tr>\n",
              "    <tr>\n",
              "      <th>7</th>\n",
              "      <td>1028</td>\n",
              "    </tr>\n",
              "    <tr>\n",
              "      <th>8</th>\n",
              "      <td>1025</td>\n",
              "    </tr>\n",
              "    <tr>\n",
              "      <th>9</th>\n",
              "      <td>984</td>\n",
              "    </tr>\n",
              "    <tr>\n",
              "      <th>10</th>\n",
              "      <td>490</td>\n",
              "    </tr>\n",
              "  </tbody>\n",
              "</table>\n",
              "</div>"
            ],
            "text/plain": [
              "        Count\n",
              "Tenure       \n",
              "0         413\n",
              "1        1035\n",
              "2        1048\n",
              "3        1009\n",
              "4         989\n",
              "5        1012\n",
              "6         967\n",
              "7        1028\n",
              "8        1025\n",
              "9         984\n",
              "10        490"
            ]
          },
          "metadata": {},
          "execution_count": 30
        }
      ]
    },
    {
      "cell_type": "code",
      "metadata": {
        "id": "OiyEHmmixeWy",
        "colab": {
          "base_uri": "https://localhost:8080/"
        },
        "outputId": "92d58876-4e84-45d0-f001-21dad1fe20d4"
      },
      "source": [
        "sns.countplot(x=df['Tenure'],color='#2c7fb8');"
      ],
      "execution_count": null,
      "outputs": [
        {
          "output_type": "display_data",
          "data": {
            "image/png": "[encoded data removed]",
            "text/plain": [
              "<Figure size 432x288 with 1 Axes>"
            ]
          },
          "metadata": {}
        }
      ]
    },
    {
      "cell_type": "code",
      "metadata": {
        "id": "Y-Qctpstyr_k",
        "colab": {
          "base_uri": "https://localhost:8080/"
        },
        "outputId": "c3b81504-0379-41d0-ffd5-f681ac894575"
      },
      "source": [
        "# Menghitung rentang antar kuartil serta batas-batas pencilan\n",
        "Q1 = df['Tenure'].quantile(q = 0.25)\n",
        "Q3 = df['Tenure'].quantile(q = 0.75)\n",
        "IQR = Q3 - Q1\n",
        "UIF = Q3 + 1.5 * IQR\n",
        "LIF = Q1 - 1.5 * IQR\n",
        "UOF = Q3 + 3 * IQR\n",
        "LOF = Q1 - 3 * IQR\n",
        "print('Rentang antar kuartil: ', IQR)\n",
        "print('Batas luar atas: ', UOF)\n",
        "print('Batas dalam atas: ', UIF)\n",
        "print('Batas dalam bawah: ', LIF)\n",
        "print('Batas luar bawah: ', LOF)"
      ],
      "execution_count": null,
      "outputs": [
        {
          "output_type": "stream",
          "name": "stdout",
          "text": [
            "Rentang antar kuartil:  4.0\n",
            "Batas luar atas:  19.0\n",
            "Batas dalam atas:  13.0\n",
            "Batas dalam bawah:  -3.0\n",
            "Batas luar bawah:  -9.0\n"
          ]
        }
      ]
    },
    {
      "cell_type": "code",
      "metadata": {
        "id": "1jyRBc86y6_S",
        "colab": {
          "base_uri": "https://localhost:8080/"
        },
        "outputId": "74530af2-0ca2-4da2-cf19-918ba74eca95"
      },
      "source": [
        "# Mengidentifikasi pencilan di atas batas luar atas\n",
        "print('Di atas batas luar atas:')\n",
        "df['Tenure'][df['Tenure'] > UOF]"
      ],
      "execution_count": null,
      "outputs": [
        {
          "output_type": "stream",
          "name": "stdout",
          "text": [
            "Di atas batas luar atas:\n"
          ]
        },
        {
          "output_type": "execute_result",
          "data": {
            "text/plain": [
              "Series([], Name: Tenure, dtype: int64)"
            ]
          },
          "metadata": {},
          "execution_count": 33
        }
      ]
    },
    {
      "cell_type": "code",
      "metadata": {
        "id": "oeIQsviny6_T",
        "colab": {
          "base_uri": "https://localhost:8080/"
        },
        "outputId": "93d7c068-31a8-40c0-f874-fcf24ca6ef81"
      },
      "source": [
        "# Mengidentifikasi pencilan di atas batas dalam atas\n",
        "print('Di atas batas dalam atas:')\n",
        "df['Tenure'][df['Tenure'] > UIF]"
      ],
      "execution_count": null,
      "outputs": [
        {
          "output_type": "stream",
          "name": "stdout",
          "text": [
            "Di atas batas dalam atas:\n"
          ]
        },
        {
          "output_type": "execute_result",
          "data": {
            "text/plain": [
              "Series([], Name: Tenure, dtype: int64)"
            ]
          },
          "metadata": {},
          "execution_count": 34
        }
      ]
    },
    {
      "cell_type": "code",
      "metadata": {
        "id": "TguSEFnay6_U",
        "colab": {
          "base_uri": "https://localhost:8080/"
        },
        "outputId": "14d64fc1-053e-495a-ba1c-5ba855c36f34"
      },
      "source": [
        "# Mengidentifikasi pencilan di bawah batas dalam bawah\n",
        "print('Di bawah batas dalam bawah:')\n",
        "df['Tenure'][df['Tenure'] < LIF]"
      ],
      "execution_count": null,
      "outputs": [
        {
          "output_type": "stream",
          "name": "stdout",
          "text": [
            "Di bawah batas dalam bawah:\n"
          ]
        },
        {
          "output_type": "execute_result",
          "data": {
            "text/plain": [
              "Series([], Name: Tenure, dtype: int64)"
            ]
          },
          "metadata": {},
          "execution_count": 35
        }
      ]
    },
    {
      "cell_type": "code",
      "metadata": {
        "id": "ukKYxgB_y6_U",
        "colab": {
          "base_uri": "https://localhost:8080/"
        },
        "outputId": "5351dd92-b384-40d7-cbaa-66999932e3a3"
      },
      "source": [
        "# Mengidentifikasi pencilan di bawah batas luar bawah\n",
        "print('Di bawah batas luar bawah:')\n",
        "df['Tenure'][df['Tenure'] < LOF]"
      ],
      "execution_count": null,
      "outputs": [
        {
          "output_type": "stream",
          "name": "stdout",
          "text": [
            "Di bawah batas luar bawah:\n"
          ]
        },
        {
          "output_type": "execute_result",
          "data": {
            "text/plain": [
              "Series([], Name: Tenure, dtype: int64)"
            ]
          },
          "metadata": {},
          "execution_count": 36
        }
      ]
    },
    {
      "cell_type": "code",
      "metadata": {
        "id": "c5Fum9q2zN9Y",
        "colab": {
          "base_uri": "https://localhost:8080/"
        },
        "outputId": "fdd77bd8-931c-4326-fa9f-ad8d390c9c66"
      },
      "source": [
        "sns.boxplot(x=df['Tenure']);"
      ],
      "execution_count": null,
      "outputs": [
        {
          "output_type": "display_data",
          "data": {
            "image/png": "[encoded data removed]",
            "text/plain": [
              "<Figure size 432x288 with 1 Axes>"
            ]
          },
          "metadata": {}
        }
      ]
    },
    {
      "cell_type": "markdown",
      "metadata": {
        "id": "WFTqY0_ar02F"
      },
      "source": [
        "### Balance"
      ]
    },
    {
      "cell_type": "code",
      "metadata": {
        "id": "gg2cpq7_r-gI",
        "colab": {
          "base_uri": "https://localhost:8080/"
        },
        "outputId": "6594d60d-453f-407f-91e2-251293058674"
      },
      "source": [
        "df[['Balance']].describe()"
      ],
      "execution_count": null,
      "outputs": [
        {
          "output_type": "execute_result",
          "data": {
            "text/html": [
              "<div>\n",
              "<style scoped>\n",
              "    .dataframe tbody tr th:only-of-type {\n",
              "        vertical-align: middle;\n",
              "    }\n",
              "\n",
              "    .dataframe tbody tr th {\n",
              "        vertical-align: top;\n",
              "    }\n",
              "\n",
              "    .dataframe thead th {\n",
              "        text-align: right;\n",
              "    }\n",
              "</style>\n",
              "<table border=\"1\" class=\"dataframe\">\n",
              "  <thead>\n",
              "    <tr style=\"text-align: right;\">\n",
              "      <th></th>\n",
              "      <th>Balance</th>\n",
              "    </tr>\n",
              "  </thead>\n",
              "  <tbody>\n",
              "    <tr>\n",
              "      <th>count</th>\n",
              "      <td>10000.000000</td>\n",
              "    </tr>\n",
              "    <tr>\n",
              "      <th>mean</th>\n",
              "      <td>76485.889288</td>\n",
              "    </tr>\n",
              "    <tr>\n",
              "      <th>std</th>\n",
              "      <td>62397.405202</td>\n",
              "    </tr>\n",
              "    <tr>\n",
              "      <th>min</th>\n",
              "      <td>0.000000</td>\n",
              "    </tr>\n",
              "    <tr>\n",
              "      <th>25%</th>\n",
              "      <td>0.000000</td>\n",
              "    </tr>\n",
              "    <tr>\n",
              "      <th>50%</th>\n",
              "      <td>97198.540000</td>\n",
              "    </tr>\n",
              "    <tr>\n",
              "      <th>75%</th>\n",
              "      <td>127644.240000</td>\n",
              "    </tr>\n",
              "    <tr>\n",
              "      <th>max</th>\n",
              "      <td>250898.090000</td>\n",
              "    </tr>\n",
              "  </tbody>\n",
              "</table>\n",
              "</div>"
            ],
            "text/plain": [
              "             Balance\n",
              "count   10000.000000\n",
              "mean    76485.889288\n",
              "std     62397.405202\n",
              "min         0.000000\n",
              "25%         0.000000\n",
              "50%     97198.540000\n",
              "75%    127644.240000\n",
              "max    250898.090000"
            ]
          },
          "metadata": {},
          "execution_count": 38
        }
      ]
    },
    {
      "cell_type": "code",
      "metadata": {
        "id": "Pc7tjsnnsJkN",
        "colab": {
          "base_uri": "https://localhost:8080/"
        },
        "outputId": "a0033688-6e74-489f-ba2e-5f562a8a5803"
      },
      "source": [
        "df[['Balance']].mode().rename(index={0: 'Mode'})"
      ],
      "execution_count": null,
      "outputs": [
        {
          "output_type": "execute_result",
          "data": {
            "text/html": [
              "<div>\n",
              "<style scoped>\n",
              "    .dataframe tbody tr th:only-of-type {\n",
              "        vertical-align: middle;\n",
              "    }\n",
              "\n",
              "    .dataframe tbody tr th {\n",
              "        vertical-align: top;\n",
              "    }\n",
              "\n",
              "    .dataframe thead th {\n",
              "        text-align: right;\n",
              "    }\n",
              "</style>\n",
              "<table border=\"1\" class=\"dataframe\">\n",
              "  <thead>\n",
              "    <tr style=\"text-align: right;\">\n",
              "      <th></th>\n",
              "      <th>Balance</th>\n",
              "    </tr>\n",
              "  </thead>\n",
              "  <tbody>\n",
              "    <tr>\n",
              "      <th>Mode</th>\n",
              "      <td>0.0</td>\n",
              "    </tr>\n",
              "  </tbody>\n",
              "</table>\n",
              "</div>"
            ],
            "text/plain": [
              "      Balance\n",
              "Mode      0.0"
            ]
          },
          "metadata": {},
          "execution_count": 39
        }
      ]
    },
    {
      "cell_type": "code",
      "metadata": {
        "id": "2MrJblm8shbB",
        "colab": {
          "base_uri": "https://localhost:8080/"
        },
        "outputId": "454e6e86-b56b-414e-df22-b8557abbf454"
      },
      "source": [
        "sns.histplot(df['Balance'],bins=25,kde='True');"
      ],
      "execution_count": null,
      "outputs": [
        {
          "output_type": "display_data",
          "data": {
            "image/png": "[encoded data removed]",
            "text/plain": [
              "<Figure size 432x288 with 1 Axes>"
            ]
          },
          "metadata": {}
        }
      ]
    },
    {
      "cell_type": "code",
      "metadata": {
        "id": "EkBhJPV8tqAP",
        "colab": {
          "base_uri": "https://localhost:8080/"
        },
        "outputId": "f350c8f9-4507-4580-80ef-6f9bf66423e4"
      },
      "source": [
        "# Menghitung rentang antar kuartil serta batas-batas pencilan\n",
        "Q1 = df['Balance'].quantile(q = 0.25)\n",
        "Q3 = df['Balance'].quantile(q = 0.75)\n",
        "IQR = Q3 - Q1\n",
        "UIF = Q3 + 1.5 * IQR\n",
        "LIF = Q1 - 1.5 * IQR\n",
        "UOF = Q3 + 3 * IQR\n",
        "LOF = Q1 - 3 * IQR\n",
        "print('Rentang antar kuartil: ', IQR)\n",
        "print('Batas luar atas: ', UOF)\n",
        "print('Batas dalam atas: ', UIF)\n",
        "print('Batas dalam bawah: ', LIF)\n",
        "print('Batas luar bawah: ', LOF)"
      ],
      "execution_count": null,
      "outputs": [
        {
          "output_type": "stream",
          "name": "stdout",
          "text": [
            "Rentang antar kuartil:  127644.24\n",
            "Batas luar atas:  510576.96\n",
            "Batas dalam atas:  319110.60000000003\n",
            "Batas dalam bawah:  -191466.36000000002\n",
            "Batas luar bawah:  -382932.72000000003\n"
          ]
        }
      ]
    },
    {
      "cell_type": "code",
      "metadata": {
        "id": "EXmrUKUXuFMf",
        "colab": {
          "base_uri": "https://localhost:8080/"
        },
        "outputId": "b573697d-79e4-4e4e-dd9d-df4e924268f6"
      },
      "source": [
        "# Mengidentifikasi pencilan di atas batas luar atas\n",
        "print('Di atas batas luar atas:')\n",
        "df['Balance'][df['Balance'] > UOF]"
      ],
      "execution_count": null,
      "outputs": [
        {
          "output_type": "stream",
          "name": "stdout",
          "text": [
            "Di atas batas luar atas:\n"
          ]
        },
        {
          "output_type": "execute_result",
          "data": {
            "text/plain": [
              "Series([], Name: Balance, dtype: float64)"
            ]
          },
          "metadata": {},
          "execution_count": 42
        }
      ]
    },
    {
      "cell_type": "code",
      "metadata": {
        "id": "S4gW_ZfWuFM4",
        "colab": {
          "base_uri": "https://localhost:8080/"
        },
        "outputId": "e44df8d3-abc6-4746-dbc8-c33b2f9c9d6e"
      },
      "source": [
        "# Mengidentifikasi pencilan di atas batas dalam atas\n",
        "print('Di atas batas dalam atas:')\n",
        "df['Balance'][df['Balance'] > UIF]"
      ],
      "execution_count": null,
      "outputs": [
        {
          "output_type": "stream",
          "name": "stdout",
          "text": [
            "Di atas batas dalam atas:\n"
          ]
        },
        {
          "output_type": "execute_result",
          "data": {
            "text/plain": [
              "Series([], Name: Balance, dtype: float64)"
            ]
          },
          "metadata": {},
          "execution_count": 43
        }
      ]
    },
    {
      "cell_type": "code",
      "metadata": {
        "id": "u0jdfL5xuFM5",
        "colab": {
          "base_uri": "https://localhost:8080/"
        },
        "outputId": "18a4a1d1-fe43-4ce5-e209-15e94ff3dbdf"
      },
      "source": [
        "# Mengidentifikasi pencilan di bawah batas dalam bawah\n",
        "print('Di bawah batas dalam bawah:')\n",
        "df['Balance'][df['Balance'] < LIF]"
      ],
      "execution_count": null,
      "outputs": [
        {
          "output_type": "stream",
          "name": "stdout",
          "text": [
            "Di bawah batas dalam bawah:\n"
          ]
        },
        {
          "output_type": "execute_result",
          "data": {
            "text/plain": [
              "Series([], Name: Balance, dtype: float64)"
            ]
          },
          "metadata": {},
          "execution_count": 44
        }
      ]
    },
    {
      "cell_type": "code",
      "metadata": {
        "id": "js_9jzdkuFM6",
        "colab": {
          "base_uri": "https://localhost:8080/"
        },
        "outputId": "17ef4b0f-624c-4294-bbba-408bfeeeaddc"
      },
      "source": [
        "# Mengidentifikasi pencilan di bawah batas luar bawah\n",
        "print('Di bawah batas luar bawah:')\n",
        "df['Balance'][df['Balance'] < LOF]"
      ],
      "execution_count": null,
      "outputs": [
        {
          "output_type": "stream",
          "name": "stdout",
          "text": [
            "Di bawah batas luar bawah:\n"
          ]
        },
        {
          "output_type": "execute_result",
          "data": {
            "text/plain": [
              "Series([], Name: Balance, dtype: float64)"
            ]
          },
          "metadata": {},
          "execution_count": 45
        }
      ]
    },
    {
      "cell_type": "code",
      "metadata": {
        "id": "gFjq2w4jubdf",
        "colab": {
          "base_uri": "https://localhost:8080/"
        },
        "outputId": "139cde57-f308-4977-94d5-17b83dd39dd4"
      },
      "source": [
        "sns.boxplot(x=df['Balance']);"
      ],
      "execution_count": null,
      "outputs": [
        {
          "output_type": "display_data",
          "data": {
            "image/png": "[encoded data removed]",
            "text/plain": [
              "<Figure size 432x288 with 1 Axes>"
            ]
          },
          "metadata": {}
        }
      ]
    },
    {
      "cell_type": "markdown",
      "metadata": {
        "id": "nyukNbTVxndh"
      },
      "source": [
        "### NumOfProducts"
      ]
    },
    {
      "cell_type": "code",
      "metadata": {
        "id": "W1N5F5dQx9hB",
        "colab": {
          "base_uri": "https://localhost:8080/"
        },
        "outputId": "f87ae724-4b60-4952-e2d2-92d4dd15993a"
      },
      "source": [
        "df[['NumOfProducts']].describe()"
      ],
      "execution_count": null,
      "outputs": [
        {
          "output_type": "execute_result",
          "data": {
            "text/html": [
              "<div>\n",
              "<style scoped>\n",
              "    .dataframe tbody tr th:only-of-type {\n",
              "        vertical-align: middle;\n",
              "    }\n",
              "\n",
              "    .dataframe tbody tr th {\n",
              "        vertical-align: top;\n",
              "    }\n",
              "\n",
              "    .dataframe thead th {\n",
              "        text-align: right;\n",
              "    }\n",
              "</style>\n",
              "<table border=\"1\" class=\"dataframe\">\n",
              "  <thead>\n",
              "    <tr style=\"text-align: right;\">\n",
              "      <th></th>\n",
              "      <th>NumOfProducts</th>\n",
              "    </tr>\n",
              "  </thead>\n",
              "  <tbody>\n",
              "    <tr>\n",
              "      <th>count</th>\n",
              "      <td>10000.000000</td>\n",
              "    </tr>\n",
              "    <tr>\n",
              "      <th>mean</th>\n",
              "      <td>1.530200</td>\n",
              "    </tr>\n",
              "    <tr>\n",
              "      <th>std</th>\n",
              "      <td>0.581654</td>\n",
              "    </tr>\n",
              "    <tr>\n",
              "      <th>min</th>\n",
              "      <td>1.000000</td>\n",
              "    </tr>\n",
              "    <tr>\n",
              "      <th>25%</th>\n",
              "      <td>1.000000</td>\n",
              "    </tr>\n",
              "    <tr>\n",
              "      <th>50%</th>\n",
              "      <td>1.000000</td>\n",
              "    </tr>\n",
              "    <tr>\n",
              "      <th>75%</th>\n",
              "      <td>2.000000</td>\n",
              "    </tr>\n",
              "    <tr>\n",
              "      <th>max</th>\n",
              "      <td>4.000000</td>\n",
              "    </tr>\n",
              "  </tbody>\n",
              "</table>\n",
              "</div>"
            ],
            "text/plain": [
              "       NumOfProducts\n",
              "count   10000.000000\n",
              "mean        1.530200\n",
              "std         0.581654\n",
              "min         1.000000\n",
              "25%         1.000000\n",
              "50%         1.000000\n",
              "75%         2.000000\n",
              "max         4.000000"
            ]
          },
          "metadata": {},
          "execution_count": 47
        }
      ]
    },
    {
      "cell_type": "code",
      "metadata": {
        "id": "qd3XGY_xx9hc",
        "colab": {
          "base_uri": "https://localhost:8080/"
        },
        "outputId": "d44efcfa-0298-46f1-fdb7-aa684c373011"
      },
      "source": [
        "df[['NumOfProducts']].mode().rename(index={0: 'Mode'})"
      ],
      "execution_count": null,
      "outputs": [
        {
          "output_type": "execute_result",
          "data": {
            "text/html": [
              "<div>\n",
              "<style scoped>\n",
              "    .dataframe tbody tr th:only-of-type {\n",
              "        vertical-align: middle;\n",
              "    }\n",
              "\n",
              "    .dataframe tbody tr th {\n",
              "        vertical-align: top;\n",
              "    }\n",
              "\n",
              "    .dataframe thead th {\n",
              "        text-align: right;\n",
              "    }\n",
              "</style>\n",
              "<table border=\"1\" class=\"dataframe\">\n",
              "  <thead>\n",
              "    <tr style=\"text-align: right;\">\n",
              "      <th></th>\n",
              "      <th>NumOfProducts</th>\n",
              "    </tr>\n",
              "  </thead>\n",
              "  <tbody>\n",
              "    <tr>\n",
              "      <th>Mode</th>\n",
              "      <td>1</td>\n",
              "    </tr>\n",
              "  </tbody>\n",
              "</table>\n",
              "</div>"
            ],
            "text/plain": [
              "      NumOfProducts\n",
              "Mode              1"
            ]
          },
          "metadata": {},
          "execution_count": 48
        }
      ]
    },
    {
      "cell_type": "code",
      "metadata": {
        "id": "jBLjoGe0x9hd",
        "colab": {
          "base_uri": "https://localhost:8080/"
        },
        "outputId": "6196f64d-3e99-427a-b339-231321d4d24d"
      },
      "source": [
        "df['NumOfProducts'].value_counts().rename_axis('NumOfProducts').to_frame('Count').sort_values(by='NumOfProducts')"
      ],
      "execution_count": null,
      "outputs": [
        {
          "output_type": "execute_result",
          "data": {
            "text/html": [
              "<div>\n",
              "<style scoped>\n",
              "    .dataframe tbody tr th:only-of-type {\n",
              "        vertical-align: middle;\n",
              "    }\n",
              "\n",
              "    .dataframe tbody tr th {\n",
              "        vertical-align: top;\n",
              "    }\n",
              "\n",
              "    .dataframe thead th {\n",
              "        text-align: right;\n",
              "    }\n",
              "</style>\n",
              "<table border=\"1\" class=\"dataframe\">\n",
              "  <thead>\n",
              "    <tr style=\"text-align: right;\">\n",
              "      <th></th>\n",
              "      <th>Count</th>\n",
              "    </tr>\n",
              "    <tr>\n",
              "      <th>NumOfProducts</th>\n",
              "      <th></th>\n",
              "    </tr>\n",
              "  </thead>\n",
              "  <tbody>\n",
              "    <tr>\n",
              "      <th>1</th>\n",
              "      <td>5084</td>\n",
              "    </tr>\n",
              "    <tr>\n",
              "      <th>2</th>\n",
              "      <td>4590</td>\n",
              "    </tr>\n",
              "    <tr>\n",
              "      <th>3</th>\n",
              "      <td>266</td>\n",
              "    </tr>\n",
              "    <tr>\n",
              "      <th>4</th>\n",
              "      <td>60</td>\n",
              "    </tr>\n",
              "  </tbody>\n",
              "</table>\n",
              "</div>"
            ],
            "text/plain": [
              "               Count\n",
              "NumOfProducts       \n",
              "1               5084\n",
              "2               4590\n",
              "3                266\n",
              "4                 60"
            ]
          },
          "metadata": {},
          "execution_count": 49
        }
      ]
    },
    {
      "cell_type": "code",
      "metadata": {
        "id": "YnDGIoKGx9hd",
        "colab": {
          "base_uri": "https://localhost:8080/"
        },
        "outputId": "edb30d28-d7cc-41c1-d536-c935c2974b78"
      },
      "source": [
        "sns.countplot(x=df['NumOfProducts'],color='#2c7fb8'); #8ebad9"
      ],
      "execution_count": null,
      "outputs": [
        {
          "output_type": "display_data",
          "data": {
            "image/png": "[encoded data removed]",
            "text/plain": [
              "<Figure size 432x288 with 1 Axes>"
            ]
          },
          "metadata": {}
        }
      ]
    },
    {
      "cell_type": "code",
      "metadata": {
        "id": "kzDrmh-cx9hd",
        "colab": {
          "base_uri": "https://localhost:8080/"
        },
        "outputId": "f5cc6faf-2fd3-4329-e3ec-f4aabe3986c0"
      },
      "source": [
        "# Menghitung rentang antar kuartil serta batas-batas pencilan\n",
        "Q1 = df['NumOfProducts'].quantile(q = 0.25)\n",
        "Q3 = df['NumOfProducts'].quantile(q = 0.75)\n",
        "IQR = Q3 - Q1\n",
        "UIF = Q3 + 1.5 * IQR\n",
        "LIF = Q1 - 1.5 * IQR\n",
        "UOF = Q3 + 3 * IQR\n",
        "LOF = Q1 - 3 * IQR\n",
        "print('Rentang antar kuartil: ', IQR)\n",
        "print('Batas luar atas: ', UOF)\n",
        "print('Batas dalam atas: ', UIF)\n",
        "print('Batas dalam bawah: ', LIF)\n",
        "print('Batas luar bawah: ', LOF)"
      ],
      "execution_count": null,
      "outputs": [
        {
          "output_type": "stream",
          "name": "stdout",
          "text": [
            "Rentang antar kuartil:  1.0\n",
            "Batas luar atas:  5.0\n",
            "Batas dalam atas:  3.5\n",
            "Batas dalam bawah:  -0.5\n",
            "Batas luar bawah:  -2.0\n"
          ]
        }
      ]
    },
    {
      "cell_type": "code",
      "metadata": {
        "id": "RxidBHeUx9he",
        "colab": {
          "base_uri": "https://localhost:8080/"
        },
        "outputId": "4156690b-8011-4b79-8971-2cff3f07163d"
      },
      "source": [
        "# Mengidentifikasi pencilan di atas batas luar atas\n",
        "print('Di atas batas luar atas:')\n",
        "df['NumOfProducts'][df['NumOfProducts'] > UOF]"
      ],
      "execution_count": null,
      "outputs": [
        {
          "output_type": "stream",
          "name": "stdout",
          "text": [
            "Di atas batas luar atas:\n"
          ]
        },
        {
          "output_type": "execute_result",
          "data": {
            "text/plain": [
              "Series([], Name: NumOfProducts, dtype: int64)"
            ]
          },
          "metadata": {},
          "execution_count": 52
        }
      ]
    },
    {
      "cell_type": "code",
      "metadata": {
        "id": "G2NSkQQtx9he",
        "colab": {
          "base_uri": "https://localhost:8080/"
        },
        "outputId": "76844f97-12c2-4540-830d-55ecbf70ad3b"
      },
      "source": [
        "# Mengidentifikasi pencilan di atas batas dalam atas\n",
        "print('Di atas batas dalam atas:')\n",
        "df['NumOfProducts'][df['NumOfProducts'] > UIF]"
      ],
      "execution_count": null,
      "outputs": [
        {
          "output_type": "stream",
          "name": "stdout",
          "text": [
            "Di atas batas dalam atas:\n"
          ]
        },
        {
          "output_type": "execute_result",
          "data": {
            "text/plain": [
              "7       4\n",
              "70      4\n",
              "1254    4\n",
              "1469    4\n",
              "1488    4\n",
              "1701    4\n",
              "1876    4\n",
              "2124    4\n",
              "2196    4\n",
              "2285    4\n",
              "2462    4\n",
              "2499    4\n",
              "2509    4\n",
              "2541    4\n",
              "2614    4\n",
              "2617    4\n",
              "2872    4\n",
              "3152    4\n",
              "3365    4\n",
              "3841    4\n",
              "4013    4\n",
              "4014    4\n",
              "4166    4\n",
              "4260    4\n",
              "4403    4\n",
              "4511    4\n",
              "4516    4\n",
              "4606    4\n",
              "4654    4\n",
              "4748    4\n",
              "4822    4\n",
              "5010    4\n",
              "5137    4\n",
              "5235    4\n",
              "5386    4\n",
              "5700    4\n",
              "5904    4\n",
              "6150    4\n",
              "6172    4\n",
              "6279    4\n",
              "6750    4\n",
              "6875    4\n",
              "7257    4\n",
              "7457    4\n",
              "7567    4\n",
              "7698    4\n",
              "7724    4\n",
              "7729    4\n",
              "8041    4\n",
              "8590    4\n",
              "8683    4\n",
              "8850    4\n",
              "8923    4\n",
              "9215    4\n",
              "9255    4\n",
              "9323    4\n",
              "9370    4\n",
              "9411    4\n",
              "9540    4\n",
              "9565    4\n",
              "Name: NumOfProducts, dtype: int64"
            ]
          },
          "metadata": {},
          "execution_count": 53
        }
      ]
    },
    {
      "cell_type": "code",
      "metadata": {
        "id": "-yE0kD_jx9he",
        "colab": {
          "base_uri": "https://localhost:8080/"
        },
        "outputId": "bf65da02-8d57-49c4-ca77-096886415b60"
      },
      "source": [
        "# Mengidentifikasi pencilan di bawah batas dalam bawah\n",
        "print('Di bawah batas dalam bawah:')\n",
        "df['NumOfProducts'][df['NumOfProducts'] < LIF]"
      ],
      "execution_count": null,
      "outputs": [
        {
          "output_type": "stream",
          "name": "stdout",
          "text": [
            "Di bawah batas dalam bawah:\n"
          ]
        },
        {
          "output_type": "execute_result",
          "data": {
            "text/plain": [
              "Series([], Name: NumOfProducts, dtype: int64)"
            ]
          },
          "metadata": {},
          "execution_count": 54
        }
      ]
    },
    {
      "cell_type": "code",
      "metadata": {
        "id": "gFvlKg4Nx9he",
        "colab": {
          "base_uri": "https://localhost:8080/"
        },
        "outputId": "52c3316f-b616-4c37-d934-e1fcf41e5dc1"
      },
      "source": [
        "# Mengidentifikasi pencilan di bawah batas luar bawah\n",
        "print('Di bawah batas luar bawah:')\n",
        "df['NumOfProducts'][df['NumOfProducts'] < LOF]"
      ],
      "execution_count": null,
      "outputs": [
        {
          "output_type": "stream",
          "name": "stdout",
          "text": [
            "Di bawah batas luar bawah:\n"
          ]
        },
        {
          "output_type": "execute_result",
          "data": {
            "text/plain": [
              "Series([], Name: NumOfProducts, dtype: int64)"
            ]
          },
          "metadata": {},
          "execution_count": 55
        }
      ]
    },
    {
      "cell_type": "code",
      "metadata": {
        "id": "WAA7EGWhx9hf",
        "colab": {
          "base_uri": "https://localhost:8080/"
        },
        "outputId": "7c414155-76eb-4260-c008-fb5045349037"
      },
      "source": [
        "sns.boxplot(x=df['NumOfProducts']);"
      ],
      "execution_count": null,
      "outputs": [
        {
          "output_type": "display_data",
          "data": {
            "image/png": "[encoded data removed]",
            "text/plain": [
              "<Figure size 432x288 with 1 Axes>"
            ]
          },
          "metadata": {}
        }
      ]
    },
    {
      "cell_type": "markdown",
      "metadata": {
        "id": "FIRp4X_87SxL"
      },
      "source": [
        "### HasCrCard"
      ]
    },
    {
      "cell_type": "code",
      "metadata": {
        "id": "n8Eb2TB47WYN",
        "colab": {
          "base_uri": "https://localhost:8080/"
        },
        "outputId": "06e999dc-bd22-4b86-d4b1-e64b933a0b7d"
      },
      "source": [
        "df['HasCrCard'].value_counts().rename_axis('HasCrCard').to_frame('Count').rename(index={0:'0 (No)', 1:'1 (Yes)'}).sort_values(by='HasCrCard')"
      ],
      "execution_count": null,
      "outputs": [
        {
          "output_type": "execute_result",
          "data": {
            "text/html": [
              "<div>\n",
              "<style scoped>\n",
              "    .dataframe tbody tr th:only-of-type {\n",
              "        vertical-align: middle;\n",
              "    }\n",
              "\n",
              "    .dataframe tbody tr th {\n",
              "        vertical-align: top;\n",
              "    }\n",
              "\n",
              "    .dataframe thead th {\n",
              "        text-align: right;\n",
              "    }\n",
              "</style>\n",
              "<table border=\"1\" class=\"dataframe\">\n",
              "  <thead>\n",
              "    <tr style=\"text-align: right;\">\n",
              "      <th></th>\n",
              "      <th>Count</th>\n",
              "    </tr>\n",
              "    <tr>\n",
              "      <th>HasCrCard</th>\n",
              "      <th></th>\n",
              "    </tr>\n",
              "  </thead>\n",
              "  <tbody>\n",
              "    <tr>\n",
              "      <th>0 (No)</th>\n",
              "      <td>2945</td>\n",
              "    </tr>\n",
              "    <tr>\n",
              "      <th>1 (Yes)</th>\n",
              "      <td>7055</td>\n",
              "    </tr>\n",
              "  </tbody>\n",
              "</table>\n",
              "</div>"
            ],
            "text/plain": [
              "           Count\n",
              "HasCrCard       \n",
              "0 (No)      2945\n",
              "1 (Yes)     7055"
            ]
          },
          "metadata": {},
          "execution_count": 57
        }
      ]
    },
    {
      "cell_type": "code",
      "metadata": {
        "id": "xvni-uQP7WYO",
        "colab": {
          "base_uri": "https://localhost:8080/"
        },
        "outputId": "4982a61f-7b3a-4529-d97c-1875806e2fd3"
      },
      "source": [
        "df['HasCrCard'].value_counts().plot.pie(explode=[0,0.1],labels=['Yes','No'],autopct='%.2f%%',shadow=True,figsize=(5,5));"
      ],
      "execution_count": null,
      "outputs": [
        {
          "output_type": "display_data",
          "data": {
            "image/png": "[encoded data removed]",
            "text/plain": [
              "<Figure size 360x360 with 1 Axes>"
            ]
          },
          "metadata": {}
        }
      ]
    },
    {
      "cell_type": "markdown",
      "metadata": {
        "id": "en9d6aIY7Mpl"
      },
      "source": [
        "### IsActiveMember"
      ]
    },
    {
      "cell_type": "code",
      "metadata": {
        "id": "-rDYfSuc8xKp",
        "colab": {
          "base_uri": "https://localhost:8080/"
        },
        "outputId": "277e2700-e83a-412c-81f0-2091b19f71ef"
      },
      "source": [
        "df['IsActiveMember'].value_counts().rename_axis('IsActiveMember').to_frame('Count').rename(index={0:'0 (No)', 1:'1 (Yes)'}).sort_values(by='IsActiveMember')"
      ],
      "execution_count": null,
      "outputs": [
        {
          "output_type": "execute_result",
          "data": {
            "text/html": [
              "<div>\n",
              "<style scoped>\n",
              "    .dataframe tbody tr th:only-of-type {\n",
              "        vertical-align: middle;\n",
              "    }\n",
              "\n",
              "    .dataframe tbody tr th {\n",
              "        vertical-align: top;\n",
              "    }\n",
              "\n",
              "    .dataframe thead th {\n",
              "        text-align: right;\n",
              "    }\n",
              "</style>\n",
              "<table border=\"1\" class=\"dataframe\">\n",
              "  <thead>\n",
              "    <tr style=\"text-align: right;\">\n",
              "      <th></th>\n",
              "      <th>Count</th>\n",
              "    </tr>\n",
              "    <tr>\n",
              "      <th>IsActiveMember</th>\n",
              "      <th></th>\n",
              "    </tr>\n",
              "  </thead>\n",
              "  <tbody>\n",
              "    <tr>\n",
              "      <th>0 (No)</th>\n",
              "      <td>4849</td>\n",
              "    </tr>\n",
              "    <tr>\n",
              "      <th>1 (Yes)</th>\n",
              "      <td>5151</td>\n",
              "    </tr>\n",
              "  </tbody>\n",
              "</table>\n",
              "</div>"
            ],
            "text/plain": [
              "                Count\n",
              "IsActiveMember       \n",
              "0 (No)           4849\n",
              "1 (Yes)          5151"
            ]
          },
          "metadata": {},
          "execution_count": 59
        }
      ]
    },
    {
      "cell_type": "code",
      "metadata": {
        "id": "MIZfzU3X8xKq",
        "colab": {
          "base_uri": "https://localhost:8080/"
        },
        "outputId": "89d93769-d584-4215-b8b9-ab8e7a89641f"
      },
      "source": [
        "df['IsActiveMember'].value_counts().plot.pie(explode=[0,0.1],labels=['Yes','No'],autopct='%.2f%%',shadow=True,figsize=(5,5));"
      ],
      "execution_count": null,
      "outputs": [
        {
          "output_type": "display_data",
          "data": {
            "image/png": "[encoded data removed]",
            "text/plain": [
              "<Figure size 360x360 with 1 Axes>"
            ]
          },
          "metadata": {}
        }
      ]
    },
    {
      "cell_type": "markdown",
      "metadata": {
        "id": "HYd9DglgDfuP"
      },
      "source": [
        "### EstimatedSalary"
      ]
    },
    {
      "cell_type": "code",
      "metadata": {
        "id": "yno8qMbpDkAf",
        "colab": {
          "base_uri": "https://localhost:8080/"
        },
        "outputId": "09e43711-5c51-4c69-8418-b302140b50e1"
      },
      "source": [
        "df[['EstimatedSalary']].describe()"
      ],
      "execution_count": null,
      "outputs": [
        {
          "output_type": "execute_result",
          "data": {
            "text/html": [
              "<div>\n",
              "<style scoped>\n",
              "    .dataframe tbody tr th:only-of-type {\n",
              "        vertical-align: middle;\n",
              "    }\n",
              "\n",
              "    .dataframe tbody tr th {\n",
              "        vertical-align: top;\n",
              "    }\n",
              "\n",
              "    .dataframe thead th {\n",
              "        text-align: right;\n",
              "    }\n",
              "</style>\n",
              "<table border=\"1\" class=\"dataframe\">\n",
              "  <thead>\n",
              "    <tr style=\"text-align: right;\">\n",
              "      <th></th>\n",
              "      <th>EstimatedSalary</th>\n",
              "    </tr>\n",
              "  </thead>\n",
              "  <tbody>\n",
              "    <tr>\n",
              "      <th>count</th>\n",
              "      <td>10000.000000</td>\n",
              "    </tr>\n",
              "    <tr>\n",
              "      <th>mean</th>\n",
              "      <td>100090.239881</td>\n",
              "    </tr>\n",
              "    <tr>\n",
              "      <th>std</th>\n",
              "      <td>57510.492818</td>\n",
              "    </tr>\n",
              "    <tr>\n",
              "      <th>min</th>\n",
              "      <td>11.580000</td>\n",
              "    </tr>\n",
              "    <tr>\n",
              "      <th>25%</th>\n",
              "      <td>51002.110000</td>\n",
              "    </tr>\n",
              "    <tr>\n",
              "      <th>50%</th>\n",
              "      <td>100193.915000</td>\n",
              "    </tr>\n",
              "    <tr>\n",
              "      <th>75%</th>\n",
              "      <td>149388.247500</td>\n",
              "    </tr>\n",
              "    <tr>\n",
              "      <th>max</th>\n",
              "      <td>199992.480000</td>\n",
              "    </tr>\n",
              "  </tbody>\n",
              "</table>\n",
              "</div>"
            ],
            "text/plain": [
              "       EstimatedSalary\n",
              "count     10000.000000\n",
              "mean     100090.239881\n",
              "std       57510.492818\n",
              "min          11.580000\n",
              "25%       51002.110000\n",
              "50%      100193.915000\n",
              "75%      149388.247500\n",
              "max      199992.480000"
            ]
          },
          "metadata": {},
          "execution_count": 61
        }
      ]
    },
    {
      "cell_type": "code",
      "metadata": {
        "id": "R4TZUxSiDkAg",
        "colab": {
          "base_uri": "https://localhost:8080/"
        },
        "outputId": "4370b06a-630a-44e4-b14d-876dcf984bfc"
      },
      "source": [
        "df[['EstimatedSalary']].mode().rename(index={0: 'Mode'})"
      ],
      "execution_count": null,
      "outputs": [
        {
          "output_type": "execute_result",
          "data": {
            "text/html": [
              "<div>\n",
              "<style scoped>\n",
              "    .dataframe tbody tr th:only-of-type {\n",
              "        vertical-align: middle;\n",
              "    }\n",
              "\n",
              "    .dataframe tbody tr th {\n",
              "        vertical-align: top;\n",
              "    }\n",
              "\n",
              "    .dataframe thead th {\n",
              "        text-align: right;\n",
              "    }\n",
              "</style>\n",
              "<table border=\"1\" class=\"dataframe\">\n",
              "  <thead>\n",
              "    <tr style=\"text-align: right;\">\n",
              "      <th></th>\n",
              "      <th>EstimatedSalary</th>\n",
              "    </tr>\n",
              "  </thead>\n",
              "  <tbody>\n",
              "    <tr>\n",
              "      <th>Mode</th>\n",
              "      <td>24924.92</td>\n",
              "    </tr>\n",
              "  </tbody>\n",
              "</table>\n",
              "</div>"
            ],
            "text/plain": [
              "      EstimatedSalary\n",
              "Mode         24924.92"
            ]
          },
          "metadata": {},
          "execution_count": 62
        }
      ]
    },
    {
      "cell_type": "code",
      "metadata": {
        "id": "jPDgpaEHDkAg",
        "colab": {
          "base_uri": "https://localhost:8080/"
        },
        "outputId": "941165a3-bfd6-4e12-de57-c0ad86910979"
      },
      "source": [
        "sns.histplot(df['EstimatedSalary'],bins=50,kde='True');"
      ],
      "execution_count": null,
      "outputs": [
        {
          "output_type": "display_data",
          "data": {
            "image/png": "[encoded data removed]",
            "text/plain": [
              "<Figure size 432x288 with 1 Axes>"
            ]
          },
          "metadata": {}
        }
      ]
    },
    {
      "cell_type": "code",
      "metadata": {
        "id": "cdU_iBTwDkAh",
        "colab": {
          "base_uri": "https://localhost:8080/"
        },
        "outputId": "87b8911f-d823-447b-bb3c-ab842a801ae2"
      },
      "source": [
        "# Menghitung rentang antar kuartil serta batas-batas pencilan\n",
        "Q1 = df['EstimatedSalary'].quantile(q = 0.25)\n",
        "Q3 = df['EstimatedSalary'].quantile(q = 0.75)\n",
        "IQR = Q3 - Q1\n",
        "UIF = Q3 + 1.5 * IQR\n",
        "LIF = Q1 - 1.5 * IQR\n",
        "UOF = Q3 + 3 * IQR\n",
        "LOF = Q1 - 3 * IQR\n",
        "print('Rentang antar kuartil: ', IQR)\n",
        "print('Batas luar atas: ', UOF)\n",
        "print('Batas dalam atas: ', UIF)\n",
        "print('Batas dalam bawah: ', LIF)\n",
        "print('Batas luar bawah: ', LOF)"
      ],
      "execution_count": null,
      "outputs": [
        {
          "output_type": "stream",
          "name": "stdout",
          "text": [
            "Rentang antar kuartil:  98386.1375\n",
            "Batas luar atas:  444546.66\n",
            "Batas dalam atas:  296967.45375\n",
            "Batas dalam bawah:  -96577.09624999999\n",
            "Batas luar bawah:  -244156.3025\n"
          ]
        }
      ]
    },
    {
      "cell_type": "code",
      "metadata": {
        "id": "QNfRHrnVDkAh",
        "colab": {
          "base_uri": "https://localhost:8080/"
        },
        "outputId": "a75bd54c-ce83-4a06-a9d9-3c6dade72e59"
      },
      "source": [
        "# Mengidentifikasi pencilan di atas batas luar atas\n",
        "print('Di atas batas luar atas:')\n",
        "df['EstimatedSalary'][df['EstimatedSalary'] > UOF]"
      ],
      "execution_count": null,
      "outputs": [
        {
          "output_type": "stream",
          "name": "stdout",
          "text": [
            "Di atas batas luar atas:\n"
          ]
        },
        {
          "output_type": "execute_result",
          "data": {
            "text/plain": [
              "Series([], Name: EstimatedSalary, dtype: float64)"
            ]
          },
          "metadata": {},
          "execution_count": 65
        }
      ]
    },
    {
      "cell_type": "code",
      "metadata": {
        "id": "LIXlTQEKDkAh",
        "colab": {
          "base_uri": "https://localhost:8080/"
        },
        "outputId": "a6441731-a002-426b-bfbb-6b35ac8fe236"
      },
      "source": [
        "# Mengidentifikasi pencilan di atas batas dalam atas\n",
        "print('Di atas batas dalam atas:')\n",
        "df['EstimatedSalary'][df['EstimatedSalary'] > UIF]"
      ],
      "execution_count": null,
      "outputs": [
        {
          "output_type": "stream",
          "name": "stdout",
          "text": [
            "Di atas batas dalam atas:\n"
          ]
        },
        {
          "output_type": "execute_result",
          "data": {
            "text/plain": [
              "Series([], Name: EstimatedSalary, dtype: float64)"
            ]
          },
          "metadata": {},
          "execution_count": 66
        }
      ]
    },
    {
      "cell_type": "code",
      "metadata": {
        "id": "0omdQQ4xDkAh",
        "colab": {
          "base_uri": "https://localhost:8080/"
        },
        "outputId": "6face17b-ce78-477a-c0e6-9c130fbedcf4"
      },
      "source": [
        "# Mengidentifikasi pencilan di bawah batas dalam bawah\n",
        "print('Di bawah batas dalam bawah:')\n",
        "df['EstimatedSalary'][df['EstimatedSalary'] < LIF]"
      ],
      "execution_count": null,
      "outputs": [
        {
          "output_type": "stream",
          "name": "stdout",
          "text": [
            "Di bawah batas dalam bawah:\n"
          ]
        },
        {
          "output_type": "execute_result",
          "data": {
            "text/plain": [
              "Series([], Name: EstimatedSalary, dtype: float64)"
            ]
          },
          "metadata": {},
          "execution_count": 67
        }
      ]
    },
    {
      "cell_type": "code",
      "metadata": {
        "id": "hxjm-AHBDkAi",
        "colab": {
          "base_uri": "https://localhost:8080/"
        },
        "outputId": "8a9918db-8a31-41da-d169-66e44227bd3a"
      },
      "source": [
        "# Mengidentifikasi pencilan di bawah batas luar bawah\n",
        "print('Di bawah batas luar bawah:')\n",
        "df['EstimatedSalary'][df['EstimatedSalary'] < LOF]"
      ],
      "execution_count": null,
      "outputs": [
        {
          "output_type": "stream",
          "name": "stdout",
          "text": [
            "Di bawah batas luar bawah:\n"
          ]
        },
        {
          "output_type": "execute_result",
          "data": {
            "text/plain": [
              "Series([], Name: EstimatedSalary, dtype: float64)"
            ]
          },
          "metadata": {},
          "execution_count": 68
        }
      ]
    },
    {
      "cell_type": "code",
      "metadata": {
        "id": "FoPi0P_jDkAi",
        "colab": {
          "base_uri": "https://localhost:8080/"
        },
        "outputId": "df75a727-9367-4425-c9fa-498b0053062c"
      },
      "source": [
        "sns.boxplot(x=df['EstimatedSalary']);"
      ],
      "execution_count": null,
      "outputs": [
        {
          "output_type": "display_data",
          "data": {
            "image/png": "[encoded data removed]",
            "text/plain": [
              "<Figure size 432x288 with 1 Axes>"
            ]
          },
          "metadata": {}
        }
      ]
    },
    {
      "cell_type": "markdown",
      "metadata": {
        "id": "90LDzzntFa7h"
      },
      "source": [
        "### Exited"
      ]
    },
    {
      "cell_type": "code",
      "metadata": {
        "id": "t8BNm-UzFu0I",
        "colab": {
          "base_uri": "https://localhost:8080/"
        },
        "outputId": "38633ec9-e9b3-4ccb-c9bd-1ab76f456583"
      },
      "source": [
        "df['Exited'].value_counts().rename_axis('Exited').to_frame('Count').rename(index={0:'0 (No)', 1:'1 (Yes)'}).sort_values(by='Exited')"
      ],
      "execution_count": null,
      "outputs": [
        {
          "output_type": "execute_result",
          "data": {
            "text/html": [
              "<div>\n",
              "<style scoped>\n",
              "    .dataframe tbody tr th:only-of-type {\n",
              "        vertical-align: middle;\n",
              "    }\n",
              "\n",
              "    .dataframe tbody tr th {\n",
              "        vertical-align: top;\n",
              "    }\n",
              "\n",
              "    .dataframe thead th {\n",
              "        text-align: right;\n",
              "    }\n",
              "</style>\n",
              "<table border=\"1\" class=\"dataframe\">\n",
              "  <thead>\n",
              "    <tr style=\"text-align: right;\">\n",
              "      <th></th>\n",
              "      <th>Count</th>\n",
              "    </tr>\n",
              "    <tr>\n",
              "      <th>Exited</th>\n",
              "      <th></th>\n",
              "    </tr>\n",
              "  </thead>\n",
              "  <tbody>\n",
              "    <tr>\n",
              "      <th>0 (No)</th>\n",
              "      <td>7963</td>\n",
              "    </tr>\n",
              "    <tr>\n",
              "      <th>1 (Yes)</th>\n",
              "      <td>2037</td>\n",
              "    </tr>\n",
              "  </tbody>\n",
              "</table>\n",
              "</div>"
            ],
            "text/plain": [
              "         Count\n",
              "Exited        \n",
              "0 (No)    7963\n",
              "1 (Yes)   2037"
            ]
          },
          "metadata": {},
          "execution_count": 70
        }
      ]
    },
    {
      "cell_type": "code",
      "metadata": {
        "id": "LTWzGx7fFu0K",
        "colab": {
          "base_uri": "https://localhost:8080/"
        },
        "outputId": "f114d380-a1a7-4686-8b2b-477fc5b7eca9"
      },
      "source": [
        "df['Exited'].value_counts().plot.pie(explode=[0,0.1],labels=['No','Yes'],autopct='%.2f%%',shadow=True,figsize=(5,5));"
      ],
      "execution_count": null,
      "outputs": [
        {
          "output_type": "display_data",
          "data": {
            "image/png": "[encoded data removed]",
            "text/plain": [
              "<Figure size 360x360 with 1 Axes>"
            ]
          },
          "metadata": {}
        }
      ]
    },
    {
      "cell_type": "markdown",
      "metadata": {
        "id": "vP6U9pjuo3Jg"
      },
      "source": [
        "Terlihat bahwa terjadi ketidakseimbangan dataset antara pelanggan yang churn dan tidak. Sehingga perlu dilakukan penanganan lebih lanjut."
      ]
    },
    {
      "cell_type": "markdown",
      "metadata": {
        "id": "PL-7mkQ04cAO"
      },
      "source": [
        "## Bivariate Analysis"
      ]
    },
    {
      "cell_type": "markdown",
      "metadata": {
        "id": "0XFiO5by-xZ4"
      },
      "source": [
        "### CreditScore, Exited"
      ]
    },
    {
      "cell_type": "code",
      "metadata": {
        "id": "PjyQwsrx-wfv",
        "colab": {
          "base_uri": "https://localhost:8080/"
        },
        "outputId": "8bb489fe-2c93-4a81-b6e0-7ba6c3766879"
      },
      "source": [
        "df[df.Exited == 0]['CreditScore'].hist(bins=20, alpha=0.5);\n",
        "df[df.Exited == 1]['CreditScore'].hist(bins=20, alpha=0.5);\n",
        "plt.legend(labels=['No', 'Yes'], loc='upper left');\n",
        "plt.title('Perbandingan Credit Score dan Exited');"
      ],
      "execution_count": null,
      "outputs": [
        {
          "output_type": "display_data",
          "data": {
            "image/png": "[encoded data removed]",
            "text/plain": [
              "<Figure size 432x288 with 1 Axes>"
            ]
          },
          "metadata": {}
        }
      ]
    },
    {
      "cell_type": "markdown",
      "metadata": {
        "id": "Jk9ihr1X-4KL"
      },
      "source": [
        "### Geography, Exited"
      ]
    },
    {
      "cell_type": "code",
      "metadata": {
        "id": "kMmY0tbn-8Wa",
        "colab": {
          "base_uri": "https://localhost:8080/"
        },
        "outputId": "da319ebd-1859-484e-e01f-52dff3ec533c"
      },
      "source": [
        "sns.countplot(data=df, x='Geography', hue='Exited');\n",
        "plt.legend(labels=['No', 'Yes'], loc='upper right');\n",
        "plt.title('Perbandingan Geography dan Exited');"
      ],
      "execution_count": null,
      "outputs": [
        {
          "output_type": "display_data",
          "data": {
            "image/png": "[encoded data removed]",
            "text/plain": [
              "<Figure size 432x288 with 1 Axes>"
            ]
          },
          "metadata": {}
        }
      ]
    },
    {
      "cell_type": "markdown",
      "metadata": {
        "id": "LyACq03e-7qf"
      },
      "source": [
        "### Gender, Exited"
      ]
    },
    {
      "cell_type": "code",
      "metadata": {
        "id": "hxGTfMUn_MYH",
        "colab": {
          "base_uri": "https://localhost:8080/"
        },
        "outputId": "505a83a7-1975-4b25-d0c0-ed112b20965e"
      },
      "source": [
        "sns.countplot(data=df, x='Gender', hue='Exited');\n",
        "plt.legend(labels=['No', 'Yes'], loc='upper left');\n",
        "plt.title('Perbandingan Gender dan Exited');"
      ],
      "execution_count": null,
      "outputs": [
        {
          "output_type": "display_data",
          "data": {
            "image/png": "[encoded data removed]",
            "text/plain": [
              "<Figure size 432x288 with 1 Axes>"
            ]
          },
          "metadata": {}
        }
      ]
    },
    {
      "cell_type": "markdown",
      "metadata": {
        "id": "o2dQMnez_QXj"
      },
      "source": [
        "### Age, Exited"
      ]
    },
    {
      "cell_type": "code",
      "metadata": {
        "id": "IO7iSDyF_V5x",
        "colab": {
          "base_uri": "https://localhost:8080/"
        },
        "outputId": "e7864c56-9a23-4bc0-c04f-b116dd20feeb"
      },
      "source": [
        "df[df.Exited == 0]['Age'].hist(bins=20, alpha=0.5);\n",
        "df[df.Exited == 1]['Age'].hist(bins=20, alpha=0.5);\n",
        "plt.legend(labels=['No', 'Yes'], loc='upper right');\n",
        "plt.title('Perbandingan Age dan Exited');"
      ],
      "execution_count": null,
      "outputs": [
        {
          "output_type": "display_data",
          "data": {
            "image/png": "[encoded data removed]",
            "text/plain": [
              "<Figure size 432x288 with 1 Axes>"
            ]
          },
          "metadata": {}
        }
      ]
    },
    {
      "cell_type": "markdown",
      "metadata": {
        "id": "Dg1lSGIE_Wx4"
      },
      "source": [
        "### Tenure, Exited"
      ]
    },
    {
      "cell_type": "code",
      "metadata": {
        "id": "Jx4QFTJ0_aUb",
        "colab": {
          "base_uri": "https://localhost:8080/"
        },
        "outputId": "49ceb8d1-6074-4c39-ced8-076d7b23d07b"
      },
      "source": [
        "sns.countplot(data=df, x='Tenure', hue='Exited');\n",
        "plt.legend(labels=['No', 'Yes'], loc='upper right');\n",
        "plt.title('Perbandingan Tenure dan Exited');"
      ],
      "execution_count": null,
      "outputs": [
        {
          "output_type": "display_data",
          "data": {
            "image/png": "[encoded data removed]",
            "text/plain": [
              "<Figure size 432x288 with 1 Axes>"
            ]
          },
          "metadata": {}
        }
      ]
    },
    {
      "cell_type": "markdown",
      "metadata": {
        "id": "WZ5loj9Z_a-d"
      },
      "source": [
        "### Balance, Exited"
      ]
    },
    {
      "cell_type": "code",
      "metadata": {
        "id": "Tz5hu2-i_f3O",
        "colab": {
          "base_uri": "https://localhost:8080/"
        },
        "outputId": "f8aea655-1888-4e39-acda-79bcf105985c"
      },
      "source": [
        "df[df.Exited == 0]['Balance'].hist(bins=20, alpha=0.5);\n",
        "df[df.Exited == 1]['Balance'].hist(bins=20, alpha=0.5);\n",
        "plt.legend(labels=['No', 'Yes'], loc='upper right');\n",
        "plt.title('Perbandingan Balance dan Exited');"
      ],
      "execution_count": null,
      "outputs": [
        {
          "output_type": "display_data",
          "data": {
            "image/png": "[encoded data removed]",
            "text/plain": [
              "<Figure size 432x288 with 1 Axes>"
            ]
          },
          "metadata": {}
        }
      ]
    },
    {
      "cell_type": "markdown",
      "metadata": {
        "id": "L81m8Fo3980g"
      },
      "source": [
        "### NumOfProducts, Exited"
      ]
    },
    {
      "cell_type": "code",
      "metadata": {
        "id": "NnBMunE84fXZ",
        "colab": {
          "base_uri": "https://localhost:8080/"
        },
        "outputId": "4bcec330-e15f-4dc7-b599-a62ead3bd05c"
      },
      "source": [
        "sns.countplot(data=df, x='NumOfProducts', hue='Exited');\n",
        "plt.legend(labels=['No', 'Yes'], loc='upper right');\n",
        "plt.title('Perbandingan NumOfProducts dan Exited');"
      ],
      "execution_count": null,
      "outputs": [
        {
          "output_type": "display_data",
          "data": {
            "image/png": "[encoded data removed]",
            "text/plain": [
              "<Figure size 432x288 with 1 Axes>"
            ]
          },
          "metadata": {}
        }
      ]
    },
    {
      "cell_type": "markdown",
      "metadata": {
        "id": "gWnuVa8t-GUm"
      },
      "source": [
        "### HasCrCard, Exited"
      ]
    },
    {
      "cell_type": "code",
      "metadata": {
        "id": "TyNhYZK_5IlG",
        "colab": {
          "base_uri": "https://localhost:8080/"
        },
        "outputId": "7b2235af-8505-4075-87b2-6ed3391d56db"
      },
      "source": [
        "sns.countplot(data=df, x='HasCrCard', hue='Exited');\n",
        "plt.legend(labels=['No', 'Yes'], loc='upper left');\n",
        "plt.title('Perbandingan HasCrCard dan Exited');"
      ],
      "execution_count": null,
      "outputs": [
        {
          "output_type": "display_data",
          "data": {
            "image/png": "[encoded data removed]",
            "text/plain": [
              "<Figure size 432x288 with 1 Axes>"
            ]
          },
          "metadata": {}
        }
      ]
    },
    {
      "cell_type": "markdown",
      "metadata": {
        "id": "Z6aJBiTT-K6h"
      },
      "source": [
        "### IsActiveMember, Exited"
      ]
    },
    {
      "cell_type": "code",
      "metadata": {
        "id": "GR49oF3w5dCi",
        "colab": {
          "base_uri": "https://localhost:8080/"
        },
        "outputId": "8690dad7-dbf7-46d7-a1e0-fd6b692d7664"
      },
      "source": [
        "sns.countplot(data=df, x='IsActiveMember', hue='Exited');\n",
        "plt.legend(labels=['No', 'Yes'], loc='upper left');\n",
        "plt.title('Perbandingan IsActiveMember dan Exited');"
      ],
      "execution_count": null,
      "outputs": [
        {
          "output_type": "display_data",
          "data": {
            "image/png": "[encoded data removed]",
            "text/plain": [
              "<Figure size 432x288 with 1 Axes>"
            ]
          },
          "metadata": {}
        }
      ]
    },
    {
      "cell_type": "markdown",
      "metadata": {
        "id": "GeXF9aoi-SGR"
      },
      "source": [
        "### EstimatedSalary, Exited"
      ]
    },
    {
      "cell_type": "code",
      "metadata": {
        "id": "eNpf4HNH55pM",
        "colab": {
          "base_uri": "https://localhost:8080/"
        },
        "outputId": "5446d9f6-7214-4dda-8688-4d5e4f0bf59c"
      },
      "source": [
        "df[df.Exited == 0]['EstimatedSalary'].hist(bins=20, alpha=0.5);\n",
        "df[df.Exited == 1]['EstimatedSalary'].hist(bins=20, alpha=0.5);\n",
        "plt.legend(labels=['No', 'Yes'], loc='upper right');\n",
        "plt.title('Perbandingan EstimatedSalary dan Exited');"
      ],
      "execution_count": null,
      "outputs": [
        {
          "output_type": "display_data",
          "data": {
            "image/png": "[encoded data removed]",
            "text/plain": [
              "<Figure size 432x288 with 1 Axes>"
            ]
          },
          "metadata": {}
        }
      ]
    },
    {
      "cell_type": "markdown",
      "metadata": {
        "id": "GFuZhosO4hxL"
      },
      "source": [
        "## Correlation Coefficient"
      ]
    },
    {
      "cell_type": "markdown",
      "metadata": {
        "id": "x_BVULGggYwc"
      },
      "source": [
        "### Spearman"
      ]
    },
    {
      "cell_type": "code",
      "metadata": {
        "id": "Sk7QVLkNwOYi",
        "colab": {
          "base_uri": "https://localhost:8080/"
        },
        "outputId": "5e74f2d8-d083-461c-bc56-34c5567e6cc2"
      },
      "source": [
        "plt.subplots(figsize=(16,12))\n",
        "sns.heatmap(df.corr(method = 'spearman'), annot=True, annot_kws={\"size\":12}, fmt='.2f', vmin=-1, vmax=1, center=0, cmap=sns.diverging_palette(20, 220, n=200), square=True);"
      ],
      "execution_count": null,
      "outputs": [
        {
          "output_type": "display_data",
          "data": {
            "image/png": "[encoded data removed]",
            "text/plain": [
              "<Figure size 1152x864 with 2 Axes>"
            ]
          },
          "metadata": {}
        }
      ]
    },
    {
      "cell_type": "markdown",
      "metadata": {
        "id": "bo3jjgxPgNrI"
      },
      "source": [
        "# Data Preprocessing"
      ]
    },
    {
      "cell_type": "markdown",
      "metadata": {
        "id": "4nc53JnaK8jV"
      },
      "source": [
        "## Handling Missing Values"
      ]
    },
    {
      "cell_type": "code",
      "metadata": {
        "id": "-0ZlLDOczAhW",
        "colab": {
          "base_uri": "https://localhost:8080/"
        },
        "outputId": "99f77d04-5ea0-4c13-ad13-67741071f48f"
      },
      "source": [
        "# Melakukan pengecekan missing values\n",
        "print(df.isnull().sum())"
      ],
      "execution_count": null,
      "outputs": [
        {
          "output_type": "stream",
          "name": "stdout",
          "text": [
            "RowNumber          0\n",
            "CustomerId         0\n",
            "Surname            0\n",
            "CreditScore        0\n",
            "Geography          0\n",
            "Gender             0\n",
            "Age                0\n",
            "Tenure             0\n",
            "Balance            0\n",
            "NumOfProducts      0\n",
            "HasCrCard          0\n",
            "IsActiveMember     0\n",
            "EstimatedSalary    0\n",
            "Exited             0\n",
            "dtype: int64\n"
          ]
        }
      ]
    },
    {
      "cell_type": "markdown",
      "metadata": {
        "id": "q4TkPMMVq2xt"
      },
      "source": [
        "## Handling Duplicate Values"
      ]
    },
    {
      "cell_type": "code",
      "metadata": {
        "id": "SpRNoYU9ftS3",
        "colab": {
          "base_uri": "https://localhost:8080/"
        },
        "outputId": "9f9b23f6-c459-4239-a055-b69a520c9f71"
      },
      "source": [
        "# Melakukan pengecekan duplicate values\n",
        "print(df.duplicated().sum())"
      ],
      "execution_count": null,
      "outputs": [
        {
          "output_type": "stream",
          "name": "stdout",
          "text": [
            "0\n"
          ]
        }
      ]
    },
    {
      "cell_type": "markdown",
      "metadata": {
        "id": "05jQn9MKrCqw"
      },
      "source": [
        "## Remove Unnecessary Columns"
      ]
    },
    {
      "cell_type": "code",
      "metadata": {
        "id": "-8KKfbadij2c",
        "colab": {
          "base_uri": "https://localhost:8080/"
        },
        "outputId": "be02ded0-4fba-4196-cbb5-07430aca282e"
      },
      "source": [
        "# Menghapus kolom RowNumber, CustomerId, dan Surname karena tidak dibutuhkan\n",
        "df = df.drop(['RowNumber','CustomerId','Surname'], 1)\n",
        "df"
      ],
      "execution_count": null,
      "outputs": [
        {
          "output_type": "execute_result",
          "data": {
            "text/html": [
              "<div>\n",
              "<style scoped>\n",
              "    .dataframe tbody tr th:only-of-type {\n",
              "        vertical-align: middle;\n",
              "    }\n",
              "\n",
              "    .dataframe tbody tr th {\n",
              "        vertical-align: top;\n",
              "    }\n",
              "\n",
              "    .dataframe thead th {\n",
              "        text-align: right;\n",
              "    }\n",
              "</style>\n",
              "<table border=\"1\" class=\"dataframe\">\n",
              "  <thead>\n",
              "    <tr style=\"text-align: right;\">\n",
              "      <th></th>\n",
              "      <th>CreditScore</th>\n",
              "      <th>Geography</th>\n",
              "      <th>Gender</th>\n",
              "      <th>Age</th>\n",
              "      <th>Tenure</th>\n",
              "      <th>Balance</th>\n",
              "      <th>NumOfProducts</th>\n",
              "      <th>HasCrCard</th>\n",
              "      <th>IsActiveMember</th>\n",
              "      <th>EstimatedSalary</th>\n",
              "      <th>Exited</th>\n",
              "    </tr>\n",
              "  </thead>\n",
              "  <tbody>\n",
              "    <tr>\n",
              "      <th>0</th>\n",
              "      <td>619</td>\n",
              "      <td>France</td>\n",
              "      <td>Female</td>\n",
              "      <td>42</td>\n",
              "      <td>2</td>\n",
              "      <td>0.00</td>\n",
              "      <td>1</td>\n",
              "      <td>1</td>\n",
              "      <td>1</td>\n",
              "      <td>101348.88</td>\n",
              "      <td>1</td>\n",
              "    </tr>\n",
              "    <tr>\n",
              "      <th>1</th>\n",
              "      <td>608</td>\n",
              "      <td>Spain</td>\n",
              "      <td>Female</td>\n",
              "      <td>41</td>\n",
              "      <td>1</td>\n",
              "      <td>83807.86</td>\n",
              "      <td>1</td>\n",
              "      <td>0</td>\n",
              "      <td>1</td>\n",
              "      <td>112542.58</td>\n",
              "      <td>0</td>\n",
              "    </tr>\n",
              "    <tr>\n",
              "      <th>2</th>\n",
              "      <td>502</td>\n",
              "      <td>France</td>\n",
              "      <td>Female</td>\n",
              "      <td>42</td>\n",
              "      <td>8</td>\n",
              "      <td>159660.80</td>\n",
              "      <td>3</td>\n",
              "      <td>1</td>\n",
              "      <td>0</td>\n",
              "      <td>113931.57</td>\n",
              "      <td>1</td>\n",
              "    </tr>\n",
              "    <tr>\n",
              "      <th>3</th>\n",
              "      <td>699</td>\n",
              "      <td>France</td>\n",
              "      <td>Female</td>\n",
              "      <td>39</td>\n",
              "      <td>1</td>\n",
              "      <td>0.00</td>\n",
              "      <td>2</td>\n",
              "      <td>0</td>\n",
              "      <td>0</td>\n",
              "      <td>93826.63</td>\n",
              "      <td>0</td>\n",
              "    </tr>\n",
              "    <tr>\n",
              "      <th>4</th>\n",
              "      <td>850</td>\n",
              "      <td>Spain</td>\n",
              "      <td>Female</td>\n",
              "      <td>43</td>\n",
              "      <td>2</td>\n",
              "      <td>125510.82</td>\n",
              "      <td>1</td>\n",
              "      <td>1</td>\n",
              "      <td>1</td>\n",
              "      <td>79084.10</td>\n",
              "      <td>0</td>\n",
              "    </tr>\n",
              "    <tr>\n",
              "      <th>...</th>\n",
              "      <td>...</td>\n",
              "      <td>...</td>\n",
              "      <td>...</td>\n",
              "      <td>...</td>\n",
              "      <td>...</td>\n",
              "      <td>...</td>\n",
              "      <td>...</td>\n",
              "      <td>...</td>\n",
              "      <td>...</td>\n",
              "      <td>...</td>\n",
              "      <td>...</td>\n",
              "    </tr>\n",
              "    <tr>\n",
              "      <th>9995</th>\n",
              "      <td>771</td>\n",
              "      <td>France</td>\n",
              "      <td>Male</td>\n",
              "      <td>39</td>\n",
              "      <td>5</td>\n",
              "      <td>0.00</td>\n",
              "      <td>2</td>\n",
              "      <td>1</td>\n",
              "      <td>0</td>\n",
              "      <td>96270.64</td>\n",
              "      <td>0</td>\n",
              "    </tr>\n",
              "    <tr>\n",
              "      <th>9996</th>\n",
              "      <td>516</td>\n",
              "      <td>France</td>\n",
              "      <td>Male</td>\n",
              "      <td>35</td>\n",
              "      <td>10</td>\n",
              "      <td>57369.61</td>\n",
              "      <td>1</td>\n",
              "      <td>1</td>\n",
              "      <td>1</td>\n",
              "      <td>101699.77</td>\n",
              "      <td>0</td>\n",
              "    </tr>\n",
              "    <tr>\n",
              "      <th>9997</th>\n",
              "      <td>709</td>\n",
              "      <td>France</td>\n",
              "      <td>Female</td>\n",
              "      <td>36</td>\n",
              "      <td>7</td>\n",
              "      <td>0.00</td>\n",
              "      <td>1</td>\n",
              "      <td>0</td>\n",
              "      <td>1</td>\n",
              "      <td>42085.58</td>\n",
              "      <td>1</td>\n",
              "    </tr>\n",
              "    <tr>\n",
              "      <th>9998</th>\n",
              "      <td>772</td>\n",
              "      <td>Germany</td>\n",
              "      <td>Male</td>\n",
              "      <td>42</td>\n",
              "      <td>3</td>\n",
              "      <td>75075.31</td>\n",
              "      <td>2</td>\n",
              "      <td>1</td>\n",
              "      <td>0</td>\n",
              "      <td>92888.52</td>\n",
              "      <td>1</td>\n",
              "    </tr>\n",
              "    <tr>\n",
              "      <th>9999</th>\n",
              "      <td>792</td>\n",
              "      <td>France</td>\n",
              "      <td>Female</td>\n",
              "      <td>28</td>\n",
              "      <td>4</td>\n",
              "      <td>130142.79</td>\n",
              "      <td>1</td>\n",
              "      <td>1</td>\n",
              "      <td>0</td>\n",
              "      <td>38190.78</td>\n",
              "      <td>0</td>\n",
              "    </tr>\n",
              "  </tbody>\n",
              "</table>\n",
              "<p>10000 rows × 11 columns</p>\n",
              "</div>"
            ],
            "text/plain": [
              "      CreditScore Geography  Gender  ...  IsActiveMember  EstimatedSalary  Exited\n",
              "0             619    France  Female  ...               1        101348.88       1\n",
              "1             608     Spain  Female  ...               1        112542.58       0\n",
              "2             502    France  Female  ...               0        113931.57       1\n",
              "3             699    France  Female  ...               0         93826.63       0\n",
              "4             850     Spain  Female  ...               1         79084.10       0\n",
              "...           ...       ...     ...  ...             ...              ...     ...\n",
              "9995          771    France    Male  ...               0         96270.64       0\n",
              "9996          516    France    Male  ...               1        101699.77       0\n",
              "9997          709    France  Female  ...               1         42085.58       1\n",
              "9998          772   Germany    Male  ...               0         92888.52       1\n",
              "9999          792    France  Female  ...               0         38190.78       0\n",
              "\n",
              "[10000 rows x 11 columns]"
            ]
          },
          "metadata": {},
          "execution_count": 85
        }
      ]
    },
    {
      "cell_type": "markdown",
      "metadata": {
        "id": "D-q6_rRhDCIL"
      },
      "source": [
        "## Encoding Categorical Features"
      ]
    },
    {
      "cell_type": "code",
      "metadata": {
        "id": "JOE7j21nEm4z",
        "colab": {
          "base_uri": "https://localhost:8080/"
        },
        "outputId": "43e6ee29-df8a-49e5-df17-1568f567e0d3"
      },
      "source": [
        "# Mengubah feature kategorikal, Geography, menjadi numerikal (one hot encoding)\n",
        "df[['France','Spain','Germany']] = pd.get_dummies(df['Geography'])\n",
        "df = df.drop('Geography', 1)\n",
        "df"
      ],
      "execution_count": null,
      "outputs": [
        {
          "output_type": "execute_result",
          "data": {
            "text/html": [
              "<div>\n",
              "<style scoped>\n",
              "    .dataframe tbody tr th:only-of-type {\n",
              "        vertical-align: middle;\n",
              "    }\n",
              "\n",
              "    .dataframe tbody tr th {\n",
              "        vertical-align: top;\n",
              "    }\n",
              "\n",
              "    .dataframe thead th {\n",
              "        text-align: right;\n",
              "    }\n",
              "</style>\n",
              "<table border=\"1\" class=\"dataframe\">\n",
              "  <thead>\n",
              "    <tr style=\"text-align: right;\">\n",
              "      <th></th>\n",
              "      <th>CreditScore</th>\n",
              "      <th>Gender</th>\n",
              "      <th>Age</th>\n",
              "      <th>Tenure</th>\n",
              "      <th>Balance</th>\n",
              "      <th>NumOfProducts</th>\n",
              "      <th>HasCrCard</th>\n",
              "      <th>IsActiveMember</th>\n",
              "      <th>EstimatedSalary</th>\n",
              "      <th>Exited</th>\n",
              "      <th>France</th>\n",
              "      <th>Spain</th>\n",
              "      <th>Germany</th>\n",
              "    </tr>\n",
              "  </thead>\n",
              "  <tbody>\n",
              "    <tr>\n",
              "      <th>0</th>\n",
              "      <td>619</td>\n",
              "      <td>Female</td>\n",
              "      <td>42</td>\n",
              "      <td>2</td>\n",
              "      <td>0.00</td>\n",
              "      <td>1</td>\n",
              "      <td>1</td>\n",
              "      <td>1</td>\n",
              "      <td>101348.88</td>\n",
              "      <td>1</td>\n",
              "      <td>1</td>\n",
              "      <td>0</td>\n",
              "      <td>0</td>\n",
              "    </tr>\n",
              "    <tr>\n",
              "      <th>1</th>\n",
              "      <td>608</td>\n",
              "      <td>Female</td>\n",
              "      <td>41</td>\n",
              "      <td>1</td>\n",
              "      <td>83807.86</td>\n",
              "      <td>1</td>\n",
              "      <td>0</td>\n",
              "      <td>1</td>\n",
              "      <td>112542.58</td>\n",
              "      <td>0</td>\n",
              "      <td>0</td>\n",
              "      <td>0</td>\n",
              "      <td>1</td>\n",
              "    </tr>\n",
              "    <tr>\n",
              "      <th>2</th>\n",
              "      <td>502</td>\n",
              "      <td>Female</td>\n",
              "      <td>42</td>\n",
              "      <td>8</td>\n",
              "      <td>159660.80</td>\n",
              "      <td>3</td>\n",
              "      <td>1</td>\n",
              "      <td>0</td>\n",
              "      <td>113931.57</td>\n",
              "      <td>1</td>\n",
              "      <td>1</td>\n",
              "      <td>0</td>\n",
              "      <td>0</td>\n",
              "    </tr>\n",
              "    <tr>\n",
              "      <th>3</th>\n",
              "      <td>699</td>\n",
              "      <td>Female</td>\n",
              "      <td>39</td>\n",
              "      <td>1</td>\n",
              "      <td>0.00</td>\n",
              "      <td>2</td>\n",
              "      <td>0</td>\n",
              "      <td>0</td>\n",
              "      <td>93826.63</td>\n",
              "      <td>0</td>\n",
              "      <td>1</td>\n",
              "      <td>0</td>\n",
              "      <td>0</td>\n",
              "    </tr>\n",
              "    <tr>\n",
              "      <th>4</th>\n",
              "      <td>850</td>\n",
              "      <td>Female</td>\n",
              "      <td>43</td>\n",
              "      <td>2</td>\n",
              "      <td>125510.82</td>\n",
              "      <td>1</td>\n",
              "      <td>1</td>\n",
              "      <td>1</td>\n",
              "      <td>79084.10</td>\n",
              "      <td>0</td>\n",
              "      <td>0</td>\n",
              "      <td>0</td>\n",
              "      <td>1</td>\n",
              "    </tr>\n",
              "    <tr>\n",
              "      <th>...</th>\n",
              "      <td>...</td>\n",
              "      <td>...</td>\n",
              "      <td>...</td>\n",
              "      <td>...</td>\n",
              "      <td>...</td>\n",
              "      <td>...</td>\n",
              "      <td>...</td>\n",
              "      <td>...</td>\n",
              "      <td>...</td>\n",
              "      <td>...</td>\n",
              "      <td>...</td>\n",
              "      <td>...</td>\n",
              "      <td>...</td>\n",
              "    </tr>\n",
              "    <tr>\n",
              "      <th>9995</th>\n",
              "      <td>771</td>\n",
              "      <td>Male</td>\n",
              "      <td>39</td>\n",
              "      <td>5</td>\n",
              "      <td>0.00</td>\n",
              "      <td>2</td>\n",
              "      <td>1</td>\n",
              "      <td>0</td>\n",
              "      <td>96270.64</td>\n",
              "      <td>0</td>\n",
              "      <td>1</td>\n",
              "      <td>0</td>\n",
              "      <td>0</td>\n",
              "    </tr>\n",
              "    <tr>\n",
              "      <th>9996</th>\n",
              "      <td>516</td>\n",
              "      <td>Male</td>\n",
              "      <td>35</td>\n",
              "      <td>10</td>\n",
              "      <td>57369.61</td>\n",
              "      <td>1</td>\n",
              "      <td>1</td>\n",
              "      <td>1</td>\n",
              "      <td>101699.77</td>\n",
              "      <td>0</td>\n",
              "      <td>1</td>\n",
              "      <td>0</td>\n",
              "      <td>0</td>\n",
              "    </tr>\n",
              "    <tr>\n",
              "      <th>9997</th>\n",
              "      <td>709</td>\n",
              "      <td>Female</td>\n",
              "      <td>36</td>\n",
              "      <td>7</td>\n",
              "      <td>0.00</td>\n",
              "      <td>1</td>\n",
              "      <td>0</td>\n",
              "      <td>1</td>\n",
              "      <td>42085.58</td>\n",
              "      <td>1</td>\n",
              "      <td>1</td>\n",
              "      <td>0</td>\n",
              "      <td>0</td>\n",
              "    </tr>\n",
              "    <tr>\n",
              "      <th>9998</th>\n",
              "      <td>772</td>\n",
              "      <td>Male</td>\n",
              "      <td>42</td>\n",
              "      <td>3</td>\n",
              "      <td>75075.31</td>\n",
              "      <td>2</td>\n",
              "      <td>1</td>\n",
              "      <td>0</td>\n",
              "      <td>92888.52</td>\n",
              "      <td>1</td>\n",
              "      <td>0</td>\n",
              "      <td>1</td>\n",
              "      <td>0</td>\n",
              "    </tr>\n",
              "    <tr>\n",
              "      <th>9999</th>\n",
              "      <td>792</td>\n",
              "      <td>Female</td>\n",
              "      <td>28</td>\n",
              "      <td>4</td>\n",
              "      <td>130142.79</td>\n",
              "      <td>1</td>\n",
              "      <td>1</td>\n",
              "      <td>0</td>\n",
              "      <td>38190.78</td>\n",
              "      <td>0</td>\n",
              "      <td>1</td>\n",
              "      <td>0</td>\n",
              "      <td>0</td>\n",
              "    </tr>\n",
              "  </tbody>\n",
              "</table>\n",
              "<p>10000 rows × 13 columns</p>\n",
              "</div>"
            ],
            "text/plain": [
              "      CreditScore  Gender  Age  Tenure  ...  Exited  France  Spain  Germany\n",
              "0             619  Female   42       2  ...       1       1      0        0\n",
              "1             608  Female   41       1  ...       0       0      0        1\n",
              "2             502  Female   42       8  ...       1       1      0        0\n",
              "3             699  Female   39       1  ...       0       1      0        0\n",
              "4             850  Female   43       2  ...       0       0      0        1\n",
              "...           ...     ...  ...     ...  ...     ...     ...    ...      ...\n",
              "9995          771    Male   39       5  ...       0       1      0        0\n",
              "9996          516    Male   35      10  ...       0       1      0        0\n",
              "9997          709  Female   36       7  ...       1       1      0        0\n",
              "9998          772    Male   42       3  ...       1       0      1        0\n",
              "9999          792  Female   28       4  ...       0       1      0        0\n",
              "\n",
              "[10000 rows x 13 columns]"
            ]
          },
          "metadata": {},
          "execution_count": 86
        }
      ]
    },
    {
      "cell_type": "code",
      "metadata": {
        "id": "_vxgGBALIWSb",
        "colab": {
          "base_uri": "https://localhost:8080/"
        },
        "outputId": "2e4647de-e768-4b08-838b-bc1774710c34"
      },
      "source": [
        "# Mengubah feature kategorikal, Gender, menjadi numerikal (label encoding)\n",
        "df['Gender'] = [0 if i == 'Female' else 1 for i in df['Gender']]\n",
        "df"
      ],
      "execution_count": null,
      "outputs": [
        {
          "output_type": "execute_result",
          "data": {
            "text/html": [
              "<div>\n",
              "<style scoped>\n",
              "    .dataframe tbody tr th:only-of-type {\n",
              "        vertical-align: middle;\n",
              "    }\n",
              "\n",
              "    .dataframe tbody tr th {\n",
              "        vertical-align: top;\n",
              "    }\n",
              "\n",
              "    .dataframe thead th {\n",
              "        text-align: right;\n",
              "    }\n",
              "</style>\n",
              "<table border=\"1\" class=\"dataframe\">\n",
              "  <thead>\n",
              "    <tr style=\"text-align: right;\">\n",
              "      <th></th>\n",
              "      <th>CreditScore</th>\n",
              "      <th>Gender</th>\n",
              "      <th>Age</th>\n",
              "      <th>Tenure</th>\n",
              "      <th>Balance</th>\n",
              "      <th>NumOfProducts</th>\n",
              "      <th>HasCrCard</th>\n",
              "      <th>IsActiveMember</th>\n",
              "      <th>EstimatedSalary</th>\n",
              "      <th>Exited</th>\n",
              "      <th>France</th>\n",
              "      <th>Spain</th>\n",
              "      <th>Germany</th>\n",
              "    </tr>\n",
              "  </thead>\n",
              "  <tbody>\n",
              "    <tr>\n",
              "      <th>0</th>\n",
              "      <td>619</td>\n",
              "      <td>0</td>\n",
              "      <td>42</td>\n",
              "      <td>2</td>\n",
              "      <td>0.00</td>\n",
              "      <td>1</td>\n",
              "      <td>1</td>\n",
              "      <td>1</td>\n",
              "      <td>101348.88</td>\n",
              "      <td>1</td>\n",
              "      <td>1</td>\n",
              "      <td>0</td>\n",
              "      <td>0</td>\n",
              "    </tr>\n",
              "    <tr>\n",
              "      <th>1</th>\n",
              "      <td>608</td>\n",
              "      <td>0</td>\n",
              "      <td>41</td>\n",
              "      <td>1</td>\n",
              "      <td>83807.86</td>\n",
              "      <td>1</td>\n",
              "      <td>0</td>\n",
              "      <td>1</td>\n",
              "      <td>112542.58</td>\n",
              "      <td>0</td>\n",
              "      <td>0</td>\n",
              "      <td>0</td>\n",
              "      <td>1</td>\n",
              "    </tr>\n",
              "    <tr>\n",
              "      <th>2</th>\n",
              "      <td>502</td>\n",
              "      <td>0</td>\n",
              "      <td>42</td>\n",
              "      <td>8</td>\n",
              "      <td>159660.80</td>\n",
              "      <td>3</td>\n",
              "      <td>1</td>\n",
              "      <td>0</td>\n",
              "      <td>113931.57</td>\n",
              "      <td>1</td>\n",
              "      <td>1</td>\n",
              "      <td>0</td>\n",
              "      <td>0</td>\n",
              "    </tr>\n",
              "    <tr>\n",
              "      <th>3</th>\n",
              "      <td>699</td>\n",
              "      <td>0</td>\n",
              "      <td>39</td>\n",
              "      <td>1</td>\n",
              "      <td>0.00</td>\n",
              "      <td>2</td>\n",
              "      <td>0</td>\n",
              "      <td>0</td>\n",
              "      <td>93826.63</td>\n",
              "      <td>0</td>\n",
              "      <td>1</td>\n",
              "      <td>0</td>\n",
              "      <td>0</td>\n",
              "    </tr>\n",
              "    <tr>\n",
              "      <th>4</th>\n",
              "      <td>850</td>\n",
              "      <td>0</td>\n",
              "      <td>43</td>\n",
              "      <td>2</td>\n",
              "      <td>125510.82</td>\n",
              "      <td>1</td>\n",
              "      <td>1</td>\n",
              "      <td>1</td>\n",
              "      <td>79084.10</td>\n",
              "      <td>0</td>\n",
              "      <td>0</td>\n",
              "      <td>0</td>\n",
              "      <td>1</td>\n",
              "    </tr>\n",
              "    <tr>\n",
              "      <th>...</th>\n",
              "      <td>...</td>\n",
              "      <td>...</td>\n",
              "      <td>...</td>\n",
              "      <td>...</td>\n",
              "      <td>...</td>\n",
              "      <td>...</td>\n",
              "      <td>...</td>\n",
              "      <td>...</td>\n",
              "      <td>...</td>\n",
              "      <td>...</td>\n",
              "      <td>...</td>\n",
              "      <td>...</td>\n",
              "      <td>...</td>\n",
              "    </tr>\n",
              "    <tr>\n",
              "      <th>9995</th>\n",
              "      <td>771</td>\n",
              "      <td>1</td>\n",
              "      <td>39</td>\n",
              "      <td>5</td>\n",
              "      <td>0.00</td>\n",
              "      <td>2</td>\n",
              "      <td>1</td>\n",
              "      <td>0</td>\n",
              "      <td>96270.64</td>\n",
              "      <td>0</td>\n",
              "      <td>1</td>\n",
              "      <td>0</td>\n",
              "      <td>0</td>\n",
              "    </tr>\n",
              "    <tr>\n",
              "      <th>9996</th>\n",
              "      <td>516</td>\n",
              "      <td>1</td>\n",
              "      <td>35</td>\n",
              "      <td>10</td>\n",
              "      <td>57369.61</td>\n",
              "      <td>1</td>\n",
              "      <td>1</td>\n",
              "      <td>1</td>\n",
              "      <td>101699.77</td>\n",
              "      <td>0</td>\n",
              "      <td>1</td>\n",
              "      <td>0</td>\n",
              "      <td>0</td>\n",
              "    </tr>\n",
              "    <tr>\n",
              "      <th>9997</th>\n",
              "      <td>709</td>\n",
              "      <td>0</td>\n",
              "      <td>36</td>\n",
              "      <td>7</td>\n",
              "      <td>0.00</td>\n",
              "      <td>1</td>\n",
              "      <td>0</td>\n",
              "      <td>1</td>\n",
              "      <td>42085.58</td>\n",
              "      <td>1</td>\n",
              "      <td>1</td>\n",
              "      <td>0</td>\n",
              "      <td>0</td>\n",
              "    </tr>\n",
              "    <tr>\n",
              "      <th>9998</th>\n",
              "      <td>772</td>\n",
              "      <td>1</td>\n",
              "      <td>42</td>\n",
              "      <td>3</td>\n",
              "      <td>75075.31</td>\n",
              "      <td>2</td>\n",
              "      <td>1</td>\n",
              "      <td>0</td>\n",
              "      <td>92888.52</td>\n",
              "      <td>1</td>\n",
              "      <td>0</td>\n",
              "      <td>1</td>\n",
              "      <td>0</td>\n",
              "    </tr>\n",
              "    <tr>\n",
              "      <th>9999</th>\n",
              "      <td>792</td>\n",
              "      <td>0</td>\n",
              "      <td>28</td>\n",
              "      <td>4</td>\n",
              "      <td>130142.79</td>\n",
              "      <td>1</td>\n",
              "      <td>1</td>\n",
              "      <td>0</td>\n",
              "      <td>38190.78</td>\n",
              "      <td>0</td>\n",
              "      <td>1</td>\n",
              "      <td>0</td>\n",
              "      <td>0</td>\n",
              "    </tr>\n",
              "  </tbody>\n",
              "</table>\n",
              "<p>10000 rows × 13 columns</p>\n",
              "</div>"
            ],
            "text/plain": [
              "      CreditScore  Gender  Age  Tenure  ...  Exited  France  Spain  Germany\n",
              "0             619       0   42       2  ...       1       1      0        0\n",
              "1             608       0   41       1  ...       0       0      0        1\n",
              "2             502       0   42       8  ...       1       1      0        0\n",
              "3             699       0   39       1  ...       0       1      0        0\n",
              "4             850       0   43       2  ...       0       0      0        1\n",
              "...           ...     ...  ...     ...  ...     ...     ...    ...      ...\n",
              "9995          771       1   39       5  ...       0       1      0        0\n",
              "9996          516       1   35      10  ...       0       1      0        0\n",
              "9997          709       0   36       7  ...       1       1      0        0\n",
              "9998          772       1   42       3  ...       1       0      1        0\n",
              "9999          792       0   28       4  ...       0       1      0        0\n",
              "\n",
              "[10000 rows x 13 columns]"
            ]
          },
          "metadata": {},
          "execution_count": 87
        }
      ]
    },
    {
      "cell_type": "markdown",
      "metadata": {
        "id": "Zl2ghABqJxGl"
      },
      "source": [
        "## Splitting Dataset"
      ]
    },
    {
      "cell_type": "code",
      "metadata": {
        "id": "t0FIil8gKmhV"
      },
      "source": [
        "# Membagi dataset berdasarkan feature predictor dan target\n",
        "x = df.drop('Exited', 1)\n",
        "y = df[['Exited']]"
      ],
      "execution_count": null,
      "outputs": []
    },
    {
      "cell_type": "code",
      "metadata": {
        "id": "VyVNEeBDMGTp",
        "colab": {
          "base_uri": "https://localhost:8080/"
        },
        "outputId": "1bda3f09-dec8-4b8c-e86e-3c8da35d6143"
      },
      "source": [
        "# Feature predictor\n",
        "print(x)"
      ],
      "execution_count": null,
      "outputs": [
        {
          "output_type": "stream",
          "name": "stdout",
          "text": [
            "      CreditScore  Gender  Age  Tenure  ...  EstimatedSalary  France  Spain  Germany\n",
            "0             619       0   42       2  ...        101348.88       1      0        0\n",
            "1             608       0   41       1  ...        112542.58       0      0        1\n",
            "2             502       0   42       8  ...        113931.57       1      0        0\n",
            "3             699       0   39       1  ...         93826.63       1      0        0\n",
            "4             850       0   43       2  ...         79084.10       0      0        1\n",
            "...           ...     ...  ...     ...  ...              ...     ...    ...      ...\n",
            "9995          771       1   39       5  ...         96270.64       1      0        0\n",
            "9996          516       1   35      10  ...        101699.77       1      0        0\n",
            "9997          709       0   36       7  ...         42085.58       1      0        0\n",
            "9998          772       1   42       3  ...         92888.52       0      1        0\n",
            "9999          792       0   28       4  ...         38190.78       1      0        0\n",
            "\n",
            "[10000 rows x 12 columns]\n"
          ]
        }
      ]
    },
    {
      "cell_type": "code",
      "metadata": {
        "id": "rR8NBlRkMQxE",
        "colab": {
          "base_uri": "https://localhost:8080/"
        },
        "outputId": "8bc4cd62-208f-49d1-84e1-06dacd4146b0"
      },
      "source": [
        "# Feature target\n",
        "print(y)"
      ],
      "execution_count": null,
      "outputs": [
        {
          "output_type": "stream",
          "name": "stdout",
          "text": [
            "      Exited\n",
            "0          1\n",
            "1          0\n",
            "2          1\n",
            "3          0\n",
            "4          0\n",
            "...      ...\n",
            "9995       0\n",
            "9996       0\n",
            "9997       1\n",
            "9998       1\n",
            "9999       0\n",
            "\n",
            "[10000 rows x 1 columns]\n"
          ]
        }
      ]
    },
    {
      "cell_type": "code",
      "metadata": {
        "id": "Lin6dh4GMfN7"
      },
      "source": [
        "# Membagi dataset berdasarkan data train dan data test\n",
        "x_train, x_test, y_train, y_test = train_test_split(x, y, test_size=0.2, random_state=62, stratify=y)"
      ],
      "execution_count": null,
      "outputs": []
    },
    {
      "cell_type": "code",
      "metadata": {
        "id": "Rhx0UNPwNFHz",
        "colab": {
          "base_uri": "https://localhost:8080/"
        },
        "outputId": "35f0c77c-4346-4019-e5f9-5b5cbbfaa0fa"
      },
      "source": [
        "# Data train feature predictor\n",
        "print(x_train)"
      ],
      "execution_count": null,
      "outputs": [
        {
          "output_type": "stream",
          "name": "stdout",
          "text": [
            "      CreditScore  Gender  Age  Tenure  ...  EstimatedSalary  France  Spain  Germany\n",
            "4428          602       0   35       5  ...         31050.02       1      0        0\n",
            "5361          589       1   46       9  ...        170676.67       1      0        0\n",
            "2542          549       1   41       9  ...        131710.59       0      1        0\n",
            "6837          664       1   40       9  ...        194767.30       1      0        0\n",
            "6155          759       1   26       4  ...        135394.62       1      0        0\n",
            "...           ...     ...  ...     ...  ...              ...     ...    ...      ...\n",
            "7291          599       1   33       4  ...        111622.76       0      0        1\n",
            "4033          632       1   48       6  ...         64345.61       0      1        0\n",
            "7361          692       0   36       4  ...        185580.89       1      0        0\n",
            "5170          814       0   31       4  ...        142029.17       1      0        0\n",
            "5834          793       1   32       2  ...        193817.63       1      0        0\n",
            "\n",
            "[8000 rows x 12 columns]\n"
          ]
        }
      ]
    },
    {
      "cell_type": "code",
      "metadata": {
        "id": "S-kZXDDrNab7",
        "colab": {
          "base_uri": "https://localhost:8080/"
        },
        "outputId": "74c4272b-7286-46b0-abd2-b6d02c414970"
      },
      "source": [
        "# Data test feature predictor\n",
        "print(x_test)"
      ],
      "execution_count": null,
      "outputs": [
        {
          "output_type": "stream",
          "name": "stdout",
          "text": [
            "      CreditScore  Gender  Age  Tenure  ...  EstimatedSalary  France  Spain  Germany\n",
            "5895          738       1   37       7  ...        195333.98       0      1        0\n",
            "1371          611       0   43       8  ...        114996.33       1      0        0\n",
            "6133          667       0   33       4  ...         69011.66       0      1        0\n",
            "3238          675       1   54       6  ...        110273.84       1      0        0\n",
            "6633          729       0   42       7  ...         58268.20       0      0        1\n",
            "...           ...     ...  ...     ...  ...              ...     ...    ...      ...\n",
            "3056          685       1   58       1  ...        154181.41       1      0        0\n",
            "7285          679       1   29       3  ...         63687.06       1      0        0\n",
            "4357          755       1   36       8  ...        176809.87       1      0        0\n",
            "183           636       1   42       2  ...         55470.78       1      0        0\n",
            "8192          589       1   36       8  ...         26955.72       1      0        0\n",
            "\n",
            "[2000 rows x 12 columns]\n"
          ]
        }
      ]
    },
    {
      "cell_type": "code",
      "metadata": {
        "id": "SXsQQBuTNe_e",
        "colab": {
          "base_uri": "https://localhost:8080/"
        },
        "outputId": "7b528a23-eabb-4efe-9e32-4bafceba1809"
      },
      "source": [
        "# Data train feature target\n",
        "print(y_train)"
      ],
      "execution_count": null,
      "outputs": [
        {
          "output_type": "stream",
          "name": "stdout",
          "text": [
            "      Exited\n",
            "4428       0\n",
            "5361       0\n",
            "2542       1\n",
            "6837       0\n",
            "6155       0\n",
            "...      ...\n",
            "7291       1\n",
            "4033       1\n",
            "7361       1\n",
            "5170       0\n",
            "5834       1\n",
            "\n",
            "[8000 rows x 1 columns]\n"
          ]
        }
      ]
    },
    {
      "cell_type": "code",
      "metadata": {
        "id": "gssHS5_rNiqY",
        "colab": {
          "base_uri": "https://localhost:8080/"
        },
        "outputId": "9dbb0588-0020-4517-fe18-9d98c38c5585"
      },
      "source": [
        "# Data test feature target\n",
        "print(y_test)"
      ],
      "execution_count": null,
      "outputs": [
        {
          "output_type": "stream",
          "name": "stdout",
          "text": [
            "      Exited\n",
            "5895       0\n",
            "1371       0\n",
            "6133       0\n",
            "3238       1\n",
            "6633       1\n",
            "...      ...\n",
            "3056       0\n",
            "7285       0\n",
            "4357       0\n",
            "183        0\n",
            "8192       0\n",
            "\n",
            "[2000 rows x 1 columns]\n"
          ]
        }
      ]
    },
    {
      "cell_type": "markdown",
      "metadata": {
        "id": "zzNjH96XNrV2"
      },
      "source": [
        "## Feature Scaling"
      ]
    },
    {
      "cell_type": "code",
      "metadata": {
        "id": "GgjXot3aNtj0",
        "colab": {
          "base_uri": "https://localhost:8080/"
        },
        "outputId": "f7273bd1-af5d-4923-d0c7-e49d48894776"
      },
      "source": [
        "# Melakukan standarisasi pada data train\n",
        "sc = StandardScaler()\n",
        "x_train = sc.fit_transform(x_train)\n",
        "x_train"
      ],
      "execution_count": null,
      "outputs": [
        {
          "output_type": "execute_result",
          "data": {
            "text/plain": [
              "array([[-0.4947136 , -1.0952694 , -0.37577777, ...,  0.99401789,\n",
              "        -0.57831252, -0.57176909],\n",
              "       [-0.62969543,  0.91301738,  0.67321486, ...,  0.99401789,\n",
              "        -0.57831252, -0.57176909],\n",
              "       [-1.04502414,  0.91301738,  0.19640003, ..., -1.00601811,\n",
              "         1.72916886, -0.57176909],\n",
              "       ...,\n",
              "       [ 0.43977599, -1.0952694 , -0.2804148 , ...,  0.99401789,\n",
              "        -0.57831252, -0.57176909],\n",
              "       [ 1.70652855, -1.0952694 , -0.75722963, ...,  0.99401789,\n",
              "        -0.57831252, -0.57176909],\n",
              "       [ 1.48848098,  0.91301738, -0.66186667, ...,  0.99401789,\n",
              "        -0.57831252, -0.57176909]])"
            ]
          },
          "metadata": {},
          "execution_count": 96
        }
      ]
    },
    {
      "cell_type": "code",
      "metadata": {
        "id": "BIyBrOnvOoDe",
        "colab": {
          "base_uri": "https://localhost:8080/"
        },
        "outputId": "4c05f9d2-7375-4b2c-9136-468eeddcf9a7"
      },
      "source": [
        "# Melakukan standarisasi pada data test feature predictor\n",
        "x_test = sc.transform(x_test)\n",
        "x_test"
      ],
      "execution_count": null,
      "outputs": [
        {
          "output_type": "execute_result",
          "data": {
            "text/plain": [
              "array([[ 0.91740401,  0.91301738, -0.18505184, ..., -1.00601811,\n",
              "         1.72916886, -0.57176909],\n",
              "       [-0.40126464, -1.0952694 ,  0.38712596, ...,  0.99401789,\n",
              "        -0.57831252, -0.57176909],\n",
              "       [ 0.18019555, -1.0952694 , -0.5665037 , ..., -1.00601811,\n",
              "         1.72916886, -0.57176909],\n",
              "       ...,\n",
              "       [ 1.09391871,  0.91301738, -0.2804148 , ...,  0.99401789,\n",
              "        -0.57831252, -0.57176909],\n",
              "       [-0.1416842 ,  0.91301738,  0.291763  , ...,  0.99401789,\n",
              "        -0.57831252, -0.57176909],\n",
              "       [-0.62969543,  0.91301738, -0.2804148 , ...,  0.99401789,\n",
              "        -0.57831252, -0.57176909]])"
            ]
          },
          "metadata": {},
          "execution_count": 97
        }
      ]
    },
    {
      "cell_type": "markdown",
      "metadata": {
        "id": "qZIIU8n-OvvZ"
      },
      "source": [
        "## Handling Imbalance Dataset"
      ]
    },
    {
      "cell_type": "code",
      "metadata": {
        "colab": {
          "base_uri": "https://localhost:8080/"
        },
        "id": "b8Onina7fN5O",
        "outputId": "61ad0026-dbe8-4393-ede1-124951a0238b"
      },
      "source": [
        "# Mengatasi imbalance dataset dengan SMOTETomek\n",
        "from imblearn.combine import SMOTETomek\n",
        "smt = SMOTETomek(random_state=62)\n",
        "x_train, y_train = smt.fit_resample(x_train, y_train)"
      ],
      "execution_count": null,
      "outputs": [
        {
          "output_type": "stream",
          "name": "stderr",
          "text": [
            "/usr/local/lib/python3.7/dist-packages/sklearn/externals/six.py:31: FutureWarning: The module is deprecated in version 0.21 and will be removed in version 0.23 since we've dropped support for Python 2.7. Please rely on the official version of six (https://pypi.org/project/six/).\n",
            "  \"(https://pypi.org/project/six/).\", FutureWarning)\n",
            "/usr/local/lib/python3.7/dist-packages/sklearn/utils/deprecation.py:144: FutureWarning: The sklearn.neighbors.base module is  deprecated in version 0.22 and will be removed in version 0.24. The corresponding classes / functions should instead be imported from sklearn.neighbors. Anything that cannot be imported from sklearn.neighbors is now part of the private API.\n",
            "  warnings.warn(message, FutureWarning)\n",
            "/usr/local/lib/python3.7/dist-packages/sklearn/utils/validation.py:760: DataConversionWarning: A column-vector y was passed when a 1d array was expected. Please change the shape of y to (n_samples, ), for example using ravel().\n",
            "  y = column_or_1d(y, warn=True)\n",
            "/usr/local/lib/python3.7/dist-packages/sklearn/utils/deprecation.py:87: FutureWarning: Function safe_indexing is deprecated; safe_indexing is deprecated in version 0.22 and will be removed in version 0.24.\n",
            "  warnings.warn(msg, category=FutureWarning)\n",
            "/usr/local/lib/python3.7/dist-packages/sklearn/utils/deprecation.py:87: FutureWarning: Function safe_indexing is deprecated; safe_indexing is deprecated in version 0.22 and will be removed in version 0.24.\n",
            "  warnings.warn(msg, category=FutureWarning)\n"
          ]
        }
      ]
    },
    {
      "cell_type": "code",
      "metadata": {
        "colab": {
          "base_uri": "https://localhost:8080/"
        },
        "id": "0T7-LOgjfX05",
        "outputId": "264d6e55-f25b-4a48-fd0a-b8d7d857711b"
      },
      "source": [
        "Counter(y_train)"
      ],
      "execution_count": null,
      "outputs": [
        {
          "output_type": "execute_result",
          "data": {
            "text/plain": [
              "Counter({0: 6276, 1: 6276})"
            ]
          },
          "metadata": {},
          "execution_count": 99
        }
      ]
    },
    {
      "cell_type": "markdown",
      "metadata": {
        "id": "5P5QlqMOZgGY"
      },
      "source": [
        "# Develop Model and Evaluation"
      ]
    },
    {
      "cell_type": "markdown",
      "metadata": {
        "id": "Qu2NXJgRxTRu"
      },
      "source": [
        "## Confusion Matrix"
      ]
    },
    {
      "cell_type": "code",
      "metadata": {
        "id": "_1tATOEMxgqM"
      },
      "source": [
        "# Fungsi matriks evaluasi yang digunakan\n",
        "def class_eval (act, pred, name):\n",
        "    cm = confusion_matrix(act, pred)\n",
        "    tn = cm[0][0]\n",
        "    fp = cm[0][1]    \n",
        "    fn = cm[1][0]\n",
        "    tp = cm[1][1]\n",
        "\n",
        "    accuracy = round((tp + tn) / (tp + tn + fp + fn) * 100, 2)\n",
        "    precision = round((tp) / (tp + fp) * 100, 2)\n",
        "    recall = round((tp) / (tp + fn) * 100, 2)\n",
        "    # npv = round((tn) / (tn + fn) * 100, 2)\n",
        "    # pecificity = round((tn) / (tn + fp) * 100, 2)\n",
        "    f1score = round(2 * (precision * recall) / (precision + recall), 2)\n",
        "        \n",
        "    print('Evaluation Model:', name)\n",
        "    print(cm)\n",
        "    print('Accuracy :', accuracy, '%')\n",
        "    print('Precision:', precision, '%')\n",
        "    print('Recall   :', recall, '%')\n",
        "    # print('NPV        :', npv, '%')\n",
        "    # print('Specificity:', specificity, '%')\n",
        "    print('F1-Score :', f1score, '%')"
      ],
      "execution_count": null,
      "outputs": []
    },
    {
      "cell_type": "markdown",
      "metadata": {
        "id": "kf1kgYC-LLbC"
      },
      "source": [
        "## KNN"
      ]
    },
    {
      "cell_type": "code",
      "metadata": {
        "id": "G2ao4yqfM5dY",
        "colab": {
          "base_uri": "https://localhost:8080/"
        },
        "outputId": "452e907f-c0e1-4c8a-c7dd-b758f3235387"
      },
      "source": [
        "# Melakukan data training\n",
        "knn = KNeighborsClassifier(n_neighbors=31)\n",
        "knn.fit(x_train, y_train)"
      ],
      "execution_count": null,
      "outputs": [
        {
          "output_type": "execute_result",
          "data": {
            "text/plain": [
              "KNeighborsClassifier(algorithm='auto', leaf_size=30, metric='minkowski',\n",
              "                     metric_params=None, n_jobs=None, n_neighbors=31, p=2,\n",
              "                     weights='uniform')"
            ]
          },
          "metadata": {},
          "execution_count": 101
        }
      ]
    },
    {
      "cell_type": "code",
      "metadata": {
        "id": "zVZmGZZ9NEx9"
      },
      "source": [
        "# Prediksi data train dan data test\n",
        "y_train_pred = knn.predict(x_train)\n",
        "y_test_pred = knn.predict(x_test)"
      ],
      "execution_count": null,
      "outputs": []
    },
    {
      "cell_type": "code",
      "metadata": {
        "id": "wadvvLDbNLOp",
        "colab": {
          "base_uri": "https://localhost:8080/"
        },
        "outputId": "c9ff7179-0504-45b0-cfc3-13e82500f139"
      },
      "source": [
        "# Melihat performa data training\n",
        "class_eval(y_train, y_train_pred, 'KNN Training Perf.')"
      ],
      "execution_count": null,
      "outputs": [
        {
          "output_type": "stream",
          "name": "stdout",
          "text": [
            "Evaluation Model: KNN Training Perf.\n",
            "[[4830 1446]\n",
            " [ 869 5407]]\n",
            "Accuracy : 81.56 %\n",
            "Precision: 78.9 %\n",
            "Recall   : 86.15 %\n",
            "F1-Score : 82.37 %\n"
          ]
        }
      ]
    },
    {
      "cell_type": "code",
      "metadata": {
        "id": "vhBzmgxpNQds",
        "colab": {
          "base_uri": "https://localhost:8080/"
        },
        "outputId": "56df0b97-b1b6-45f6-f12f-1d67715bf425"
      },
      "source": [
        "# Melihat performa data testing\n",
        "class_eval(y_test, y_test_pred, 'KNN Testing Perf.')"
      ],
      "execution_count": null,
      "outputs": [
        {
          "output_type": "stream",
          "name": "stdout",
          "text": [
            "Evaluation Model: KNN Testing Perf.\n",
            "[[1199  394]\n",
            " [  99  308]]\n",
            "Accuracy : 75.35 %\n",
            "Precision: 43.87 %\n",
            "Recall   : 75.68 %\n",
            "F1-Score : 55.54 %\n"
          ]
        }
      ]
    },
    {
      "cell_type": "markdown",
      "metadata": {
        "id": "j3H8EAx3NUvn"
      },
      "source": [
        "## Decision Tree"
      ]
    },
    {
      "cell_type": "code",
      "metadata": {
        "id": "mKG9a10ANYrL",
        "colab": {
          "base_uri": "https://localhost:8080/"
        },
        "outputId": "d331f6cf-c1e0-4ef2-ac7b-9cad61e8792c"
      },
      "source": [
        "# Melakukan data training\n",
        "dectree = DecisionTreeClassifier(max_depth=5,random_state=62)\n",
        "dectree.fit(x_train, y_train)"
      ],
      "execution_count": null,
      "outputs": [
        {
          "output_type": "execute_result",
          "data": {
            "text/plain": [
              "DecisionTreeClassifier(ccp_alpha=0.0, class_weight=None, criterion='gini',\n",
              "                       max_depth=5, max_features=None, max_leaf_nodes=None,\n",
              "                       min_impurity_decrease=0.0, min_impurity_split=None,\n",
              "                       min_samples_leaf=1, min_samples_split=2,\n",
              "                       min_weight_fraction_leaf=0.0, presort='deprecated',\n",
              "                       random_state=62, splitter='best')"
            ]
          },
          "metadata": {},
          "execution_count": 105
        }
      ]
    },
    {
      "cell_type": "code",
      "metadata": {
        "id": "w-sJxLTFYD1z"
      },
      "source": [
        "# Prediksi data train dan data test\n",
        "y_train_pred = dectree.predict(x_train)\n",
        "y_test_pred = dectree.predict(x_test)"
      ],
      "execution_count": null,
      "outputs": []
    },
    {
      "cell_type": "code",
      "metadata": {
        "id": "hN6QqNQGYIJX",
        "colab": {
          "base_uri": "https://localhost:8080/"
        },
        "outputId": "fd060145-e2c9-436b-f41b-d7c0b7b7c3f4"
      },
      "source": [
        "# Melihat performa data training\n",
        "class_eval(y_train, y_train_pred, 'Dectree Training Perf.')"
      ],
      "execution_count": null,
      "outputs": [
        {
          "output_type": "stream",
          "name": "stdout",
          "text": [
            "Evaluation Model: Dectree Training Perf.\n",
            "[[5037 1239]\n",
            " [1333 4943]]\n",
            "Accuracy : 79.51 %\n",
            "Precision: 79.96 %\n",
            "Recall   : 78.76 %\n",
            "F1-Score : 79.36 %\n"
          ]
        }
      ]
    },
    {
      "cell_type": "code",
      "metadata": {
        "id": "et_hORqDYNr5",
        "colab": {
          "base_uri": "https://localhost:8080/"
        },
        "outputId": "7b5b836f-da0f-4279-e4b5-3352b215eab3"
      },
      "source": [
        "# Melihat performa data testing\n",
        "class_eval(y_test, y_test_pred, 'Dectree Testing Perf.')"
      ],
      "execution_count": null,
      "outputs": [
        {
          "output_type": "stream",
          "name": "stdout",
          "text": [
            "Evaluation Model: Dectree Testing Perf.\n",
            "[[1273  320]\n",
            " [ 104  303]]\n",
            "Accuracy : 78.8 %\n",
            "Precision: 48.64 %\n",
            "Recall   : 74.45 %\n",
            "F1-Score : 58.84 %\n"
          ]
        }
      ]
    },
    {
      "cell_type": "markdown",
      "metadata": {
        "id": "UonTMNYtNeAD"
      },
      "source": [
        "## Random Forest"
      ]
    },
    {
      "cell_type": "code",
      "metadata": {
        "id": "J6CSFkZaXqvL",
        "colab": {
          "base_uri": "https://localhost:8080/"
        },
        "outputId": "d7012552-d468-49ea-9731-3c98b5122ab4"
      },
      "source": [
        "# Melakukan data training\n",
        "ranfor = RandomForestClassifier(max_depth=6,random_state=62)\n",
        "ranfor.fit(x_train, y_train)"
      ],
      "execution_count": null,
      "outputs": [
        {
          "output_type": "execute_result",
          "data": {
            "text/plain": [
              "RandomForestClassifier(bootstrap=True, ccp_alpha=0.0, class_weight=None,\n",
              "                       criterion='gini', max_depth=6, max_features='auto',\n",
              "                       max_leaf_nodes=None, max_samples=None,\n",
              "                       min_impurity_decrease=0.0, min_impurity_split=None,\n",
              "                       min_samples_leaf=1, min_samples_split=2,\n",
              "                       min_weight_fraction_leaf=0.0, n_estimators=100,\n",
              "                       n_jobs=None, oob_score=False, random_state=62, verbose=0,\n",
              "                       warm_start=False)"
            ]
          },
          "metadata": {},
          "execution_count": 109
        }
      ]
    },
    {
      "cell_type": "code",
      "metadata": {
        "id": "8O5PaC7lXv6J"
      },
      "source": [
        "# Prediksi data train dan data test\n",
        "y_train_pred = ranfor.predict(x_train)\n",
        "y_test_pred = ranfor.predict(x_test)"
      ],
      "execution_count": null,
      "outputs": []
    },
    {
      "cell_type": "code",
      "metadata": {
        "id": "whHjQT_7Xzar",
        "colab": {
          "base_uri": "https://localhost:8080/"
        },
        "outputId": "f5c5b365-3d86-4b22-c14c-94e4b7bb3a99"
      },
      "source": [
        "# Melihat performa data training\n",
        "class_eval(y_train, y_train_pred, 'Ranfor Training Perf.')"
      ],
      "execution_count": null,
      "outputs": [
        {
          "output_type": "stream",
          "name": "stdout",
          "text": [
            "Evaluation Model: Ranfor Training Perf.\n",
            "[[5282  994]\n",
            " [1139 5137]]\n",
            "Accuracy : 83.01 %\n",
            "Precision: 83.79 %\n",
            "Recall   : 81.85 %\n",
            "F1-Score : 82.81 %\n"
          ]
        }
      ]
    },
    {
      "cell_type": "code",
      "metadata": {
        "id": "gIjEh6rTX4mu",
        "colab": {
          "base_uri": "https://localhost:8080/"
        },
        "outputId": "87956635-38ec-4580-e31e-3519e9765736"
      },
      "source": [
        "# Melihat performa data testing\n",
        "class_eval(y_test, y_test_pred, 'Ranfor Testing Perf.')"
      ],
      "execution_count": null,
      "outputs": [
        {
          "output_type": "stream",
          "name": "stdout",
          "text": [
            "Evaluation Model: Ranfor Testing Perf.\n",
            "[[1307  286]\n",
            " [ 104  303]]\n",
            "Accuracy : 80.5 %\n",
            "Precision: 51.44 %\n",
            "Recall   : 74.45 %\n",
            "F1-Score : 60.84 %\n"
          ]
        }
      ]
    },
    {
      "cell_type": "markdown",
      "metadata": {
        "id": "o9lkpgI8ZXsU"
      },
      "source": [
        "## Bagging Classifier"
      ]
    },
    {
      "cell_type": "code",
      "metadata": {
        "id": "Y8mfrYkBZfFT",
        "colab": {
          "base_uri": "https://localhost:8080/"
        },
        "outputId": "d957bbd8-6786-4411-d03a-4db030be2865"
      },
      "source": [
        "# Melakukan data training\n",
        "clf = BaggingClassifier(base_estimator=SVC(kernel='rbf', C=1, random_state=62))\n",
        "clf.fit(x_train, y_train)"
      ],
      "execution_count": null,
      "outputs": [
        {
          "output_type": "execute_result",
          "data": {
            "text/plain": [
              "BaggingClassifier(base_estimator=SVC(C=1, break_ties=False, cache_size=200,\n",
              "                                     class_weight=None, coef0=0.0,\n",
              "                                     decision_function_shape='ovr', degree=3,\n",
              "                                     gamma='scale', kernel='rbf', max_iter=-1,\n",
              "                                     probability=False, random_state=62,\n",
              "                                     shrinking=True, tol=0.001, verbose=False),\n",
              "                  bootstrap=True, bootstrap_features=False, max_features=1.0,\n",
              "                  max_samples=1.0, n_estimators=10, n_jobs=None,\n",
              "                  oob_score=False, random_state=None, verbose=0,\n",
              "                  warm_start=False)"
            ]
          },
          "metadata": {},
          "execution_count": 113
        }
      ]
    },
    {
      "cell_type": "code",
      "metadata": {
        "id": "QcCmDHfHZ0ot"
      },
      "source": [
        "# Prediksi data train dan data test\n",
        "y_train_pred = clf.predict(x_train)\n",
        "y_test_pred = clf.predict(x_test)"
      ],
      "execution_count": null,
      "outputs": []
    },
    {
      "cell_type": "code",
      "metadata": {
        "id": "v713m8i8Z6M8",
        "colab": {
          "base_uri": "https://localhost:8080/"
        },
        "outputId": "28eddf38-09e1-46a7-8ac1-993bb45d97c1"
      },
      "source": [
        "# Melihat performa data training\n",
        "class_eval(y_train, y_train_pred, 'Bagging Class Training Perf.')"
      ],
      "execution_count": null,
      "outputs": [
        {
          "output_type": "stream",
          "name": "stdout",
          "text": [
            "Evaluation Model: Bagging Class Training Perf.\n",
            "[[5225 1051]\n",
            " [1111 5165]]\n",
            "Accuracy : 82.78 %\n",
            "Precision: 83.09 %\n",
            "Recall   : 82.3 %\n",
            "F1-Score : 82.69 %\n"
          ]
        }
      ]
    },
    {
      "cell_type": "code",
      "metadata": {
        "id": "QYGBqlnGZ8FS",
        "colab": {
          "base_uri": "https://localhost:8080/"
        },
        "outputId": "a079f4ff-9779-48be-d4a7-86a136f66911"
      },
      "source": [
        "# Melihat performa data testing\n",
        "class_eval(y_test, y_test_pred, 'Bagging Class Testing Perf.')"
      ],
      "execution_count": null,
      "outputs": [
        {
          "output_type": "stream",
          "name": "stdout",
          "text": [
            "Evaluation Model: Bagging Class Testing Perf.\n",
            "[[1296  297]\n",
            " [ 112  295]]\n",
            "Accuracy : 79.55 %\n",
            "Precision: 49.83 %\n",
            "Recall   : 72.48 %\n",
            "F1-Score : 59.06 %\n"
          ]
        }
      ]
    },
    {
      "cell_type": "markdown",
      "metadata": {
        "id": "zMYkvNJMiW05"
      },
      "source": [
        "## Adaboost"
      ]
    },
    {
      "cell_type": "code",
      "metadata": {
        "id": "OSj2rjwCi_BY",
        "colab": {
          "base_uri": "https://localhost:8080/"
        },
        "outputId": "b8c61790-a2c4-406a-bce1-bc69e5788a93"
      },
      "source": [
        "# Melakukan data training\n",
        "ada = AdaBoostClassifier(learning_rate=1.0,n_estimators=100)\n",
        "ada.fit(x_train, y_train)"
      ],
      "execution_count": null,
      "outputs": [
        {
          "output_type": "execute_result",
          "data": {
            "text/plain": [
              "AdaBoostClassifier(algorithm='SAMME.R', base_estimator=None, learning_rate=1.0,\n",
              "                   n_estimators=100, random_state=None)"
            ]
          },
          "metadata": {},
          "execution_count": 117
        }
      ]
    },
    {
      "cell_type": "code",
      "metadata": {
        "id": "272qFIyvjITT"
      },
      "source": [
        "# Prediksi data train dan data test\n",
        "y_train_pred = ada.predict(x_train)\n",
        "y_test_pred = ada.predict(x_test)"
      ],
      "execution_count": null,
      "outputs": []
    },
    {
      "cell_type": "code",
      "metadata": {
        "id": "LkXM-S7PjMpI",
        "colab": {
          "base_uri": "https://localhost:8080/"
        },
        "outputId": "34e6da3b-2119-4444-cec5-f7802995e23d"
      },
      "source": [
        "# Melihat performa data training\n",
        "class_eval(y_train, y_train_pred, 'Adaboost Class Training Perf.')"
      ],
      "execution_count": null,
      "outputs": [
        {
          "output_type": "stream",
          "name": "stdout",
          "text": [
            "Evaluation Model: Adaboost Class Training Perf.\n",
            "[[5360  916]\n",
            " [1015 5261]]\n",
            "Accuracy : 84.62 %\n",
            "Precision: 85.17 %\n",
            "Recall   : 83.83 %\n",
            "F1-Score : 84.49 %\n"
          ]
        }
      ]
    },
    {
      "cell_type": "code",
      "metadata": {
        "id": "eC6jxpSnjX7Y",
        "colab": {
          "base_uri": "https://localhost:8080/"
        },
        "outputId": "38928fba-c864-4699-c311-687c2a00d6c9"
      },
      "source": [
        "# Melihat performa data testing\n",
        "class_eval(y_test, y_test_pred, 'Adaboost Class Testing Perf.')"
      ],
      "execution_count": null,
      "outputs": [
        {
          "output_type": "stream",
          "name": "stdout",
          "text": [
            "Evaluation Model: Adaboost Class Testing Perf.\n",
            "[[1341  252]\n",
            " [ 123  284]]\n",
            "Accuracy : 81.25 %\n",
            "Precision: 52.99 %\n",
            "Recall   : 69.78 %\n",
            "F1-Score : 60.24 %\n"
          ]
        }
      ]
    },
    {
      "cell_type": "markdown",
      "metadata": {
        "id": "aY4V8omBlNug"
      },
      "source": [
        "## XGBoost"
      ]
    },
    {
      "cell_type": "code",
      "metadata": {
        "id": "pdrVgEZ7llUc",
        "colab": {
          "base_uri": "https://localhost:8080/",
          "height": 217
        },
        "outputId": "a85f0a06-168e-43a0-a3b3-75288e1be1ff"
      },
      "source": [
        "# Melakukan data training\n",
        "xg = xgb.XGBClassifier(learning_rate=0.1, n_estimators=100, \n",
        "                       objective='binary:logistic', random_state=42)\n",
        "xg.fit(x_train, y_train)"
      ],
      "execution_count": null,
      "outputs": [
        {
          "output_type": "error",
          "ename": "NameError",
          "evalue": "ignored",
          "traceback": [
            "\u001b[0;31m---------------------------------------------------------------------------\u001b[0m",
            "\u001b[0;31mNameError\u001b[0m                                 Traceback (most recent call last)",
            "\u001b[0;32m<ipython-input-121-3ce0d9373262>\u001b[0m in \u001b[0;36m<module>\u001b[0;34m()\u001b[0m\n\u001b[1;32m      1\u001b[0m \u001b[0;31m# Melakukan data training\u001b[0m\u001b[0;34m\u001b[0m\u001b[0;34m\u001b[0m\u001b[0;34m\u001b[0m\u001b[0m\n\u001b[0;32m----> 2\u001b[0;31m xg = xgb.XGBClassifier(learning_rate=0.1, n_estimators=100, \n\u001b[0m\u001b[1;32m      3\u001b[0m                        objective='binary:logistic', random_state=42)\n\u001b[1;32m      4\u001b[0m \u001b[0mxg\u001b[0m\u001b[0;34m.\u001b[0m\u001b[0mfit\u001b[0m\u001b[0;34m(\u001b[0m\u001b[0mx_train\u001b[0m\u001b[0;34m,\u001b[0m \u001b[0my_train\u001b[0m\u001b[0;34m)\u001b[0m\u001b[0;34m\u001b[0m\u001b[0;34m\u001b[0m\u001b[0m\n",
            "\u001b[0;31mNameError\u001b[0m: name 'xgb' is not defined"
          ]
        }
      ]
    },
    {
      "cell_type": "code",
      "metadata": {
        "id": "3DUe_c7DrdP8"
      },
      "source": [
        "# Prediksi data train dan data test\n",
        "y_train_pred = xg.predict(x_train)\n",
        "y_test_pred = xg.predict(x_test)"
      ],
      "execution_count": null,
      "outputs": []
    },
    {
      "cell_type": "code",
      "metadata": {
        "id": "UwXeiaotmDwc"
      },
      "source": [
        "# Melihat performa data training\n",
        "class_eval(y_train, y_train_pred, 'XGBoost Class Training Perf.')"
      ],
      "execution_count": null,
      "outputs": []
    },
    {
      "cell_type": "code",
      "metadata": {
        "id": "5B49mOsGmWde"
      },
      "source": [
        "# Melihat performa data testing\n",
        "class_eval(y_test, y_test_pred, 'XGBoost Class Testing Perf.')"
      ],
      "execution_count": null,
      "outputs": []
    },
    {
      "cell_type": "markdown",
      "metadata": {
        "id": "MtlU5jxf__Tp"
      },
      "source": [
        "# Hyperparameter Tuning"
      ]
    },
    {
      "cell_type": "markdown",
      "metadata": {
        "id": "fin-9_XRAfB8"
      },
      "source": [
        "## Random Forest"
      ]
    },
    {
      "cell_type": "code",
      "metadata": {
        "id": "hCQ8MdG8Al82"
      },
      "source": [
        "# Mencoba hyperparameter tuning\n",
        "param_random = {'max_depth': [4,5,6,7,8],\n",
        "                'n_estimators': [600,700,800,900,1000],\n",
        "                'min_samples_leaf': [1,2,3], \n",
        "                'min_samples_split': [2,3,4]\n",
        "                }\n",
        "random_search_ranfor = RandomizedSearchCV(estimator=ranfor, param_distributions=param_random,\n",
        "                                          cv=10, random_state=62, n_jobs=-1, scoring='f1')\n",
        "random_search_ranfor.fit(x_train, y_train)\n",
        "random_search_ranfor.best_params_"
      ],
      "execution_count": null,
      "outputs": []
    },
    {
      "cell_type": "code",
      "metadata": {
        "id": "pFk9pxY7Ao0b"
      },
      "source": [
        "# Melihat performa setelah hyperparameter tuning\n",
        "rs_ranfor = random_search_ranfor.best_estimator_\n",
        "y_test_pred = rs_ranfor.predict(x_test)\n",
        "class_eval(y_test, y_test_pred, 'Ranfor Hyperparameter Tuning Perf.')"
      ],
      "execution_count": null,
      "outputs": []
    },
    {
      "cell_type": "markdown",
      "metadata": {
        "id": "xcSb1ztcDwCC"
      },
      "source": [
        "## XGBoost"
      ]
    },
    {
      "cell_type": "code",
      "metadata": {
        "id": "Oi1WJWNcDyOF"
      },
      "source": [
        "# Mencoba hyperparameter tuning\n",
        "param_random = {'learning_rate': [0.001, 0.01, 0.1],\n",
        "                'max_depth': [2,3,4],\n",
        "                'n_estimators': [100, 200, 300, 400, 500]}\n",
        "random_search_xg = RandomizedSearchCV(estimator=xg, param_distributions=param_random,\n",
        "                                      cv=10, random_state=62, n_jobs=-1, scoring='f1')\n",
        "random_search_xg.fit(x_train, y_train)\n",
        "random_search_xg.best_params_"
      ],
      "execution_count": null,
      "outputs": []
    },
    {
      "cell_type": "code",
      "metadata": {
        "id": "WHZGxZexFTed"
      },
      "source": [
        "# Melihat performa setelah hyperparameter tuning\n",
        "rs_xg = random_search_xg.best_estimator_\n",
        "y_test_pred = rs_xg.predict(x_test)\n",
        "class_eval(y_test, y_test_pred, 'XGBoost Hyperparameter Tuning Perf.')"
      ],
      "execution_count": null,
      "outputs": []
    },
    {
      "cell_type": "markdown",
      "metadata": {
        "id": "LqRc-_uC14ll"
      },
      "source": [
        "# Summary\n",
        "\n",
        "Berikut rangkuman nilai evaluasi model untuk data testing dari beberapa model:"
      ]
    },
    {
      "cell_type": "markdown",
      "metadata": {
        "id": "LHAhOP1S15_s"
      },
      "source": [
        "![image.png](data:image/png;base64,iVBORw0KGgoAAAANSUhEUgAAAroAAAEKCAYAAAD93/bxAAAgAElEQVR4AeydBZTjSLKu9+zFd9999y7j7M5CV9UwMzMzMzMzMzMzMzMzM+8w9jDu0PZQz3T3xjtfqsOVzpJs2WVbUnb4nCrZUiolxZ8R+UdkZOpHYh+TgEnAJGASMAmYBEwCJgGTQIQS+FGEz2SPZBIwCZgETAImAZOAScAkYBIQI7rWCEwCJgGTgEnAJGASMAmYBKKUgBHdKGG1hzIJmARMAiYBk4BJwCRgEhhKdL//XOS7D+2v0jL4SOSfY0W++9hwrDSOH4qM/kxk7GjDseo4cv8/jBIZ87VhGQOWY78T+f4LwzIGLF1f+YlhWXUsR3+ayeiHEt0XDxF5YAX7q7IMHlo1AfyRdQzHKuPIvT+/v8jX7xiOVceR+3/ncpEPbzMsY8Dyy+dFXjnWsIwBy3/+U+TxTQzLqmP5zK4tEN3HNxa5YYT9VVkGN02eAH7rDIZjlXHk3h9dV2TUq4Zj1XHk/l89QeTtiw3LGLD89BGRp7c3LGPAEqJ751yGZdWxhKhnfIZGdI3oVr/BG9GtPoZqdIzoxoOlEd14sDSiGw+WRnTjwNKI7gQWoTaiG4fiQnaN6MaDpRHdeLA0ohsPlkZ048DSiK4RXUtHqWgbMKIbhxHGaTGiGw+WRnTjwdKIbhxYGtGtKMnR4etWtxbRjUNxLaIbD45GdOPC0ohuPHga0Y0DSyO6RnQtolvRNmAR3TiMcFWI7r1LiHx4u8gn9zf+e+cykU5Odr1tJpFbp6sO1kZ0q4NVs0BR2YnuzVOLvHl+Y31EXz++W+TBlTqHy81Titw+i8gNfZ2rsxkWwzluRLeiJKdd0C2iWw3FzIOvEd14sKxC6sJjG4iwRuz71yerCrxxpsi4H5I1gF88VOTpHUS+fE7km3c6N1MdkvuPF0XevrQ6WBvRrQ5Wzexs2YkuZHPUKyKjXhP5264iz+0j8t1HyfoCOJys/vHWRSLjxog8uVXncBl5lshXr4vcPlvn6myGxXCOG9E1omsR3Yq2ASO61TCyeQx0FYjuk1smLyh5aptE7k9sJjLuexEWY79n0WTfyHOTxfXvmq8z2LDe95hvRN69qjP15cFiuGWM6FYHq2ZYl53o3jGnyNdvibx/QyLz22cX+WpkQnSf2zvZ9+h6ImO/FXl6x87ggvP55QsiX78pcsccnamzGQ7DPW5Et6Ikp13gLaJbDcXMg68R3XiwrALRfWYnkR/+kSyeT/tMI7rP7iHy3Sci9yySYPPgyiKf3Df+zW9fifz9YZEHVxyPW7/IM7uI/OOlhDDTGRO9ff6A5PiTWyedKd02b+UkWkxdZY8iGdGNRy/LTnRxKIngvnx0IvM0onvPwolOPrtnUubGSUWe3UvkHy+Pf7PmJyJvXShy28zJcYjsyLOTeokEo3voLWQRvf743uTtqryVE91FLxntydNnFVXGiK4R3VI30KIUowrXNaJbbuPaShuqAtF9att6oplGdCG2f39AhM714dWTTvLTR0XokBk65VXHDLPeObfIE5snHe3fHxIhMnX/Mkl0ijxgZPfYRiJf/C2JTkGAXzo8GZq9Zdpy425Et9z4tKKXZSe6dy8gQnsjastzpRHdW6cX+eCWJLWInFpsDSMxr52c5NmS48tzkh4ECWYLwX3lmCQ3HoIMqSU16e6FREiJ4PgPXyZ1oJc6otOKbHtZ1oiuEV0juhVtA0Z04+lQq0B0w44pjehqmZsmE/n4niTyo0OmTFAj+kMny8uHeGY+dMKU51wiwjrkyu93rhhf5qbqYG1EtzpYaXvN2pad6Ib3nUZ0/TL3LpZEd7/9IHE+OfbwGiJjvk5SHu5eUOTzp5Pc+7/tluBIhPf1U4aO5Hz7fuKw+vWX9bsR3YqSnHYblKUuxGOEjejGg2VsRPeueUXoTCG1TFqj02SiDPmEfEhZIMLL8X+OEyHq+/imIjcO1GNqRLdeHu3afTuvPTnGRnSZnIa+oZukCKGXr52UTDL97mORuxZI8uHRUXLjie7eu3i97NTBNaI7gZHHKhkRI7r1Slsl7MJ7NaIbD5axEd37lhL5/rNkiPOzx0Q+vHXw74Obkzxdoriuk/02Ib+Qii+eqe9YjejG08ZD+1WF37ER3RcOTHSNXPuP7hzUSfST1RkYdblznmS5MggxH5zRty8WuWWapC0a0TWCW/o0ACO68XQcRnTjwTI2oktnSdTon2NFyO1tRGqY4PL2JcnwKR0rk2S0vBHdQVmoTGzbO5nERnSf2m58RLdJ2gEjK+TIk4aDDiOHty5I5G5EN1KiyyQJZvsyiYKldHRWcDODQ1Tjo7uS9eZY8oMF15ud0+3jsRBdlPCrN5KhlZumKF6u3cYtrX4juvHgHhvRJfrz2RNJROj9GwdzcP12/MzOIq+eKHLzVAmOj66fTFYj2qTllOgScdJ9Zd9ajm5vsGLYnTbGEDoTGOkHOt3nxkZ0WfEE/WL9a1ZRCXUJvX39VBFdQhDC+/rpiR5//lRSvkZ0P0iiv2EdZfxdqRxdQMCr8N/Mw0QGEqh94UJE/TJ8f3jN+jJ++WbfCeeTT0akgQ/Gudk5HCeJ+6XDRMZ8lTSu2rI6BToE3SC6Rbyd5b1rEixYnL6Ta/k5Q3lH4tiwbmgenIsq0yuiy0LkoT6l/X7hoM7JCwN7+6zpBClN3r5teP20/Oel1VXEvqoRXWZnM8mMDpMUBVZbCPNr3fHvk/QFiOrz+yeTWliqCKef2d7M3KYdI3O2rMrAQvSKAWX4kNvL+S8dEffyYkXYUmTd7E1XvJjgvesG7QBk3i0t9bzIR3eIPL+vSK9Xw7hvSZH3rk3aByQM2XW6z60U0e1Llv/65u1EJqyGEAaB0Fte+MIH3SN/nnQGcnHB9465kxdQIE+W8XNE99SkPGVoK/riGJYDZOUGrvPQaoM6q7pbpm2liC45XXS65HjhlUAgCasTGVChomyAxFqOfDCQgKHrOmq5lrd9SXSWOvMSXa7BLEeiwNxvrES3iLez0CkSZcfA3tA/iH/LuAZOx6vHJ0M7GDhmjets8OHW243ze0V0cS6ZlfvyUcmbdiAqfFjyCTKDoaR9Y0A79Zy8KOD7L5LZ+XnqhGhBksgrQ/fRuzznlaVMlYju45skyw0lrWDwP29N89fTpFPF+fnuw6QM2DCyxaQ09IrgAbaapYuY+AJpJkfX7zRp4xBpPuDrOuM5y43tcCK6RdhSdKDZm66IurMaBukofIi0EzxiPdZv3k32EVWFbPZSp7D/fJTocu1O9rlVIbqQUhzE8MP9a8qB4kLZd69OXiJBeXJwWeIPvQNn+BK8CX1EL/WFLQQeqIPzP3s8SWegDKs0oKdafxm3lSK6KkAibV8+n+SPAJR7a874dy4TkcOwvntlQoIxOnirem7bWyO6mTIs4u0sDXFsk/jeOl2itMwAh7g5whTMOG143YA0d7tsr4gu0fNv3ht8rasOJ+NoQGaIojDaoeufduK56Xgxoqy1mqc+iCLGedSrCdl1DlCP8chzn1llqkR0s54hc39/Ep2nnbCOZ1iONkTnqSkM4XGiUiybRLnwWBl/D4foFmFLwSXPm66wj7quMWusquxZZxUnBpsJodD9vdga0W1f3jibtLcs54T96GU4UuNwRadnG5yg1gush3ONShJdhrCYycswFh4Lnay+1YO8HbxOPE08ETo+9URUUESLiEoRpSIK8dmTIo9tOLTBPLJWEjVEgSlH5IGPH9GlbobXINccx6tC8dUod9K71PsfzrYbqQutvp2FCCCGFZmx0DXGiu+OKPUl6/oRuQFHyA6RPRapdh0lQ5zrj4/af5g4PGDPwtksVE/0nPYAxh/clBhfhljwYFk4u5HsHlo1WeCetTxxpDDetLXwHFJZ8HpJm9D7Ywarlmt2XMsNd9srosvQJLlwahBDoosh/Pju5I05fKftN3rzDhH4rDdicQ1yxFx09p8JeWXtVYbYsuTFKA4dMBhDkPlAwsNofFNc+pOINVFF2gw6TzvNS7az7i/P/qiJboUcjjxYNSszHKLbqi3lXpr1Qfcvm4xOoVPYK5xW7Cn60MqbrrKILmsiu6j81/Upgs3uCzvAcldZ+saERtZvHfXKoD4SSfRHRo3oZtvFZu10QjpeSaJLp0fHSoOHBKHAkBSiBUSf/v5gkjPGq+vc6ygXHmwMzACGANN5sj4cpIn146iDCU4KPgoIEYbwICTe5EOIno8SXYgXhBtyxbm8DYiOkQ5S8zsnBKLb6ttZSDVhAgHGkVxPjC8fyAmRGwwbjsgbZyQEB/ni0DB0Dj4Ybs6DiLoc3TkTfEg1oC7qpX5yioj2g7dLcdllEF/F2d9CXjmPzkZzAyHPfp4TnQPtizoZysOYM+xDW6OuZsf96w33ey+ILsQVOTIhQe83JLrsJ0+LzhNHCtLGcBjyZCgWWYIf9VBfozdiQXRfPDjRKfBFn6m7EdlkyA1nlDQK9Bn9o82Qw6f33BSXvuQ1mrQfrkneN/n13ANbradbWyO63Zdxt7AL6x0O0W3Vljbrg4jYEXyhHyRwQ1Dg/RuS17uy1nErb7rKIrqkoqDfpDBgO5FHs/uir+a1tZn61pfYCzfh+GIRUsq+eDbpJxhxIyef6xjRjUdvQj3q5O9KEl0idXRGNHaisXxePDTpVIngQoicZ/xhksfLqyhV+UigD0kPHTAfCAxpDs44jEw6zFqkNyV1wSn4uOTNPponykQYPtTJNScEohs2yGZvZ6E8qSV8iNoS4QUjzfPRyKHWC558PrxtUKndzE+iE0xGG5+zx+oYEE4cFCK6nE9UD7LKZ+Q5g+dr3bol2oshxYHiHM1DhDDdv/TgeUR4IT+0FSXADONRjrqaHdfrdWLbC6Kbdp9pRFfL0d7pVMFVOz3/zTs4BpA6PllvxNL2g542W5qK6xL1cQ7tIslwGp0jHa8/Oa4ZLkyOGv33JB9UCTLGEQL9/H6D+OtzdnprRLf7Mu40Zln1DYfohnWqLqAv/hvjtFyzPujBVZIgDg48gRjOe2B5EfopHSGrzaJvsuSUT3QJQtw5VzISSt41hBXiqqkpze4rj75hh3GM9VmdPn6ZjP6pbTGiOygflZNth8qkckQXIoohYYgSQImu8mEZr0fWTpSACI9L6idfj85ym6QsZAoSxCQ2f8KDKgvD5ygQ0SMUl86a4RPXcEKi25cstsy1IVKkTPAHGXP3M34o24ju0EaHPJXouvzqtKHN/iQiR2Rcy7qc0PGGrxHRJTqPgVeFxzHi887lg/v0mG5d2/gqiSayD/L89ZsJYSLCyD6G5CHCfFhAW88lt5DyzY5r+U5ty0h0m755Z77mb8TSzj0P0cVBYXSGEQDnePQNthfdlwcXl2f4zyT6he1weA8kuIaOV6fw8+sxojuoT75cqvi9Z0Q3Rx8EGcWO8YHsEhBidMOXaztE16UqjJ8MzugNoy41UprjvlrRN2wrI6ZcA9tOUEEnl2vfPaFPRvPxtO/17Rt5VI7oKoGl0fMALlr0lQhLauClErFleIbOSddx1LJKYFlW4/7lBoXx9A6JIWB2L54my5PxwVMl4do1nIDo0qkyZK3l/Df/8J0oJecZ0R2Us5PjeFKr5HUI0e1PHAaMMwYUA6ZDVjr5iXpaIbqs48mHa/r34H9naB4nCGcFpSAtRvGFMOFg6Yoe1PXmeUPranbcv14nvpeR6NLu+RAJzXrzDpGaRm/EaoXoarSYERRw4++VY5OoO9F9ovx5cHnluOS+SZvRSFcnMMpbhxHdofqUV3ZlK9cropu3D4IkQnL1A1F0KxWNnxjYDtF1k9H6khEsgkLk/eqrYvPcVx59o4/GBtMP0B8QUNK0pHsWTdqLEd149Kabelw5oksO03cfJcuMIRg6JZY5YvIIs641ZYBUglr07ZKkMbj131jKJojoMnGGj0ZwGSKq/Z57fEMKiC7XZpkzPhCpLJCM6KbLJovokioClnjuTHJArpBPPt0iurQhcrEhugx76x+dA2kKjjAtNz5ie29yL24B+2AGuYscNjie1Uba3V9Gopv3zTs8c9YbsVohugyhjhuTOLqKGw4qESfSF1ykiUh8E1x8nddh0XZxaee82IkuukGKCTaaXOq8MiIiST4+Dq9G8fKeW1S5XhFdni9PH0Q50g5I5dGlwLCxOielbaJLvaR8PZPYRJYXxInNc1/N9I0UJyYVo8Mjz05sL/nEzKdxEV0jurl1qCg9KNN1K0d0WS+Thu5PTmGdOD54ln5OH0PVfJikhKGlA3PkJVh7V2dqa34mBAJDAPEhYuQASyG6LnJEEv47Q19aoSAb0U3v1LKILsSED2+h0yHkbhNdJmmAdRilpWPFqXKE6YjkOSBWfHCK0jreZse1XXRiW0aiSyScaC66mPbmHZ672RuxakR3XDIrO0tWDMHioIRRWHSdaDIfJq6QWtIMF9YEZYIhpJlVN7Ku2a393SC6jGwxl6Hu5R73JaubvHVhMiqCrLr1TH69LhXorQQT7sk/1ug7qUu0JXDRCb6NypfhWC+JbrM+iBFK0qzUVmFTSfXhQ1QVedWIrp+ql5JO5ufo+suLMQJKmhHBCZ0P0+y+mukb0VwmmuOwKiGPiejiEDCKWKeb99f/Dte/HW7bZlQSBwOnn0nzrGDBq7fhUr2yA8N9hnbPrxzRJd+WjlQbPw+uE4fIsUUZnDD6Bzs3QKXzJFGemeBE6QCZfRgCogykM0B4OBeF1rQHOkrI9ZNbDw7/6KoLRJf1LSR4n5A0ljyDWNOgqIsVAkiJwAj4ecHuHlOMSbf3d2N5sbp7zvF2FsqTssCHN9voRD72P7FFMlQF6SDSTq4tkVw+fkSXdqBDZswe5lwmWegqHGpw2a85uiw/xW//j7wyCK5zksbncutxJjvSafFh0iPECseFdsaHkYQXD0k6DDDnvGbHte5ObIsgupBGfbMOsgmH+TGYejztzTsMa7IKA8e4f+TAFv3QN2K59KRXEhmT885kMHL6QplhA2gnjjj5ayf3JbpIDdgK9K4ZLtwXy6jxoQ2xxBm52Vyfl9SE1+70724QXewYBF9fuMDz4TSSNuIcuHGJHvLsnX6esD7axctHJg7Igyvlvx4EGXwha2FbC69Rlt8dI7o5bGmzPkhXIQFzyJUSXQjk45smOOR905U79/lER+hHNSeXABLBHj6QKKK8ze6rmb6BOyMzBBnoK5gQzDW571pEty/RUa5LVJn2ThvoZJ/L9RlV6Hjb6k+W1tSJ0oxGYWeY40CAgL6FYE+nrovdJvpPP8eoN+3i2d2TlBMcnzBvu1PXLUs9lSK6So4SlUomoKG8GEBmfDLTk99+Tp6WpcPDwKJgeLIoi4sUjH+zh5JcBYYcIEgupJhoAnmaukwS0V6NKEOoWMMTj5YPneRbFyUk2s14/YfeQaKkOhyv1+n1tptEl3zmPG9ngXBiQPTjomh7JUoNPkTYycWiDDnXRAdctO2HxNixBqt/PsQTZ4Qoq36YQQ+50cgC+zknXHkBpdcPx8n5AhNyvMHf/7C8HMcwEhgi2gYfrqs52XmOdwrzXhNdZOXLXWXj1qoeP4GLZ6MdgDF6woccO3Lt1NFr+kas/oRoop9cj/w/zbNX2aFH1KsfIiPoPsdxNv0PJBpdbIYbHRqdAZ0pH9ocIw+dfMW03n+47QbR5Rq+LfSjcDjuPKdzwFmaMXAAo/rtO0E9eM5OEN28thScGvVBrLTA6iYaHQVz7CX2Sokq12r2piv6Q2yq/2EkBfLLPbgA0vg+kMBCs/vieDN9I4KvQQXSxwgwcU0XqHoi6cf9+4EsEvSir9cPzzucPhf70xWiO74d4oDw8dcpRzbwGdJM+M4fWEGCyVXG8Ws1AktfgT12o18zj6+3LwkCkRaEndBrxbitFNHtJAA0HCK6zQDG01Fvh3PwNNNmYeNNUl+rDbCTz5Snrm4S3TzXz1uGaKozouTB9iWydRGdIC82b33dKMf9kEvmR6T96zQ77pdt53uviW6r9wjxzNIX6kJX6GSJNqTVTWSI4XddsiitTDv7muHC/XDfSpzbuUar5/Sa6OIE4uzrqjQQH0a+IBZDXuIyHquGLwEZv4Y0hIfoHk4K5Mq9SKU/ISk4hxAWP0Wo0csMwIBceCJ7RKVxVFSuOMTknBL10mtBADS/mogi0TKesd0XyOi1Wt12gui2ek3KN+yD+pKAkLOhaWS/i2+6anhfBBUa6JuzEbMP6iI2oZf9bFFE1y1zOkfStzCipdFtSDHtulXbhGOLrjOSo8sn0mYYFWP0uVZfk5d4cE6zF25BKtEBbAnpGaSzEQwkIKQj7gSmGKHF0WbOFIFEyrXT7vOcM8ES3TzCibFMVYhujLLv9DOVneh2+nljrq/XRFfXnCYqThSs0UtccDS4P8pCZHFAdXSLKD8BAIIBmS9S6UuGZUkR4+PSlcYv4dfoZQbUyQgMHaGfo0unzMtJ2Md9EHFnlA7CS842v3nBz3BfINNueyuK6LZ7v3ZeNsHqOdHtS16SRPRWcSEHmsivpvC1Q3RdWt/nif4RFUbnhwRomr3EY0QyB4qRLtIdsl64xX50ANkRLWaNcz4u5WSRZAQCh5cRUxxTRvggvDit6K0+dye3RnTTvNuI9xnR7Y4idVIp89ZlRDceLHtNdMkHhBgyx0CjoDpBVFNxGBKnjbn85iYvAWn2Qg7atNavRNeldo1K5j5kvcyA6J1batCbjEbEmWFYFyFaMGkDlIM0M6yt614rmWeiaasvkMmrg2nljOjGo5e9IrpEbJmHwKgJ7d1/2Y22MZw6Pu0QXUitOoPUQXSXdqrpZFyj2Us8GA3I88It6tLlP0lBZFIddoToMU4oDijX19VXcGghzs7pHr/Skj5zp7ZGdCMmtWmNxIhuPEbYiG48WPaC6DLDGoPPUCXDikRmmJCidkKJaLi2dbOXgDAcWVvKMeVFKmH9SnTJfaRT55P1MoM0ostEQT4Mh+oEJKK8GvFyS/8xKWn8mxI1R1vvQyenNnqBjJZtZ2tEd7BNtSO/Mp3TK6JLmg/tl7kG5Bi3QnSJ9jJaEv65Sbo+v+lPVi7x59Hg7L5xZpK60OwlHji+OI3h8qy6ljE2RZ1mJbrcEzqsmDJxHAcVUst1mRzL3Cod7WH+jZbt5NaIrt8QJoDvRnS7o0idVMq8dRnRjQfLXhBdhgvpUMjF5TXO4eoHWUS32UtAeHskQ5R8/PzbsB1r/Up0OU6Up9HLDNKILhMd+Xz2WH1+t76VkhQK6s4iunleIBPeeyu/jejGo5e9Iro6GY2cZJzGVoguozPoRPjHpNy0dkt+O+eo3kF2WemBiC+fcLlGrSPvC7con0V071sqybcn7Qj9xSnVPyYCdytP14juBEButaGyNaKbrvy+jKry3YhuPFj2gugS+WnUtpWIhhHdZi8BcZ1zkxdycF2t3ye67CcqS8ee9jKDNKKr66bzxkQmJ1GHfw+sMsA+I7qN8UZG9tdYBr0muuCBPqRN0B1O6gLpRzisOgLCdcil1WXhyLVnpIcPEVeNzPrtI+8Ltzgni+jiFFO/mwS7bWPZ+9ce7ncjuhOYshvR7Z1yDVc5m51vRDceLMtMdPO8BKTZCzloyyHRzfMygzSiS24fESE/R5f8QSLVdKC1NcwzUhcsohuP3jSzkcM9XgTRzbrn4RBdUgLcEqveygak+zD6wefV40WavcQD8pvnhVvcfxbRZTUlfUcBelhb7aHLPMyIbpcFnNVoi9pvRDceI29ENx4su0V0IYDksvLRXLws26PrlLuIq7f2LNHSZi8BcRPWGrxIhckw1MvHvTKdBfPXT9bLJtJMh+deSPDc+PXGx7/MgJw+JsxBbIksc+88E6kS7NNzyS9kzVT2uyXp2nyBTJZsWtlvqQvx6GVXiS4vtToz0Qltt6QVpC2niH7omu+0Lx3JyNsumSyKvrCWNkuXcQ1eGMKyfZBXortcu+FLc3K+cIt7ci9+Gj/ZNVxJwTmq3yf3Q9oC98brwVliDOc37zO1Us6IrhHdrjSsVhqhlW1PuY3otie3Mra3bhBdVjJg3Uz/Q8edlkdLfh/H9EOnyAxwlVWzl4BQLvOFHP2DHajWTwfX7GUGdy9Yf//cny67RHSJnFzILRNbmCTDM7D2LvdC50rEVz95XyCjzzucrRHdwXYzHDmW4dyuEd0UnaCtuhVCxr+hVZ+flAN9OZG2Z+6rWSqSns+WFU7IgWWpL3JymYiK7pAPTIqPlm32Eg/IcLMXbmkur3+vH901+I4BHGdSlZi8xodnY9UJfeGX3ksnt0Z0jejWGnknG5bVNWg8uiULI7rdl3G3sAvr7QbRDa/Rid9Elhq9BIRrEHFt9CKVIffR7GUGDWy0e9nAHL0bAh1y7yn3ZkQ3Hr3sGtFNaTd52lYnypCnyzJfjdIGGr3Eg3vI+8KthvfLS0pmTexFWhS74bktys+IbosC66Twi6jLUhfiMcJGdOPBsipEtwibVbVrGtGNRy9jJLpV06dO3K8RXSO6FtGtaBswohtPh2pENx4sjejGg6UR3TiwNKJbUZLTrpdjEd04FBf8jejGg6UR3XiwNKIbD5ZGdOPA0oiuEV2L6Fa0DRjRjcMI47QY0Y0HSyO68WBpRDcOLI3oVpTkWEQ3DgVsF0eL6MaFvxHdePA0ohsPlkZ048CyJaLLQr+8J9z+KiyDW5MlPT68o8LPYG3Q6SCvUPxhlOEYgz0a9VrylqIYnmVCf4bRn4p88YzpZQztAKLLElwxPMuE/Ax/fyjhPSn/f5Syz3aZBEwCJgGTgEnAJGASMAmYBCovASO6lYfQHsAkYBIwCZgETAImAZOASSBNAkOJ7uivRL793P6qLgPQ/vYLw7HqOI4eJTJurOFYdRy5/x++FRkz2rCMAcuxP4h8/7VhGQOWpC5896VhWXUsR/8jjeO6fUOJ7mevibz/hP1VWgZPJoB/8LThWGkcnxD59NWEIFX9Oez+RbWYLBMAACAASURBVEZ9IPL1J6aTMbQFHNDPRxqWMWAJ0f3oWcOy6lh+8pIR3QmLvBvRjQZvI7rxdEBGdOPB0ohuPFga0Y0DSyO6E1qE2oiuEd0Jrc1X4HmN6MbRoRL5MqIbD5ZGdOPA0ohuBTrBjg4bGNE1ojuhtfkKPK8R3Tg6VCO68eAIlkZ048DTiG4FOkEjunEoW0dxtBzdaBwW2oUR3Xh03CK68WBpRDcOLI3oGtGNijB0mkyWuT7L0Y3DCBvRjQdHsDSiGw+eRnTjwNKIrhFdI7oVbQNGdOMwwkZ048HRiG5cWBrRjQNPI7oVJTkY1Lb+LEe3Pbm1K+8unmdEt00d6CImbemkpS5Eo5NGdOPRSbA0ohsHnkZ0S9jptdtZ5jrPiC6d6hcv3SvXXXCafPzsndVVZCO61cUu1FXL0Y0HywkgdeG1h26QGy46Xca+81g8uIU6yW8junHgGwvRff7ea2S55deQhRZdwf1tv/W28t3Ih+TDZ+6QVVddp7b/oL33khfvu7ZW9pB99x6irEcdtH+t/Oqrrysf/e1OueCUY92+xZdcWe688tw68D994W7ZYL2Na+fsu/tudcfLFa0onuh+8Mztssv2O8iCiywvCyy8vOy4zXby3lO39URm37z+oBx+wL4y1YwLyF677CKfPHdX3XU5fuGpx8luO+4oF512nGtDPn4nHnGwnHfyMXXn+Md7+t2IbkMc3nniVof13rvuKg/ecFFdWRwdbAR2o6eYpXWm7IuU6HZS1x+4/iKns0ceuN8Qe/HYLZfKztttL+hv4XhGTHTffOxmWWvN9WXWuZZw9nHM24/WyXv0mw/LGccdIUsstYrMv/Bystpq68q9115QVwZ8KoOlEd0h2Pn6VRkbGwvRhdTec835Msk08zrSiccJICjizZec6fZDYAEGZYSs/nWKOeV/fjeNXH/h6XVgYpwpO/f8S8vTd1zp6oAQse8/fzmFTD/rInWGFq/2hXuvkRVWXFN22nZ7efvxW+rq8xtG8d+LJbo4DfMttKwcffD+8v2bj8hXrz4gW2++lcw531JDSOe4dx9zWLUqMxyP+667wNXvn/vZC/fIyiuvLfMuuKyMfPSmIRh9/doDzjAvvexqcurRh8ns8ywpm2+yhcOfeiDjc823tDxy8yVDzvWv07PvFSK6YI18W5EN5Tkvzzkh5s/dc7VMO8tCzqE6eJ+9ZMSUc8nV551Sq+uqc0+WRZdYSUa9en9tX57rdK1MSYjuW4/fIttssbW8/MB1mXLJi0srut5Mrujj1DMtKMcfdpCz7zPMtoiz5ZyHndh4w03lwL33zLznZvV39HjFiG6oO1mywJmYfPr5XR9HfxuWAwecDWws2PP70jNPkL6p5q4LDlUKyxIR3Tw4wXfuv+7CIX1piJX/u1m9WTahUjY2FqILcJ+/eK/MOPuist8eu9eUkMjNiiut5YgViqcAM2QN4eIPAxpGFG+59CxZfoU16qK9N11ypsw29xIyMPU8ssWmgwRI64SwnXLUobVr6P5ybYsluheffrxzIHyCAenEgPqR8tcfvtGRThwXnJNGMiRi9+OfTFL3t8jiK9aRJAwzkQiIKkY4rT4cHu7jjUcSEnzXVec5rDXqd/qxh8tKK6/VFvlOu96w9xVIdHEaGO3AGQj/iOTQKfJ8d1x5jiyz7GouAoTe8NcoIk5E7thDD3TOyMxzLiYT9c/qov7P3n11HWbNMN9s481d+9GIEyMIRJlwciHP4Aiew8YgK0Lb6v6SEF1GuH47YuYafiqfvLhoebZ5dD1PO2JUDqeFUTXq5Rzs/Mnjbe1L91/n2iBb//qFfS+A6OaRo8qjme5oOX/7yoPXy6TTzit77rxzXZ/olyHaO90sC8tDN15cw4E+F+LLqB1lK4dlgUQ3D06Q2p/+Ybq6vu83f51JIKE+Nv73PPX65bNsQqVsbMxEl04NQsoQtXZ4CiBEl6FzyM2fJ5tDNt1os7oyWUSXqC0e6c/+OJ1cec7JdY3JiG7zfOdzTjxKppxhASFqrli8//TtMsuci9cipUQFIEREeYnENYuQQ2DXX3djufvq82p/pKdo/WzPOv5I+eMks9UZYf8434nYzzHvkrUoH6MC3AcEHGJOBJBIYHheYb8LJLo4InR8DFP6cj//lGMEgkqnh8wO23+fmuOADu6+406OSD1z55WpcmT/CYcfXIv+0jFCpBdebMW6YelGmOPUQLZ9h/fsE44SooBEL4jI07aaOVA9xbUERBdZ4/TTgYW5l3lx8WWWR9fztCOuTVTw4ZsGCRSjLoyecT3S0TbaYBMXQfSvX9j3AohuHjmqPBrpjpbxt/SjpP+RZkbgyD/mf+ce+qeaW649/9S6MthmjbZXDssCiW4enC4/60TnBN548Rk1O4x9AzMfG/97nnq1fJZNqJyNjZXoYqgP2GsPR3TThlmU6BIFIAqLV3TZWSfWGkcjoksHDuGdYvr5XYeujcKIbnOii7z/MvmcQq4zQyLIjgjehutvUlNOxYscWTq4RkSXsuRlU1ZxCLfgBbEhh3v/PfdwUXycnH1229VFh7T8mccfIdPMvFBtgtpTd1zhUl4ev/UyoT0Q/WfUQMsXvi2Q6D5686VOHhBHXw7HHXqgG1r2R0/845DiX0w8g5sI6O9v9J1oLKRanaNmmKP7RJG32nyr2r0dccB+7n4Zdt92y21kj512rh1rdO2eHSsB0cWBn3jS2QUykue5Q1zCc/Loep52RDQRO0AKGtcAf3QRJ4qUMkZp0vJAw/vp2e8CiG4eOarsmtnLUE5EaH/9l5mc7cShwPHElhKx9x0iyBXR2z9NOruzl9TzxG2XO/usqYSVw7IgotvMxilG5KuvssraufS1HfyzbELlbGysRBfS8rsRs9SMozYM3fpEl0bFMCydqeZuNiK6gIwRx/gyCU3zCI3oNie6yJ9caiKlP594ehclJZqeRiDzEF3SEMilxtArtuFWh3cw0NRJmgodI7nWDGeTJ8w55CWSukBEEXJMfi5pL3xfe60NXPoLxpzjdK5EODD2WaQuvI+O/y6Q6KIzqiv6XMiJTvSaIKKjx9ky3ExknZx2f3/Wd65D9I4/jVLkwZwILvpMR0vnOtMci7mRGNJSiNqTe0872HKzLd0xIlaNhvuy7q9j+wsmuugfE4yYoJenPafhkiaLZrqepx2BO/igi9wneZ+MCtGGmDi61DKrumg/Ok074TlwZL58+b5cbSztvoe1rwCim0eOPFMe3QmfnaHu//r1lM4GYktxONHjX/15RmcT/fIcI+WPuSw4I4stsZIQMNAylcOyIKKbFydGrBnRUPk22+atl3qa2YRK2dgYiS7DnBg/yAmEKm1ihU90AZVhF8quu86GrkNtRnQ5h5wxyJrmjhnRbU50cRKIoNNpMenll3+awQ13kf8cKmkeogu2GFTwol5WRYDc+HVBRjHKIRmGkBFd5FwtT2dJtJdVGTAiDN0Q4YIk00YYJZhngWXcyh0M0TGh8bbLz66dr/X0ZFsg0U17PlI8SEHBmKYdZ6Y1jgQGMu14uI9UB6J25P35xDgP5jifjBSQrkAqBR0z+4455ABZc431XQoDpJzhbzrnXXfY0ZXDLoT30ZPfBRNddI1hZ1/OWc+dhUtYvhVd989Na0dgRDSRUTRGg2hLkDvsPPaXtIbJppvPpRbh2OCIal6oX3dPvhdAdNOeK02OeXQnrAsnA3n6k0lxhjbZaDOX6uKvXIONJdpLtJ+86v/9/bSyz2671a1eUyksCyK6eXBCvxhZZq4BDh8TvFnyrdHKI3nqVfyb2YRK2dgYiS7GEGNHp0Ukh8YQgh8SXcAl3wXiymSZPEQXoJntC0HmekZ0mxNdIu0QUyUUGD0MKXIPyW4eoktaAcQT0nzofvu4CUg/mWhaYYk3jUxp9CGc0EQeL1H/045pPCmJ6BD1Q+AgTuSh0l4wNBB2hsLVOPR0WyKii6whIsgplAFDn0pSLjnjhBouYTn9DYEBexwOnNaQfOXBXOvyt0QoaHu0M4bB/YmHODEQJd/p8c/t+vcCiS6ReORC/jTPCZHFwWPrP3czXPyyfG9F1/XcRu1Iy+gWpxQChi3B9jJsrjqPDWfExidhel7XtyUgullybFV3aAPMTUAX6e982TGszcRFyBP7sadMEmQCKr+J3kK+SAvE6cBe+uf730uLZUFENw9OjESStoDjzsoyyJjJu9hM7V99GfM9T72Uy2sTwvpLa2NjJLr+JBSibijaSUceUqdkaUQXpSavD+KKl5S26gKk2VdYJrQQcSLBm6FuW3Uhm+wSEYCUki/pKwgKSxoApNHfn4fo+uX1Ox02BFZzDRnqhEiz5JiWYQu5wTA0ijAyvE1+L2SNoXpWgfAJOVHfNdZYr65e/xpd/V4ioosscTCJIoXPzIs5WBaKCSk4Cgwva352WJbftAf0FQcFJ4JII/nUmrqQdk6IeVoZJhLSCTCkTRSQiJNGn9ny28/TT6uja/sKJLrIBew0j5I8anLVw9z4VnBpVddVro3akZZhC5EjyEDOPb+xy6ShaBl0FEemkAmHJSC6eeWIvJrpDml9jNSEE9HOPeloZz+5FvVAtpgEGgaVGJVhwneY6qRYlRrLgoiuysbfNsOJsqwUxER5RrP8cxt9T6s3r00I6y2tjY2d6OKFQkSYZKHLRAFOGtFlP5EMvFKGOxmC8UktxjMkupzD/j8MzOY6cSO62UQXQ4lceRlDqCA4CsjW398u0b39inMcsdV1U4k0QGhZVcGvn5mq5IvqUlj+Mf2Ow8N9QbKYeMUIAekRHCfCxTCq71jpeT3ZlojoMgkNbPHoGz075AkCss7aG9bpVqNzrjj7JOesEg3OKhdiHpbDDrCkmOonhByHVvNyifYT0fWXRgrr6OrvgoguhJQ8Sv8lN1lEN3z+Rri0qutad952xBwJcnE12k8KCrqozpDm0ROZ0rp7ti0B0c0rR2TSTHcY8WLJKvLafRniWLAmuaY0sPQY9pGlzvxyOI+snqPLNvrH+F5qLEtEdJvhhCwZwWAkg7lDoZyzfof1tmsTSm1jYye6gPu3u65yRGfZ5VavTTzKIrqUpxPEK2LIJg/RxSPFK/qXn05a60izGlXx+4tdRxeSi3fvEwq8QPYpMVUZpRFdogjk5TWKCNJRM0uYSCJ1gQ8dIZF3NbaKP0Pq4ZCcXp9OkvV46dB1H5FJzTPlWYh0aJ1apmfbkhBd5ETUm0kreZ6dkRLWoyayClFBzxpNYEO+OJJEdbPqDzEPy7HkDpPQNEpJdBJHFptAxJ82RYRQiVJ4ftd/F0R0kTtt2I985iW6IS6hbrai68i3lXbEBBw6c3Sbc7HxjLbQBlnyjmXSGjlGXcWzYKLbihyRQ6g7IY7YSpxYlp1T/SDVgPkJ/ggI/SaEmJUANO2FNoLeca7uC2VfaixLRHRDnEI58hsnA2eD/Gl+57GvYb3t2oRS29hYiC6GjuHv//7t1K5TZO0+P7qEh/9/fzOVi7pef+FpriyJ8ng/dHR+o8F40qkyI1+JLnmZzOKGALOfnFz/HKJ9DMtrxMg/Vq7vxRJdCAaeP0vQIHuGsvnDYGqnhazptIjC/scvJ3erWyBb5EgOKPvBO0uuLHDN+azlqmXwUnFGMM5MLCOax7B4OByn5dmSr0nuoh+hoD1AzDHcTExjDWD/nJ5+LwnRJd8VTPx1TrPkgE4yYkJuGXhzLjnVOBBZ52CI0Tud9JlWLg1zv9x2W23jJpz5+8CVTplVP8jp1E7cL9Oz7wURXXJbmZCJvugfuvlvP5/M6R5vjsySQYhLqJt5dN2vO2870iXFuL5/PlF5HFqwDl/57Jfr+veCiW5eOaocQt0JcaQc/d2SS6/i2giOEateYKfVZmtdBAVIAcK+YmdpU8xxgHxrGX9beixLRHRDnHw56ndGJ7HF6uTlsa9hve3ahFLb2FiIrgJt2+zUgUQ2xRJdxQfCCEkM12HV41lbzssympzDckYs+8ZEibQ6iCowAS4ript2Tmn3lYDoggc5fP4QZpa8cDYwhr/vm8XNmtdyRHbDDlOPkTdK9Bcn1nc49DjbZpj7ZUv7vSCimyYPCGRajq5fNg2XLN3Mo+uttCP/Pkr5vUCi26oc03QnC0dkjfNCPnuWvioe2HXmN2RFcbVc6bclIbppOIWyAxdGIAkiaDoJZRrZ1zz1UkcemxDeT6l+G9FtRgxjO14OotspJcCgkiPNcBtRfIYsWWoFY92pa5S2nhIQXSLrTPwjMhrKiWg5IylMRmHSHlEe8irDSYH+eeTMUp5oOQabusEV50TLRYl5yYluHlwUn3a2jdpRO/UVek6BRLeZHKPUnVZft91K+YKIbh6ccCKwpawWRcoOfR/rYDcapcxTb5ruGNFtpdFY2VpnndaYerMvLqKLF0u6CLP0yRErdPi51+27BESXnFcm+aXNqGb2NWlBHOd1sEwGbRYJoj5WW2DWMK/YJj8w1IsoMS8R0WWYGkfDT/3Kg0uIUyu/G7WjVuopRdkCiW4zOUapO920uwUR3Tw4MSqJjWRtcMhumq0M9SFPveE5/E6zCWnlSrvPIrqxRWybPU9cRLe0itVN46t1l4DoTtDyVxw6sS0R0TVMm9nQJscLJLqGXRNsWtXVgoiu4dhhHI3odligrSpSz8sb0Y3GiBjRHRLtrSy2RnTjwdKIbjxYGtGNA0sjukZ0K0sOeu4klKytGNGNwwjTjo3oxoOlEd14sDSiGweWRnRLRl66Tt4sohsNsTeiG4cRNqIbD45gaUQ3HjyN6MaBpRFdI7rREL+uOwklaytGdOMwwkZ048HRiG5cWBrRjQNPI7olIy9dJ2sW0Y2G2BvRjcMIG9GNB0cjunFhaUQ3DjyN6BrRjYb4dd1JKFlbMaIbhxE2ohsPjkZ048LSiG4ceBrRLRl56TpZs4huNMTeiG4cRtiIbjw4GtGNC0sjunHg2RLRZWbwZ6/bX6Vl8Ia4z+cjDcdK4/h6MlN/zGjDseo4cv/ffi7y3ZeGZQxY/vCtyFcfGZYxYAnR/eItw7LqWP7j3YT3pPz/0ZB9Y8eIjP3B/qouA4Ct+jPY/Yugjxhik0X1ZTBurAh/hmX1ZfDPcSLjrK+Moi2bfa2+PjqbOmYIndUdQ4nut1+IjPrI/qouAxAe9bHhWHUcv/k8IbtVfw67f5HRX4l8/43pZAxtYcz3It9+aVjGgCVE96tPDMuqY/n1Z8prh2yN6FYd3Kz7N6Ibh+EyohsHjuipEd14sDSiGw+WRnTjwNKI7gQYoTaiG4fyGtGNA0cjuvHgCJZGdOPB04huHFga0TWia+koFW0DRnTjMMJGdOPB0YhuXFga0Y0DTyO6FSU5GNR2/yyi277s2pV5N84zohsHjrQNS12IB0uL6MaDpRHdOLA0ojsMwtgN8tKLOo3oxqG8RnTjwNGIbjw4gqUR3XjwNKIbB5ZGdI3oth0Z7gUpt2tkGxojutmyqVq7sYhuPFga0Y0HSyO6cWBpRNeIrhHdirYBI7pxGGFIuRHdeLA0ohsPlkZ048DSiG5FSc5wIlaWuhCH8hrRjQNHI7rx4AiWRnTjwdOIbhxYGtE1omsR3Yq2ASO6cRjhCYjovvbsE3LD1VfL2C/ejwe7MOhgRDcebI3oxoFlmYnui08+KsutvIEstOTqtb/FlllLVl1zM9lv/0Pl+ccf7goIn73zatyG2CK6me3mnZeflcMPP0b23vsgefCuO+rKffHua7L9jnt2rd217HBUkOiO/vs7csZpZ8oSy60j8y+2qqy21uZy7+231sk5TQ4fvPaC7LLrvrLgEqvLAouvJjvutLe89+pzQ8574M7bZa+9DpIjjzhuyPHH7r9Hdt5lH/nm47eGnJd2zZ7uK3nqQru4qQzffOFpWWu9rWTWeZeTi86/QMZ8/l5bGFQCXyO6TbGtBI44MCUnunntouoh2+Hqsl8X3yuBZZmJ7lcfjpRLL7xY/jjpnI5gPPPIA8LfVZdd7ozmzyaewXVqABcKv93fn779iiy+7NryxnNPdazOdu+la+dViOhCPB++505h24486FDvv+M2+eTNl+vOH/flB07h/Tqfe/whmXa2JRyhOvjgI2XE1PPJ1ZdfXjuPdrfo0mvJqA9G1vb55/f8e8WILjKHaK68xiby0RsvCr/R776p55c7b74pU6aUnW/RVeToo46X7z99V7ALW2+7m8y54Ip1uJ568uky9SyLyfHHnSQbbLydzDDnUrV2w7U23mwHOfDAIzKv03P8/EhgCYjuWy8+I9tst7u8/PRjdTJqFzeVJw7G5DMuLDvtvI9898nbdXVrGX97/VVXyT77HuJw9vdXBt8KEd0sWftyD79jUwk0XXHJpU2x5NwXnnhEsK1aT2VwLBHRTevH8tpFlTvbdnU5q51UBssyE12A+XjkSzLVzIvKUUceV1MUBe78c84TyO7JJ5465BgdIpFZgNXy4fbzd14bEt3BO5l0+oXaJrp0ws2IEPfF/YX307PfBRLdQw89Wmaff/nUv+OOPbEmE4jtCqtu5MgKUT/aAL/ff/X5Wpk0eUFqf/rHGeTHP5mk9vebEbPWGdrXn33SRRInmW7BGhGirs223Nnt12gTEUQijzhS4LXS6pvI6aee0fD6affUtX0lIrp5cCWqN93sS8hDd99ZkyH6CfElQpslp4svuFDmXmilOr0a+fzTjjwpQf7w9Reck3LBuee7etCxGedaumYbXnrqUdfm2GZdp9D9JSC6hxxylPy2bzaBmPqyaBc36njlmcedPd1zzwNzjZJhP3FqiNz7drRS+BZEdPPooI9rlqz9MmnfaR+//usscthhR9e1E8p++d7rLmrv21++n3D8ya5spXAskOjm6cfy2MUQv3Z0OaudVArLKhNdCAkkiMgNHRugErnbfMudZfo5lpQpZ1rURYsuueCimkJCWhiahjjNPPcy7jhDqBCoG6+5xnWe//6Lyd1x6t1k8x3l72++LGuss4X8fmB2R7jxZDn2lynnqdX7yL13ySJLren2/3mKeZyx9iMj5KTh/cw019KuzO/6Z3NR6q8/erNWR9gou/a7IKILqVl2pQ0cPnfferPo3x033ejkheLyzCgWBHP1tTcXlQ/40gGSttIogn/5xZc4wgOWWj/Y6DlEFAemXcBFA4nYvv3S39w1iTTRDohUqNzPPuNshxVRfuoggthuZFnr7Oi2JEQ3L644GP3TzC/XXnFlTcbIY/2Ntm0YaT3nzHOcLjNMp/JDX2eZZ1mHC/sY6SEyTPRfyyy94nouisjvgw46QjbadIeGjq+eV8i2YKJLp0U0HGcvzJ9tFzd0Dn0l1YS0nzxyJX/3l3+eeUgbqRS+BRDdvDroY5Ala79M+J3rbLXNbk4f04IO2Efa0UknnFKzv/fcdktt5KVSOBZIdJv1Y+CSxy6G+LWjy1ntpFJYVpnoAiJRXQzj4/ff40gRUTdy9CDBKCVRCggN+b783nW3/WTeRVapEZy/PfqgI7VMksAwX3jeBS5V4tnHHnLGWYkWeX3kB0NUV1lzUzfkqtEkykJ8b7/xBmfMiRQTkVhxtY1rBAvFh0jRoXDfRLX+MMmcLl8xbIxd/10Q0YXAIkOVkz4nGMyz8Mo1TG65/jqZaGAOl/ujZdgSuf/VX2YeEnHyy5CbCT7+Pv+7Dp2SJwgxUqJL577MSus7I67ljzjiWEeuaQPbbr+H7LHnAZn16jk93ZaE6ObFFf0ievunyecWMEZWTzxwr8u/R/+yZEcUFqeSlCKG1yl37DEnyoabbF/TLyKH4Hnzdde64+CMY0TUCed3roVWzJULnHUPXd9fMNHFCZ94srmcwxA+a7u4YeOI/O1/wGHOyWAkhzkXOLQhmeaaXIfjOLlhHnWl8C2A6ObVQcW2kay1TNqWfhT99Uff/HJPP3y/6wuJHPr79XulcCyQ6Dbrx5BnHruoctdtq7rcqJ1UCsuqE12igZAfOk48j8lmqE87ID8I0kQuIB4IHaZ2hoBPpAHyqwT0yksvcwY/LUd3+VU2dOQ1NNJEkCFX/n5ImUYMyaUh91OHVbkuRBzSR6RYG2HPtgURXRwNDKCSTX3eAw443OVPcpx9kJi/TjVvjYRqOYZzSFXx5ajHdLvFVru46J3+ztqGRJdyRHBJW4F8ocQ4NRAA2sIcC6wgGHEmQG259a7uGNEqP/cs61pd218SopsXV+RAVBY9+s9fTemIKDrw1EP3N9UBokJE4n8+8YwuT3rTLXYSHEqVLQYZPHAu2Y++M6KD/uO8LrXCuo48MfGNSC+TonBcGGrVOgrdFkh0kRfyYKKl6mAoi3ZwY0Lnf/16Kll7/a1cnjx1qLNKvnV4DTDGVqsT5B+vFL4FEN1WdBC5NpK1L/fwOzrDaCkpheExft907bWy8FJr1EbiwjKVwrFAopu3H2tmF0P587sVXW7UTiqFZdWJLlFV0gAYpt5t9/1dVAdv87RTTnd/RHQhR6ecdJqLnpJWoFGhtEbQjOiGxJROAkJENFCvyZZhUvLd8IBpLEQ2dt9j/7oyRIGZ3OQT5LR76vi+gohu2nOQFkBKAE6KHgcrOjzIpu5jS+QXOXLc36/fkSN5vOTRQm7oTKk3jA5RPo3okocLyQYX0lrolNl3zNEnyJrrbincKyuAMKkGY4GDRLkso6/31bVtSYhu2vOl4Uq5R++720XtyH/G+fvfiaZzE49C58evE1zBHBLLZClGcEiBoFP1y4EJejfFTIu46C/59tQLycU5Iq0BR5hJhbQtoryNcoP9urv+vUCiiy4gT5yCrOdsBzccD2Sso2LUDSEjHYzhbX+CKI4/qzLgBGW1hcrgWwDRTcMtSwfzyDqtPvLiCQTQv6UdZx8rquDYEEzClp571rlD5lVUBseCiG7efiyvXQyxyqvLedpJZbCsOtEllwVShJGmkyNiSySBXEv9Y+iMyBuRQxQVcELw6s1hsQAAIABJREFU9XerRJe6qBPCqtfTLYpOxPi6K69yE6SI/Oox3XL/eu2ebUtEdFnVgGiSTxbvuuVmR2j9FQ+QDdE4SE6WzBi+I7IOKWXVBEgMbYMIg18/daUR3TT548gwBA6pwngze1yj/eQ7QZzSIlBpdXV8X4mJbhquOH1MEGMUBlkQEcAZYfIgWGG402R05ulnOQwUQ3QOEkV0NyS74fm0GcgW57JSA6kTGrU87+xzXXTKJ1zh+T37XRDRZcIX7RsnnGelc2N0i60+ezu4cT42kRSucOItoyQEAfw5DOTAMwJGwILrQo7z4FJKfEtCdNN0ENm2K2vy3LHV/nwY34mhboICBAPog+l3yaPHBoOTtqe0bSlxLIjo5u3H2rGLrehyu+2klFhWnegyeQIiQxQA5Zpm1sWHkBpVLGZ+MqGsUT5gq0SXoc/Z5lvORZr0OuGWyBJR58IIEQrr/5WE6NIZQkzDqBoEiMg5ET86PtIFiMhBkiBF4fq2dc/mP+eojwTSTEQfp8Mvl5foEv2jfYEz98A9kYpCXZqSctlFBTgrPGdJiW4Wrjgf5KmHEXbyaBlpIWLkY8R3OlLyt8mX9o/RGTDJiSivv9//DqFlSTE6XPYT7SftRMtAknFcSjHBsCCiS/smAq42EX3DhmruOrJqBzfOYzIpRCeciEaUD/KDo0g5HByCFJRXUszoXDh6prjptrT4loDoZulgu7LGBtMucA6Rv6a7NLN9kGLaAE5PVqS+tDhiY0uyjm7Yj7VrF/PqcrvtpLRYVpnokkvJBBRdzw+lI183y3tk/y/+NJOL5qmxDLetEl2AXWeDrZ2ni/KH9fGbToOhQZbYSTve830lIbqkIpB3SWpHKAM6RyIILCuFI4ETQ8fHhJaw4wzP9X8TFSKnjHVV/f15iC6dLpMbNVWCNBnuV/NymYRIRNdfLsu/Rte/l5ToZuFK+yfNRyNCKh/0lmieRsp1P1uwJj0E4uPv5ztD3ZDXcL/+ZrIGESgdkiflhAltOFKUwfEl2usvY6Xn9nxbANGlsyRHet/9BlcaSSO67eCG/BjiZmk/ctt9eeJsMCFYo4HkaONw+A5sHqJbWnxLQHSzdLBdWbO8J5hpTnteogvu5H5jN9NWaeB4aXEsEdEN+7F27WJeXW63nZQWyyoSXcglBpk1OffZ5+DaMBvKx6QhZu3qsBdlCcETfcOjhLhAfLRT5TiGWDtf0gyI+gI0xxgmxTtGIckfS4sy3Hf7bc6gs46hlsWIQ+D0N0SNF18Q3VWjzz1gkPR3z7YlIbqkb0Bi8xBXcipZ95aXAaicIDBECq65/IraPj2mW3CFXJEXqPvY5iG6tBvak0a3iCIyK5wl0pjsRO4nEUMlTn79PfleUqKbhSuOAsSHGcWqF+gAMmZkRvcR8UO2mksP6SHi6zsURCLZF6a3+HLHUcLBQY/Zj67RhtBFcgnJE/WXHvTP7fn3AoguekO0zY9opxHdPLhh75hAw+iM4ki6CE4K2KqOEGxgoqlGAokcMbGQtC49D9nnIbqlxbcERDdNB1uRta+DEFRsqK9rrRBdsCQgoBO+Q90qLY4lIrpp/Vgeuxj2kXl0uZV2Uhksy0x0mTzCcDUztFnShFwy/vD+8S5RPO3EVOBE2ygDWaUD5XyML4n5lMH4sm4nqQREBznOBBclxnS8DOUx3E0UFiM98vmn3GSz//e7ad3QOZ0l+/XabFnmDANOvi7kjUgk69zRaLgunjDXIeKM0eC6kCai0nrvPduWgOjqsL8OKzd6djrJdTfcxuV+aUSB8uTM/uQP09eR37AeFjdnmFQJDTiBH/v+45dTuBEBhsbD8/i93Q57ugln/jEMDkSNzplhPO3A/TI9+15CotsMV0ZfSP8gwoP+gQUzuf2oKnoCPuoE4mAQicAG4KQyWZA/yJLqYChz9JloLcTNP0YUnsgu2PoRRL9MId8LILrkLDPCBQb6h4z/7eeTO934n99PW5NdM9ywq+C65PLJ6hYqQxxU9lE/pJqVMNBBxU3PY2kzvQe25OL/688mc/fBOVqfbkuNb8FEN0sHW5G1r4Ok3NEforOKEd9ZUYM157GjpJ4oNv4W3aU/ZtRT+0L/eKlxLBHRDfsxZJjHLqb1kXl1OSqdLDPR9RVCgSX6oHlc4XH/N4QETzRNuShHdJe8o7S6IC8YCzXGfr2NvnMtrqmkOq0s+YlECMM8xbSyXdtXAqJLvivORvgWpvCZNVLEEHRaDifENwsnMOQlHuQB6zBpWH+lf5eQ6ObFFR1B//wonmKBHvnE19/fTL+0bOW2BRDdNBmlRXT9co1ww6ZlOX50yq3Y1DwRXf++SvW9YKKbVwdVZmmyztJBPSdPRBfd1gngmu6l51dmW4Ic3Wb9WDPekdVHNtLlNHzS2klauVLuqxLRLaUA8fqq9lcw0aVD1BnZWYQfI8nqCkT91ttw28z8Ll/2nEMaCecxPM3QNPlheVIj/Hoq871kRDcPrpWRba91uiJEt1f4VbpTLZDotqOD7cg6i+gyq5+UGJb4ZLIoKzAwitKrdtPx6xRAdMvaj7XTTjqOR7t22YhuBYlqu2DreSUguqR1NFqFAmUnNQXDmVdZiM4zmZAlbiC7DNXlPbeS5UpIdJvhWkk5q950c1sSokuqAVE4iEyRWKH7Z51xVqH30PbzF0x0W9XBdmQNoWZOCnNZfDnxhlKWDOTlO5WN4vp6XgDRLWs/1k478dtGod+N6BrRLbQB+kbFvtd1Gk1xKRnRbXq/hm82viUhuoZhB/qDAomu4dcB/Hw7VQDRNQw7jCF4GtHtglB9RSnj94IjuqbIHWpzRnSziWMZ9a7RPRnRjQdLI7rxYGlENw4sjeh2iHQ06sTKdsyIbhzKa0Q3DhyxD0Z048HSiG48WBrRjQNLI7pGdC3CWtE2YEQ3DiNsRDceHMHSiG48eBrRjQNLI7oVJTnDiRJbRDcO5TWiGweORnTjwdGIblxYGtGNA08jukZ0LaJb0TZgRDcOI2xENx4cjejGhaUR3TjwNKJbUZKDQW33zyK67cuuXZl34zwjunHgSNuwHN14sLTUhXiwNKIbB5ZGdIdBGLtBXnpRpxHdOJTXiG4cOBrRjQdHsDSiGw+eRnTjwLJlovvVxyL2V20ZQHS/+qTaz2BtUOSbL0TGjjEcY2gLGtGN4Vkm9GdwRPcfppcxtANHdP9uWFYdy28+g/Wkfn6Uutd2mgRMAiYBk4BJwCRgEjAJmAQqLoGhRPeJzUVumsz+qiyDW6ZNmuXtsxmOVcaRe39sQ5FRrxmOVceR+3/tZJG3LzUsY8Dy00dFntnZsIwBSyK6dy9gWFYdy4dWzaTjQ4nu4xuL3DDC/qosg5smTwC/dQbDsco4cu+Prisy6lXDseo4cv+vniDy9sWGZQxYfvqIyNPbG5YxYAnRvXMuw7LqWD6wghHdCYq8G9GNx2gZ0Y0HSyO68WBpRDceLI3oxoGlEd0JLEJtRDcOxcXDNqIbD5ZGdOPB0ohuPFga0Y0DSyO6RnQnqIh21Ydg/Ps3ohuHEQZTI7rxYGlENx4sjejGgaURXSO6RnQr2gaM6MZhhI3oxoMjWBrRjQdPI7pxYGlEt6Ikx4/stfLdUhfiUFwwN6IbD5YW0Y0HSyO68WBpRDcOLI3oGtG1iG5F24AR3TiMME6LEd14sDSiGw+WRnTjwNKIbkVJTitRXL+sRXTjUFyL6MaDoxHduLA0ohsPnkZ048DSiG5rRPejC0fIi6eOkO+uau280kRNjejGobhGdOPB0YhuXFga0Y0HTyO6cWBpRDcfYX3tjBGy9Hz98u8/H5Af/2QSOWOHvmo2ACO61cQNMhT+WerCUJmEMqrKb0tdiAdLI7rxYFkSovvyaSPkmn37ZMy1Kf1AVWxckfdZBaJ7+yF9Mt+s/bW/GaYZkEknHRC2qyzcL1fs1d0G8P75I2TGaQfk//06uR6E97I9jegOIV45GzLR8FO365PF5+6X+Wfrl5UW6pc7DimHPN86Z4QcvFGf7LF2v9x7RL1R+eLSEbLtKv3y7Mn1+9uVw7DPKxnRLQOuYLbbmv1y6CZ9Apa+jB8/boTssGq/fH1F/X6/TGHfjejWYRXiUClcjeg2xBJsK4NnwUT3zbNHyBqL9cvsMw7IJXt0jue8d94I2XG1fllw9qQP3mbl/iH2MtTBrN/Y03N37pOdVu9322+urLevJ2zdJ2ftWHD/XgWiO/KsEQIQ//mLAfnvXw8Igrvz0D7Zdc1+95so6+Gbdk+QJ2/bJ//60wFHzCrvURUc0R17XaJgKO8nFyUKcfU+fdI3MCC3HDQUQ5To04vrFSdL4fz9n10yQkZdnn3euOtGSKiQfztphEwz1YDstU6/HLV5n4zoH6hzaPCoF5mzX768LLte/x66/r1ERLdVXJGNYgsWeWTFNb6/ZvAPh+OZEwfPRU+nnWrAOVGbLd/vvtNRUDfX2HS5ftl/g6FtLM+1u16mBEQX26byRTfuOXyEkKrlP3ua3vjH076j3zgfzfQmq1zlcK0Q0c2SeRqOuo92sufa/XLhbum6FJWeFkh0Hzt2hEw++YDjOc1SJZH5xxcm+qs4ZW0/vGCEzDtrv5y4dUKc0XVI76wzDAzRd60DDrbJcv3y/Cn19uCrK0a4YONyC/TLOTv1yVwzD8iGy/TXIs8ECdn30NH152m9PdtWgegiDDzA//3tgPzktwNy/5GJ0FC4Zebrd6kEs0w/kGpIG3WiHKOBqLCzykKySVdYfoH+Wlk9x99mne+XKfx7wUQX4jHd1APycNDwIb5ES1U+Nx/YJ4vN1S+zzZBE7yf+a0Jgmsn48j37hLaA0v55xICLGIfKyTDQygv3O3L9thf1Q5FXX7S/1iZ2X6vfEVuMDASA0YNTtk037nrfPd2WiOjmxRX5vHTaCFl2/n43IjPlFAMyMMmAXLBrY7lCksAUPfT/jt0yOQ/jjZOine/nl46QmacbkOPGHwdz2tILgaHuKV6NRjwKJrrY1J/+rl6+v/7jgOD8qYyy9EaPp23pCBmNY+SmkeOZVa6SuBZEdBmJos2n/R252VD9ypJ5Go7+PgjYr/4wIIdsPLTO6PS0IKL7yukjZJJJB2TvdQf7Ix8D/Q6G9FM4+OA+0Z8HXD/aSNcu2q1P5p55QDhX66EfxBbfdvBQTCkD1r/544A8euzgOey/br8+R8bfOCvZj3PcPzBoN87coU9WWLBfRl9df55et2fbKhNdhAQ5oeOjkyNCCBECLIbDAZ1ILOR4rcX7BaPJORfv3uca0X/9MvE+AH6m6QZc/u0vJhqQIzbrc2SHiNO+6/XJn/6adAB0BFxn59UHCdmNBySNhrr+4+cDrp6r9h5sLESap54yaYCUPXrzPvntxEl0uGcg+x1swUT39TNHOGJDdNR/frzA/dZP9qGkGGYdesYZ2WfdfqHjZfjZP8//fuXeiaGnQ2Y/RhfnBO9Vo0l4rqS9oOh/6RuoXQMyS2es98D55+3SJ9NPM+A8ZYz7nDMNiE+M/WsX8r1ERDcPrsgI+UE4z98lwRp9ZYTm938a6vz4Mn3n3BFOj0h5gZTx98BRg9H+p08c4RwX34EiyqDOE4Z6g6X7nX3w6y3N94KJLg4ibR3bqfJF17SDytKbZvLD5v1yogGXX9iobFa5SuJaANFFj3Aet1yxv4YfOEI8Fpg9PfqaJfNGOHFsq5X6ZYrJB4RoXVg2Oj0tgOiic6sukqQVaL8VypnfBPoYuaLv1NHJp04YIX/tG5ADGoxckWYAqfXx++D8JJCQFnlVZ5MRMT8wyD3QT88x40DNiYXwQtAZnYVIE6zCtqTdf0/3VZnoEmVDkBBdvAaAJ/dkqikGXBSBfDz+8ER+/JMBR5YQ7g379zmyxXlEiYkwbr9qkgNMOTpdVlag8eCRACRlIawHbdRXM9oQof/7qyRXmCFUwIVck8tL3jDXolERWfw/v0yii//2s6QucmN6CrSS3YKJrirxH/8yINfv3+eIB8qJMVaCmiYXIvo4IQy1pR0ngkce02Gb1B/nvN/9aUCIEHMebYYtzg0GwSfTdBQYca0fp2SeWRLPl3ZEqoweK8W2REQ3L66kheBQ4ESqDMl9JhrByInuC7e0EXLyFa/wOJNFSX9RnLkfroO+4gDj2Nx9WH3bCOso9HfBRBfnnhGLLBlk6U1WefaDAc7GEvPU4x2e06hcJXEtgOgqqQjnOjx3ctL2NYVHZd9I5lombctoDP2ZjpSEZaLT0wKILmQTznLghn2OxDJCueQ8Sf4rHEdlTt+GzQuDP6SVEJAjlUHL+lv6Wfq+hefsF43EgieBgLQUidO37xNGVP00Ma2P3Fv/WpRhhI7IL04zozmkEWr5wrZVI7r/85sB5yGgcAzVkLNLo7jPmzjkd6IIlmgORHWpeQcjOhAi9kFytUEwxE3UEFKKt6ugbL7C0NQFctfwiogY+ysw4PVQL1FEHRpYZ8lkH42FoVbuNWuIQK/ZtW3BRJfnQnYrLpTkXEMkF52rX544vrEyEMmDHGO402RDdI/jIZnBa8XDDHO4Q6JLnTglRHuJ3jJ0hIE5aZs+oZPA2eEecaRoD0S/cK6IOKXdT0/2lYjo8rzNcCU6QTQ3zWHAyGIUNTIRyg99XGiObMIEESPtBEzI6b50jyRqQXthEoeSLSJcdBpMLmXyBA5SeK1CfhdMdGnTOAXNnj1Nb7LOwc794S/puff+OY3KVRLXAoguEV2cQAisL1v6yLSRjEYy988PvzOUrqNc4TF+R6enBRBdggGMEDMKDU5EVOn/SBdhkq3KnVFORqJDIkkwiGBdoz6VaD/94s9+N+DS8xgZD+vhOhpA2m6VQe6k12dLP0l0//it+oSABSMKjKIyKrvukv1udJw2yXFsP/09AcIwMuzX2ZXvVSO6RFxJRSASq9FXOq9QOAgSwoJhVqJJFFUNgRJdyAwAcT7DqnirTG7TiCz704guk+GI3EK8/etDjCC6NDQaAefr9ddeIjtiEt5/136XgOgyvEz0lAkqROmQI8qdRXIgsZNNNuCi61lyAS9kHhJPlBdjgKL656Z12HjLeLYYciKMGBc6WpQUEgWBYjIa0V2cI4w+98+wj193z76XjOg2wxUngQl+TPQLZURbIM9MJyiGx4kqYPgZjWG4DOeSYVK/HB3CRsv0u5wxyOyDRyXrXZPHjxNDlIF2RGoRzgvEmgg+JMGvp5DvBRJdbCUOAu0dOeEU0lmGAQPkkqY3afKiTjo6Or20KJGek6dc5XAtgOiqPP0tto+JQNcGaWJ5ZO7Xo98h0ujPadsP1V8tE52eFkB0SVsAN1//sFFbrJCkjOgEUfgEI6GhfhHsYRQzK5gG/vAUdJ6RbIJ7pPGRb6s46pYgARHaRnMbIONwKwJ/2FP0lYnCjLAyIoOzxfMQSWbEjT4AO67X6Mm2akRXJ6PRCBgWg1Sy3JdGTyErzNIlNE/OLBNYIC2Uo1E0I7oATnqBv3xYGtGFWEGI8Yj8BG0m1UDAGWZnGAcQjegOEglSQoim3TV+GBk8IJfkP2+90uBsTeQGwSX/iJmnyLURISE/l9xnHwvqgJxCRskx9BUqb4eNE0S7Ic2CZe4w9CgvdTETld8c8+vu2fcSEd08uEJ0maiA4QtlRHQVByNrhQ3aCGlK5MwzQkO+NMY8HKoN66UNURbji1GHeGHoKUcbIB2JY+F5Pf9dINHFduLIQUwhuTgdjI7gCISyyas36CHDqjrCgr3WkTNftnnL+efwvdS4loToQlzo+0IM25U5ekdUTiN/OKXa7yo+0elpj4ku/IURToijpgupbEmjZPRaSSf6qql1WoYtQbhGtpEgAWldGlSgfTAZnD7YJ7tEZSnHZDfq5d4oy9a/Xtp3gkAQc3Se/p4VGShHH77aov1uBZy087q2r6pEF4EQfgccCKemDwAUYX8ivjrhiTySThNdhmhIcSCiq8ace8Lb5Vrk6mr+ixHdQcWA5KA8YfSWfFgm/TGpSRs7WOJ5En0n8g7RgVzqcX+LV4ly3zQ+F1ePEfXDI8X50X1s83bYREMYMmfYnUmMPjFCiYlCNlsxwL9uR7+XiOjmwRWnARz9PGiVBzpCekFo3PV4uGVIjXQSnJCwLWlZjCqpRPusl2BPDiq/9Tg59bSNMH9Rj/d0WyDRTXtO9Ekn5vrH8+gNct942X7XeSqejNiEOcB5y/nX53vpcS0B0cWZw3nRyZgqw3ZlTgoYtk4nkaLLkF4iflp32rbyetpjoosMwc0faVa50s/4I8XoFP2RRni1HEE40iTD1YY4jsMJOSYnX8uzxYYyWknwkDbCPkZ1iNJqn4xN4HpZ8yS0PtoKwQVG1ChLOqAfDCKgRTRZy/dkW2WiS8ielw5ALIna4aGQZ8ZvIm3qyXaD6BLVozGRo4unpWAxrM31aTQ6pGBEd5CcopxpeUVEZInCa7RU5alblAelw/PUiJweY4uykxTPix78/QzfEEUMX/KQp8Omk6ZzhmxTJw6Nv3QKhgQlxgD41+zZ9xIR3by4YuTAX9OFkBV6i/6y+kIrsmP1E6KGRIrTziN1iM5YDT6RSiZgqF6CK8f9e0mrpyf7SkZ0dSQE2+U/fx69YSSLURh/Bnca0c1bzr8+30uPawmILrnpOHFE93z5tStz0o2I8OsqAHmJLteutJ4WQHQJlhG5DdPwmKxLCoBG0QnqENxhUpqPMWl6BA3UzvnHwA0SjS309/N9vaUGiS6EmMCSv+54XqIL34Iwc32i/1xPl4FkBJe0MibMhdfv6u+qEF1AJZeTSC2RGPU6WDeTiC7pBpBcJqGQssAkNToyor66MoOfuqCEmLC6DsXgfZCjS13qqaoHDHkl109JFvuZVPMvPx1wuShEDllzko6XKLPO/gY8cmk4H09Nz+8qqLrCQtq24BxdDC9KTJ6lDoEQUWNWPFEg3ZcmH5aMYygOZWX4hiEejdpTnqgixl0nrGGUmfQG+dX2ovXm6bDJ8SZqqB4sys/QN4pKO2NyY9ZMVb1OV7clIrp5cWXYlAlKmucHLuRA+0NpyJlhL9JNGrUHyBN4Z+VIM3ED4606h7PDBAzaAyNArM5SWDQ+1M2SEV10jLQv2rffhtP0hrxedAE9QdZMbAE/lTvnh0Q3bzn/2vq99LiWgOjSv4GfP9myFZn7mOJI4pz6ub6tEN1K62kBRJeRQvo59EjJKiSTQBCjiqoHmlpATq+SXyagETTQ1EDK+ljyG5ILz/EdUbAlbVPnJhHNhaD6QYQ8RJf7gG/RP+p9wsMICBEQJA0CzqXzl7RM17dVILq8wYO8V8ii/kGKEA6RB13+izIIE4+G9AV+05kxOxHiCyGm84Qc+/WRD0NUiXC71s/5l+/V51ZP0H1sIdHaGAj3k4vCbEjIMfXTQCHiChwTaPxrUY48Jj3e823BRJfnRX4Mg0FSwI7oOx4eipslD/VEIa4YbGRMvjYkSc9Bycj1JNJOvUR4GbZWY0E5ht4gO6SWgBeOCSRb6/C3tBXq8/fRcRDdYAicvCO/br9cT76XiOjyvHlxxQhi+MjJxSgzjOWnpGhKCA5FVloCZBi9XXPxdDKMXQDXMIeX6C4RJoZ0cYJ7glNIatN+l4zo0mHikOgLOBrpDZEm9AlHX7FDB9Ez/cNGYgcZAUPv85YL8akErgUTXfoydEtTdlSGrcjcxxRby1wUcFM8+U4fSaAHTMPIv16z8npaANFFdhBB7B/yxmFhZQP6mzBgw+pTjFIx0sjkL8ipnyZAXT6W/KafpL8lVZBVpyCeODKsd6v1M/JG6pLizZbyYM0faZuKsb/F3pIagZ7qfvprAlLMdWKd+nASsZbr6rYKRLcdARDNI3UB4PjDM0HRFch26sw6h6gT9UPGssqUZn8JiK7Kgkg6KQmNonaUhexAOsNhGjBOwxPymadevY/KbktGdFWOeXAFN/Qzy7kBc504qvXqlvZCxArj67+5S49XclsiooudJCrDCIpGihrJlI4sC0c9L4zo6v5wm7dceF6pfhdMdIn6YSsfOSZff5Qm82aY5onoRqGnBRFdbc/oH2l5af2clmFLAAa99ffp9yws2U8/6ZNSPSdtmyeim3ZeKfbFSnRLIdy0yE3R+0pEdLMwwogy3EF6A94o0T8i5f4yblnnTlD7S0p0u4EBqzoQFWA0hBQkJghGQ3KxCQUSXQgJnRgRHUaomHDCqJg/7D1cTNPIVFqdeculnVuafQUSXZx85q2gI0RT88ikHZlnEd3o9LRgopsHv16VMaJbNHmz6+cyaE4hKkB0ieYRlSBFgOEahpubebS9UvZSXWcCIrq8/YeVOc7eqa+Wg10qLIZrgwokuky6ZDLoMVv0ObKbFRkajrxZQUVXxmlUT95yjeoo/FiBRBfbiZzD1WcayaQdmUOoWQ0nfCtXdHpqRLfGLVh9gclpOqepUZsq3TGL6ObzeksHXLsdawWIbjSybhejvOdNQEQ3+jZRINGNXrZ59alT5QokuoZlh/tzI7o1olvptmVEt8OK0Slj2a16jOjGobi0DyO68WBpRDceLI3oxoOlEd04sDSia0S30p5atxyCKtRrRDcOI0xbM6IbD5ZGdOPB0ohuHFga0TWia0S3om3AiG4cRtiIbjw4gqUR3XjwNKIbB5ZGdCtKctqNOFrqQhyKC/5GdOPB0iK68WBpRDceLI3oxoGlEV0juhbRrWgbMKIbhxG2iG48OFpENy4sjejGgacR3YqSHIvoxqGA7eLIeUZ042kDFtGNB0uL6MaDpRHdOLA0omtE1yK6FW0DRnTjMMI4LUZ048HSiG48WBrRjQPLlojuuLEi48bYX9VlIGIYVh1Dd/9jRTDEUTzLhG5Xxon8c5xhGUNbdjppfWUUdsnsazw2Cd6T8vnRkH2jvxL55nP7q7oMALbqz2D3L/LdKJGxYw3LGNrC99+K/PCdYRkDlmN/EBn9tWEZA5YQ3W9Teb3cAAAgAElEQVS/MCyrjuV3/xhCZ3XHUKIL4KM+sr+qywCER31sOFYdR4zP2DGGY9Vx5P4JInz/jWEZA5Zjvhf59kvDMgYsIbpffWJYVh3Lrz9TXjtka0S36uBm3b8R3TgMlxHdOHBET43oxoOlEd14sDSiGweWRnQnwAi1Ed04lNeIbhw4GtGNB0ewNKIbD55GdOPA0oiuEV1LR6loGzCiG4cRNqIbD45GdOPC0ohuHHga0a0oycGgtvtnEd32ZdeuzLtxnhHdOHCkbVjqQjxYWkQ3HiyN6MaBpRHdYRDGbpCXXtRpRDcO5TWiGweORnTjwREsjejGg6cR3TiwNKJrRLftyHAvSLldI9vQGNHNlk3V2o1FdOPB0ohuPFga0Y0DSyO6RnSN6Fa0DRjRjcMIQ8qN6MaDpRHdeLA0ohsHlkZ0K0pyhhOxstSFOJTXiG4cOBrRjQdHsDSiGw+eRnTjwNKIbmtE95VnHpfzzzlPvvpwZHUbgBHd6mLnOzhGdOPA0YhuPDga0a3D8rVnn5Abrr5axn7xft3+yowilojoVl6Wft/V6+9lJLqnnny6LLTk6rLgEqvLHAusIFPNvKhMN/sSstzKG8hlF11SqNJssPF28pM/TC/33HZLNRWXBlYg0X3gzttljXW2kAUWX00WW2YtAevvPnm7I7LsVN3ffPyWXHjeBbLb7vvLRedfMOT+TjzhFDnv7HM7cs/DMvglI7qj//6OnHHambLEcuvI/IutKquttbnce/utPZUTbWCvvQ6SI484Tt579bm6az92/z2y8y77CPgOS+7dMNKWutAUk3deflYOP/wY2Xvvg+TBu+6oK//Fu6/J9jvuKc8//nDd/kJwtoiuvPnC07LWelvJrPMu52zomM/fq8OlMliWgOg2k2UhbdyzgZWwuWUkup++/Yocd+yJMtHAHK6jhAihGIcccpT88s8zy1lnnFWnNL0E+tH77haIzqgPLKLbqtxvuf46mXGupQXF4Fyi4xhCCOW4Lz8YFqadqvvrj950BG3pFddzJHz2+ZeXzbfcWdRQQ57mWmhFeeTeu4Z1v63KLrV8iYgu+EEiV15jE/nojRcdnpdeeLH0TT2/3HnzTamy+v7TdwV5pz6bZ0jzHsdpmnqWxeT4404SHNIZ5lzK2Q3O5/423mwHOfDAIzp2vbz3latciYgu9ve+228T8Em7dzDLOpZWnn3Y74fvubOGR1a5rLqfe/whmXa2JWSXXfeVgw8+UkZMPZ9cffnltfu76rLLZdGl1yqHXa4A0UUf6MNasbtfvve64Cy+8MQjDfGnzOQzLiw77bzPkCABuFcKy4KJbjNZ+nrUDqbDtcGVsbllJLqAd9O118rEk80lTz98f82YQTaWXH5dWXG1jWv7fKDb+Z5X0fOWa+ceOKfb9dfdV0ER3VXX3Ez22//QOuwuOPd8mWmupYXOVe8RZ4KydGw4O3MuuKLcfuMNteNazt/mqRulPvesc120cbIZFnJ1r73+VnWd7/VXXeWM9BvPPeWud9ctN8vAtAvUIkWnn3qGrLT6JkL00r9+Id9LRHSJOjDq8tDdd9bkQpuG+O640961fcjp9WefdPshouAw5UyLyhWXXFpXJpRnszbx4esvuPZCe+Lcz9551TlVJ594qvv90lOPCk4L27DuUvwukOgSIf3xTyap+1tkqTWHkJlrLr/C6SL6+qfJ53a2GGe1kfwguCusupFzOojwMzrH7/dffb52HhH2Y485UeZdZBWZee5lnF4y4vPsYw/Vymy25c7OAVWHE8LLyAF6iF6jk+hmo3vp2bECiC7tffW1N3dtnHbu/zG6AmHi+d968RnnuM8233JOX3/XP5tss93uAonNkg8yPuigI2TS6Rdyfe98i64i08y6eKoDS3ug3J57Hpg58lopLAskunlkCWY4h/vse4hMP8eSTs/gTbvvsX/DIMIdN90oy6y0vgs00b/xF45SRmVzq0R06TghuetvtG1NKT8e+ZLz8Ok0/3ei6eSnf5zBRXNQfFVcIsIMZVIGTxNF3GKrXVwE4Ld9s8n9d9zmykKmSJmYYqZFHPCkSmy06Q7y67/O4obLiDLTIKgHQ41xwHhTxwEHHO6Gu0m1+O/fTiMYkJNOOKWOwL790t/cvWHsJ5luQZllnmWd18v1OE/vt+vbAogu2CFPjJxP6onE0KlpzvPN110rdLKPjzfM7CcSh/JmDUvmqZsyu+62n8OdNoOMX376Mdfxcl86nH3Ukcc5LDRiT14UmBOVZB9RI+656xjliWiWiOhCXvunmV+uveLKOtmgq34UFeJDWz/nzHNcOXA55ugT5A+TzClPPHBv3bkq4zxt4plHHnDRY6KGeh5ReaJK/KajRpf9tqflSrEtkOgyxAxOd996c+3vxSfrHQJILiRU93/+zmuy7EobOHupuhvKkf2QUQiYRu6xy/MtuopzZNVZBLsTjj+5VganBaK28FJrOL3EfkPWfCf57DPOdnYYB5nRFZxh2lZ4D4X8LoDoon/0a6QO+TgynwTccESRBSlZBJFUD2674QY3Snr0Ucdnyo5j1E0klzo4FywYrcGGqozBk4AD9pxUEt3vbyuHZUFEN48skSuO35Zb7+r0V/UQp+YvU87j0nx82et3+rHDDjtaNJhDHRBjeAy6SLnobG6ViC4ePiQTRVbQLr/4Eqd0RGoAjCFsAINkapl99jlY5ll4ZcGAsg/CRKdMFICOEeAZqkOZOZ8yNJo1193SKTNRPkgq+xg2oxHhGVMO0oRiQ8SIXFEOZeb7X6eat9aY1MDvsecBLgKBsTjz9LMcMYdc/e3RB2v3q/fdtW0BRJdn4XnJb8ZIQiyRO4YRY6zPyn4lnboPjH428QzOiOu+cJunboxvOCli/wMOk98PzF4z2NRDtELJ8FMP3e+cEog3bYNOmk4+vH4hv0tEdDHMRG+J9KkOQVxxHHEWVD5ED5GhEh/2I0/0Ooz86jl52gTRDzpeDDTnoYNcB4P+yZsvu3STXucL6/3n2hZEdJETGJGLnnWf4INzcuihR9eVwQ6jO0SH0s6lHTAio6lKWoYo+6/+MnMtyqj7/S0RW+zxB6+94HSW6NNW2+xWu84RRxxba0fbbr+HYFf98wv9XgDRJfpGe/dHxpABwRnSeJTYhnKhX0L3cALDY/zGDjKyRh/qH6cPBXvSCXU/ozkEhbCp1IezQhDh4gsurNld7G+lsCyI6OaRJXKHt2D3NGKvWBDUAdewPejxcIsu/+JPM8l1V17l8IzO5paZ6P584hndMBeKisKQf3faKafXlCYEi9+QXSY5bbrFTg4wFJXzQiO94Sbby9wLrVTrcLfedrea4dR6iWKgzBgR3UeHAIFVost+huKIWmgZtpwD+dX8RDrgP046Zy1SSRmiwhhzyLN/bte/F0R0GWIEh//5/bQuss5kw2Z4Igsm/hGp12HpNPm0WzeeLORs5PNJxIMIBVF/IkwQcfJzGUXgO2kORDcgdRwnVxcnB0Oe1ZGk3WvH9pWI6PJMkJLlV9lQ/vNXUzpdQg9xFPR5kSFDphhh3afbdTbY2kXtkK3ua7QN24RGQMAKYkZ+MCkRRKGIYi21wrrOgYLsEuklNxxy1GjIttH1O36sIKJLPjV20Ldx4bMx8Qvb5QcYKEMElYBBVjSQdARsJc6/XycjaDiuWfoM+QYj/rQ9EMHFVuI84dSQPkF+IFEpSDgpbuTPE93iGA40uaD+dXv2vQCii8zUhulzom84MfRjui/cQljppzTFJzxOAIbRSfTJP0bQAF2m79P9OLH/9eupnJ0EY+yBOjV+G6kUlgUR3byyJGWB9u6PYIMHqWBwF43QKkZZW3BCxzVqn1au0ja3zEQXoMi7IqUATwMvnmF+IrFhVA2DiFfDsDJDNetuuI1TQAw5xIWZ2D54HKfzgxiznyF1Oj9/yIXG8ucp5qkN11EuL9Elwsy56iGxxAqRZjwwvQ86ClIYIHu6ryfbgogukTVSRjbZfEdHiP7Pr6dyGPhOQ9rzQ0iIotPBpR1nXzt1YxxIH1llzU3r8hEhQ5BwUky4X0YCMBhEKBgiJE2FEQKGcRmqpzNnCDDr3rq2v2REF7KEQ0o0jigQqUQYYjphZAARYRIRIxihTEgxIMcsNNhhOf2d1iboWIkkYSMWX3ZtF0nk2ug5pIqRAXKCsRG0JRyVrCiyXqdn24KILo4dkUCir6ecdJqbaBumkGin6c+XQC5Ei4gaaXpIKCvqI6Ib6i3kicgfx8NzsMdE4cn39jtdHFmIM9fDvtMxs4+0F0beuBdIHfdCO8CZopyOzITX6ervAohu2vMQZMG+0QemHUc2pJ/gZPojLH5ZbBxEN5wATn+LvHFmtTzOBTrl10UAAHtPsAkbTdlKYVkQ0c0rS4IvBFvUxioWYA9uGmjT/WlbRlzgSDggacd1X6VtbpmJLp5maFwJ6bPygk48QHmIxkKEUDqGsQAN5QUgFG27HfZ04X3N38PbpMPzZ+0Scf3NiFmdMUURMQ50kP6Me+rLS3TpQIgUqjcNWcJIQ9IxMFyD6CbeWBjx0IbVtW0BRBdFJJ8ZZdH0AQglONAh0TmlPS8RQbDFyUk7zr526ybKgDOi+cBZ9bOf+2bSBu0CHDXdgmchiki7a3R+V46ViOjSIbKihg5j0xEiXyLxkEnkBNElApg2goGOItfQgU2TW542oefRxuh80TnsBOkVGn1n8gXkWjtgPaeQbUFEl7aP00bbxh6ho6QX7bvfoTU5XXnpZc5JD6O+yA1CmhahR4ZM5ITQ+naW/WCCDSftTGWNDmNbcTDJzfVJrpYJt7QVSDo5p9hv7L7mHeKQYls0jSY8t6u/S0B0aeM4feAaPisjieTN48ijm41GNXA80WvmSajeUB+yJzBEfje/cVCYvwB+9G3+NYm8E+Tx83n941pfKbEsgOi2IksCduiv5ueqXAm8QHTDURg9zhYupYGBSy64qA5fvxzfK29zq0Z0dbifpYzoPElrIEfFJ8QMnyrRBSQUmbwgyjGxCA+ISKuvuHxnwhrEhzJ0gExgCRtQu0SX+yDijPGlfrbcYxjtCBtYV34XQHR5dp7bH8pWmaCQacOYkN/5Fl3FkcjQY/Xl0k7dGAKGQunE/brSvkPQmOyCYWB4kCg8nauWJerL2sD6u2fbEhFdyCsThsL8aqJz6BRyY7SECJOfa6myQn4MVesIi+4Pt3nbBOeh03TQ5Azym2FWhra1TjCEHJViElNBRFdl4W9J50EnddiTUSh++22e8jjoOC5ZI1I4O+BKdJ8OFz1CzyFOOED+WrjYWeZVEKnFaaRe8kKpw783/zuReUgx9p16uY5GL9nym3XX/XN68r0ERBeiz8hGWkQPwklfxzJ8jMBAeBlxzJINK9VAVCmP/tEeiDgyIseIjZ5H+h767Y+KcozziexzT1o23JYWywKILrLJK0tGqomWa7tXudLuCbQ1WmUGDgSmOD0EGbC/aaOrUdjcqhFd8q5IacAgqrdJvq0CzDYkuuToEXULPU3/HJQQUtUsktAu0eXaeF94t/51C/leANElisPM+tDDpLOEAGuEVOVBp8iMbRRZccMp0IiNlmPbat2QXDpbnbgEIYLEhk6NXoPRA0gSnS5DpEThWUuZ4xBwhsn9GeF6Xte3JSK6LCeUliuGwSVdQXEjqko5vzMk2kpkEJ1uJLNW2gT1YOSJOqlOM6wNVkqeNM+aXMZG1+3JsRIRXVLFmB+hkVg6USZoMqrhywLii+5mrYZCWXAmYEAeMDmd5B5CfkkD8tuAXy/fSZeADBNpCo/xG5vA6JimP0DouBfNy2XiMsEE9Drt/K7uKwHRZRIaI2XNRkhwLHEGkZ2uzBDKhoASRJQRTggRw+VE/+mH/YmGODyMivpBJ+rCuWTpOD+lwb9GqbEsiOjmlSU6iBNKH+jLlGACxLVRgMgvTz+sI+HgrceisblVIrrM3gY8vEa8DBQE5Ztv0VXcZCHAIT1BAVOwiP4SvYPwMpxGUjV5aP6Qjea0kH/J8CuEjIgDQGs9bNsluhAkyBX5oHjP1E/jpDNWIudfp6vfCyC6DHOCG5F1HSom+rfDjnu56LkfVaNzItJA2odG3TU6h8GFuDBMpmkheevGqBM1wlv2I+lcm3YUYg0GkCCWO6PjVUzwgmlj5DTxsgueS4mclunJtkREF/2hkyNSpFFZZMJEIfLfdR/D3zg8GgUEV/IsGfLU/Fw6RKLkDKvqec3aRJq8IVj+jHNyQ4nGQ7ZYholISBaRSquvq/tKRHSxTaQc6PwCnpuIvU8kIakEFJClyoXIHXqUFhXSMugdGKBDui9tS9uhnYSz/bUsS4rRtjTtCycVm0HOKROnuA8InDo1el5PtgUTXWwWI1A+No2emyADkwMhrWm6F56LTLGh9MU+ecVhhVyj7yp3+jjmMDSKrJcay4KIbl5ZgjUjaUTYNVDDCCcj0kp+82AKxugzzqjyoqhsbhmJLtEh1qL9l59O6oZMMLAMf+KhM6zlExJAJdpAWgK5eHgy6224rTOSGiFiqIVO+N9/MXndouhEDDTXl06WXBeGY/zF0zmHFAMaFIaDe2FWOREJOmmG+ViWg+VyeAUlCs4wLeSIcv5i+Jyvz+Vfg/ufEJYXg9TTEdGBIT/IIr91bU6UjRUMWJWBMnSI+ofcddUKIrHkEfqdZbO6cSYgPeBLW9F62dK2SGfxjbYad3L8cKSUhLFfIxwYdBwj0mm0fE+3JSK6PDfOAMPFYAW+yJYoILrjywUiwjGiQ/wRmfPJEUaeeng5DM5Qnjbh1893nB/sQTiCQKSPyC45wf7QeXh+z3+XiOiyZBT4+BE+OlHkxrwJCCY2i1EMP2JEPihD1Fm2DNvIqBaTmLQzzZIzuDVamQH8wtxgdBRHixV3yL9WspV1ja7tL5joYh/BQeekNHtOnHVsIM5FqHtp5xIwonyYs01ZHBn0lvZDAID+DyKtAYu0+kqNZUFEtxVZ0vehU2p3GcW68ZprajY3D6ZE/jUQB1bR2dwyEt00ZWi0D2AAUztUOkeG29hP5AHFU0Kr9XAcg0h+EucS/cFL9Q03xAeDSX5SmJ+m9eTd4h3hLekwKudBmMiDo1NPy1vMW3fL5QqI6Pr3CD5EYtKIpV+u0Xc6yjTj2Ym6G123VMdKRnRVNoxe4IxqNFb3+1vaPhM0VWf9Y3wHx8KISp6XdXS6TEmILqNdOIJZKVbYRxy7NGzBNAtPjSrRCYfLYIXYM3KHrcT59B3MsFxpfxdIdMGAfqxRqoDKDfuJc8rQt5961Uj3IEDkT/sjXFqfv8Ux0j7Y31+57wUSXZVVXllCVuEyep6/bYQpuomzEaai+OdX/nsMRLcRCBBUkrL9qKGWR1mJKEE+8Tw130uPs2VYmyHO4c7eZSiWVSHSOghynno6a79gouvL175/lGqYcsmlpEQ31713mihWvb6CiC5OCTaStAPejoatI2IHYeoEjtg7Vlcgws9IW9roB3m1TFpkdITULogX90J6Wifuoed1FEh0iaYjPyLbac9Nn8cKNoxEkjdNhJ583mbpc9TLihykROiQeFr90e0rAdHttEwJ/jE/AZ2DlxAJxgH1lz7t9DULry92okveEYofeqAQWCamkB9IdJAIAjldPhElekG6gb4wYDhgUQ9D9f4QLfUxzMQQT7gawXCu1fRcI7qpnUBTuZWNTBnRjQNH2lVBRJeoGw4+uevkWXc6io49ZVJbWqBB9Y3RHdLMWCeXVVCyolJavvTbAokusmSd6qyoOUtr0ueBOekh/ghmI7mSIsgkxWaEuFEdlTwWIdElukv6GO2EV7EzmTRtdLSSeGX10bETXQwtkQJylkjaJmJA7h5J86QlaOSCCWhEdUkjYK1NJjvxnQkxnRg+I5LBZAlym8hL5TvRZBL6e0pyaQhGdOMgSEZ048CxQKIbVWeW1cn1en+BRNfwHMYIWVo7iZDoTpBtJHaiq6CSh8JEFDxalhJL82AgvSTkEwUmdzavt6vXyLMlgkISPxMFdPWBPOd1tIwR3TgIkhHdOHA0ohsPjmBpRDcePI3oxoHlhEJ0O0oU0zy/Ku0zohuH8hrRjQNHI7rx4GhENy4sjejGgacR3Q4PdVSB8BrRjUN5jejGgaMR3XhwNKIbF5ZGdOPA04iuEV2Ldle0DRjRjcMIG9GNB0cjunFhaUQ3DjyN6FaU5GBQ2/2ziG77smtX5t04z4huHDjSNgpadaFtG9KN9hxLnZajG49eGtGNA0sjusMgjFU1zEZ041BeI7px4GhENx4cwdKIbjx4GtGNA0sjukZ0LapT0TZgRDcOI2xENx4cjejGhaUR3TjwbIno/jBa5Ptv7K/qMiCi+/23hmPVcRwzWmTcOMOx6jhy/2N/EBk7xrCMActxY5OobgzPMqE/A0T3B+srK8/7fvgO1pP6+dGQvd9+JjKKV0PaX3Vl8EEC66gPDceqt+NvPk0IUtWfw+5fZPQoke+/Np2MoS3ggH77uWEZA5YuosuIn3GeSsvg60+G0FndMZTofvaayPtP2F+lZfBkgu8HTxuOlcbxCZFPX02iDVV/Drt/kVEfiGCMTRbVlwFOy+cjq/8c1hZFILofPWtYVr0tfPKS8tohWyO6VQc39f6N6EZDJozoxtMBGdGNB0sjuvFgaUQ3DiyN6E5oEWojukZ0J7Q2X4HnNaIbR4dKcMGIbjxYGtGNA0sjuhXoBFMjs+3etxFdI7rtth07r2ttx4huHB2qEd14cARLI7px4GlEd0LrvI3odo2sdNQhydEuLXUhDiNMuzGiGw+WFtGNB0sjunFgaUQ3B6HoNYHp6vWM6BrRndDafAWe14huHB0qttuIbjxYGtGNA0sjuhXoBDtKfI3oGtGd0Np8BZ7XiG4cHaoR3XhwBEsjunHgaUS3Ap2gEd04lK2jONryYtE4LLQLI7rx6LhFdOPB0ohuHFga0TWiGxVh6DSZLHN9lqMbhxE2ohsPjmBpRDcePI3oxoFl1YnuZWedKLPPs6RM1D+rnHbM4U1BGfvOY7LPbrvK5NPPL/MssIx88txdTc+JiwhOGKkLY95+VO699gJ5+o4r48XXiG482FpENx4sS0J0Jwgb2O1AREmI7hcv3SvXXXCafPzsnfHoSbex8+svG9F95cHrZcWV1hIIbF6CCVmdbpaF5cgD98t9zslHHerI7gfP3J77nLz30265z164RyDi7Z6f77ziiO7oNx+WM447QpZYahWZf+HlZLXV1nVkNN9954+833b52c75WXnlteWpO65oS57vPHGrHH7AvrL3rrvKgzdc9P/buw8oXaoqX+CzfG9yMgfM2t0fCKIiKAZAEZEgIooICipKkiAgoIiIATEiiphRRFERI2IcR8yZeaOOo+NTB3VGn755jtlxHHXOW7/63Peerltfd3Xf7luBw1rNqa/qVNr/s/f573DqLroGo3PKiSenf/zY5Yv2r/V7LHu9HhDdLYXpsrLIjdrvtz/57jels04/vbIL3/37Dy7C6vMfuCw98fGnpF9+81OL9q/mPmtyTiG6y+IAqze+8sXpjNNOS2961YvTr67+9KJzXnrus9PrX/6iRfvWBJuGsbXkdXtAdNfCBi75jkvIxJx6+imnpvvu9eC0x/0enE476fGprn+DwbJjoktO5qHtd9qjsmV9DMwNAsu+Ed0XPeeZae72u6b77fOQ1pPQaojuK3pGdH/4lY+kffd7aPrnz75vnQ11N0T3d//6+YpYIJ8/+NKVye/LXvOSNL/9bunKt7+u8Z1FJJ5x5pPT2177ssbjdUPMSXjxc8+pxs87X/+KVufUr+H3lz/6znSnnfesjPWzn3bWJtd7x+tenva+/0HpZ1//xKrv0XTfFe/rmOiuFNM6MVnx+y4xuX7lY5dXuMU1X/nC56U73OW+6YLnPSsd8eij04533ytxXhz33Ecf+dh0zlOf0i1++fv0iOjWZRkyXW1L7p9536Ub5D/rOkv1+8U3Plk5xvsf8LAEW1m84445PrERrodI7br7/umz739z95h2SHRXYgPJDtacPs77LFxWsp9t333PA9ILn312+vW3Ppt+/vVPphOPe1zaZfcHbMieDgrLDomuwJf58t73PSBd/bnleQG5kvlK8Grb99tXfSCddPyJ6WufvGLR9QeDZZ+ILqE96MGHVh7MbbfbpVLANkCMgeiKPm1zp3uPluh+6/Pvr6Lun37vpRsUBeGgyDz+JpwZ4Bvd5i7peWc/rfF4/ZzXveyF6eaTu6cPvf3imf2lfkSE7rrLPskYW9h+t2q8iUzG9Y49+rhqUo1JVHRCFFofhuSghz4iXXj+8mUycb11azsmum0xNdnB8Ia33mlZp+Vz778sHXLIoypHQzmSCfJv37YYz5987ePpbrveP13r2lsv+nvJ859dYfj9L36oOv8Nrzi/+m3C2OkeeydZHFj80yeuqIiSdt2wyUlsm+2OiO5ysiSfNjrTJEfE9cCHHFY5GbI3olJ+f+8Li7Nobfq9+40XVhm4CAR8+B2vT5M73GtDVoU+0stcj5ueaYvs65DotrGBZECn7ny3vaqAkjlXcIlTP4so0aGHP/zwSm84Gfmf7Bxb7bqXXnhB2u0++y8KAiBpSgUjoDEoLDsiuoICjzjsMZXzxnlYatxefskrKzt5l3vuk261zT3SfvsfnGTGZ50DY+MEbrfbYfeq7PORjzhiSUf0OU9/arrJ3F034BzXHgyWfSK6vHGRMhPozrvsW0XzQqB5y/A+4eRTKuXZ+o73Trfc5h7pT294+w2lC4B860UvrSKkiNKf3ej2lWKaROM6IroMpagOjwlBcq3XvuS8ReUDyPfZTzkz3X7HPar+BoYSibpBfdfvB5tr3GbbXdLhjzpyUbqGx+yZRZmQK5HMpz/5jMqwvPfSV1fv8kfX37aaDESfjjnq2E3uEc++eW03Ed1vfua91XuTU/78j2mfP7AAACAASURBVDn86MbIGhL8uOMeV8m9PjHm58c20hJ4xr56iwCJml90wQsqubuHVOh1b7FDMh70Z2AYAJHkON+YgImouzGKfJmc43hnbcdEtw2mUqjGuygPOS9VkvT+N78m7bXvQ9JVf/OWSrYIssgr/c7LRMieHr3sBc9JH3nn66u/j15+yYaI0RevfHulX6KIgY1IIP3z+1lPPSsddcQxVWQ3jnfedkR0l5NlG51pkh3sOIfIERuqD7JkHHBkwn627Xfes85O97z3fhsI1Dc+/Z5K35EnmRXzhkxL07Ns8X0dEd02NpAslHNx8pWRhWw+ccUbK8LD1sW+vKXrAjHOCZ3TXvKKF1VBA3O2/he/9LzKZuclgey3+Tyi7YPCsiOia466xdZ3T3lgKMcjtpFcQZuvfvxdlfx/9NWPpQMe9PC0594HVtH06BetOe9Jp56Wjn/s8RvqfUVpOaEcHmUI0TdaNoC9FQCql1YOBss+Ed2nnXFGBQIBq42kHIALgWuRXHU/Rz7mmA3HGD2TadTo8mbUUFqMxMhKa1l4FlE510Fs/uImd9gQzRO9c/71b7ljRZL1YYwRsQce8LANg4InLNKkHiyeC1liBBgL+wwMBt15MXC8j0k8UkSIuN8Mvfu4hoH9Dx95Z9UnJoe4x9q13RBd7yh6y+P8wGUXVXL6uw++tVJI+NXfj+LqqxShfqzpN2IqKqE/uSOjUtZIT/SnpCH/2Ef+JlBeMCOgj/OR7Ohz7jOfUeEJk5NPOCmd+YQnbjgWfTppOya6bTDldNItqS+T61JEl66EvoQ8kVUEOZ+ULTDkeMTkGn2jpf8cScTZPs4LfRRVlv2R4mYbon8v2o6I7nKybKMzTfKj4+ykTFV+XFRdZD8igG37veaCc9Md77rnBjuMrAkqcIpcA771uSK/7xbd7ojotrGB5CAFfffd7p9E80Mu9NT8KOjTNPcIEpExZz/O0bK37Czb6TeyLdAjoEDn7Tv/uedU8zV74fegsOyA6HLczF+IpyAbuat3toies0iG/ox3c9dzn7E448kBuen8zjMzm+bAOmF1H+fUSxPcR6mQYEM+l8YzDAbLvhBdwgcmkAjRAiDEL9IdIVgRWB5MrnBtSheiJhcJda34nXueJlnkk8LrY6IU6c29KgotGmTxmz6INwNsoMQzanla17vlnTekXUV4LbKLdLgBK5Ibv99+8curwRSpufxaa7vdDdH1DmT94AMPTX9yg+0q5d3n/gfNXCyGTEqtke9y72/sMNwm1meedWZlbJFnBtgYWmpBGmMh5SPtGfcR1eC4IOJIk+OUHTYMC3LAeTrh2BOqYyJU6nrj/C3Wdkx0vWdbTNsQ3Sa5idRe5+Y7pChD0Od9b35NlXJtmpAdN6HChL7BVy24jIx6RA7lAx54SEWokV2RXmUQxls+8Tc9y7ru64joLifLpndu0pl6P+SGY/Od35OdOC4YwHEJPNv2MwFLfytPQQTU58LXtrSrmlC4O86REQyRRg8CFvffIm0HRLetDSQj86xIe10WgjHmuyYHkrNYrxMle5FDc11+LToru2b+E2l/7FHHLnJCBoVlB0SXjrB5ykMsujTXsFXmQ9xEcIa8gyMFZwoMZGkE/uhE7FuuffJpT6gCS3WM6Tr7KHDYpEuDwbIvRBehlTIOjwWYDBbvM0CKfXm0zbFZRBcwiApC6RzKZ9A4p4no2i+sz6Daluo0QdZrZEyWSiL08dw3uNWO1T38jj/GAsmyYtI+KZ5r3+xOVcqgicxeE4iuqAAvVc2rxV5/fdM7JVF8RjTkpqVsiGabz8Xpj0Td+nb3rFLS+XVgvd2d77NoDOXHbTPKovhSbnFMdMMELGrIqRKFss9CycMOfUzlZDHwxgeiZ8zo14aUxz3WpO0B0W2L6WqJLgIqQkSPQ2aiu8gNRxRO6s3q5S1w4ZDCX3RJZNE4Q3KRLJFiZUjS3a7N1syqFY/7rmvbEdFtI8v6ezfpTL0P+8rxzHHT50sffkdlOx33u20/fU32SJo0q9SroIUoE0Igtc7JlbmTDVIihWgrnak/27r/7oDotrWBInkCDBy8OnGhSze+7V02pMGXk5O5T9Y1nx9dH6acEHO3uRHp4lDl1xsMlh0QXQ6arEdeakl2HApzVWRELdIWha1/QlMQ0NwVpVq53Ju2cS44HnzwIzep0Ua04SdI0HSufYPAsi9E9/GPO6kqE1CLF38UBdE0aRGoyUy6qr5auk50RUktTlBXAnAeJYIFsOWIroJ8aU/3e9Qjj6wGAG85B/k9b7qwUmD7EFSe68evWJwKpfwmWalu/RgAZBeB+/Mbb58OPfTRizzksRNdk48FQbFQTGSBx8lzRTDyVIoaSl5kOD3wnRW9I1tKyEDXyxyMAyQnIvQ5hrY5TkoW9BGdqB/Pf/NspZAYbASLMxQOi0kWaQoDlJ+3rtsdE92VYLoaoisSj+QqHcnlyOHgaIhAyaQw0kgVg5v3q287jtBySKwEV0oTk73PUomYGGv187bI746I7kpl2VZnLBYTDKh//QQGyI/SLXJt228WBhwh8wR7y9azsfqyJ8hW2N9Z56/L/g6I7kpsoEADe1V3Ds86/fSq/KvN+gN6w5HMA1FkKZXNTobTb+6WXTFH1sluXfa9xLIDohvlPcoYcxmxt1vN7bwhAIQzWCBWJ8TBhwRg8vNnbZuHBYpibUT0MyfCUrTXPvMp5zKy0NGvqe0dln0gumGkCFXEJf5MZtJcACVM/RDfuqcSwEaNLk/HeRarxEQmitMmoisdbeJ0P/dBaKLcIQBVZ8jj8ptXy8tCfuO4lrEQUcgXNdkvMuh9TKqimpHaGzvR5UCI2NdrMNVNUrJImXBElILE9zAjdbJUbScZkjVDnWMAe4X5am7z/bYpK2VUihD3rvfJf4v8+eSd9LaxBDvjUR+t30s9Y36tNdvumOi2xdT7rpTomiDZA0SlHvGvyy8iEtKks/oaCxa2RYmR1f90Pa5lEqbrbSb5OGdN246Ibv0dlpLlSnSGI8uZpxdSq/Sa3nB2Obfxbeq2/erP6bdrqmVUWkaHBUFyMiXq6xmazl3XfR0Q3ZXYQFF2c6FyOtvSz+o/kSbR8eWcfrLj3AvkmP9CloIRIup1x5RzpJSE4xF9621vseyA6Cq1agqekTmHPhYMCq4hvvmYJ1djQVCvTUZUxkPwLThWjos5D8axhoYem5uDs+R98+1eYtkHoiskz2DldbcER3FMdj6zwUNnFEXn/OUTWp3o8mSAF5Fg12pDdN1fPWZ4MMgWQltfUIFQiR64rsGHqDEUOdgGoUFpcCC3asf0jT6K9g1Gn+ewb+xE9ylPfGIl24jShhyQQ4vIIjpqFacFEVEv2Yboki8yK62ZE2kOiqi+T6PE/bT6wwsxopT2idrHquC8b/RXwxvpVsbdRBF1uTxvEZK8lrt+jXX53THRbYupd18J0YUJHadnsHK+CTnGSJMs1ZDBpB6lir70TZYgUnCcWJF8NkWfqO1sM8nHNde07QnR9U5NslypzrgOnZKd8bkpNfQi8IgnMpVnydr2q8tb1o7DAsOw3bFI2PwA33qgoX6NdfndAdFdqQ2kBxZ0m++sS/G9aXNmfR6bJR/ZM+Va7HP0gaN9Pt8Y+6I1h8Mqftfb3mLZAdEVucUdzIW5nJRgKoeMhZwCLIingE3eD/FlC/Mv1eTHYxvJ5XjGol3BAHMYxwT3UuLiy1DRvy3R7SWWXRNdwvVlA/9KUQg0b60olL4Mkqh+ReqLV+NcfQErdR0RXQuH/A7iYkCo6auXLhgMEcFhKBhiihoei/QLQqsuM1LnBpnID+Icz3nqSdNJ1gC1j/JbdPXow4+qjLBzebTxHU99pAmQsFjJ6J/3U28jXeu9kPQ2KYJ4hvZtN4vRkMPAKN4LcRFR9dkS+5AUhjdPdzYRXfIUrVHyENeitIwAb5gsOEYmOYYgX1wB02OOOrYy6BQ65CYLYH/8zlvjyHPGuHCeUhjRYveTgRAtDNKUn7uu2x0T3TaYxvs3EV2TLWcjX8zC0JKtfaHfWvJd6vNRJlfORj37EvdHuPLV4WpFRQDpvDpVuvjmV0/HTpyzRdseEd26LNvojDppegDnWXLjrJA5UjWrj/1t+nFIELT8H5NxXbbZ3OAdZOaWco6WeobNOtYB0fW8bW1g07vBT1aMXjjeZGPjPLIXmKI7sS9achf4yZ1+emtfbtejv7bXWHZAdNk7jrgF7zF+6aBAjnKRcP7JTlYtD7pwNnCPHJu6nTVnynZbkEjXAgtciA4LNLC/9Cf4kT5tiG5vseyS6BKKyecvt7pDFdWrp57Vjpi8/vB6t6tS/RaQAEldGVIorC76p+YIQQKMSKqoIXKqRgxBUXiPMPvtfkBTT4n4UkB1e67lo+b1NDZCSqnnt9+tIsFKDuqred0PSeKFiVx4ZgM1opKe2f0NSIZYRAOBzsmyAe0ZlFx4LuQvzo+BuDZtN0TXs5uUpDLJgQxMerxR4yAw8f6OO+bPtu8g+8bwH99g20rRKb3rqK/NI7ii4lGXrVX6Eobb9UPGUqdx/WiNjfpnWkLe6sfr9U4w51ip/xb53+Ik18LHjoluG0wZUjpBf2AY36u2WEgkwQLNID706q+2uuOGPoGNMcCJqdeQBT4cD5kfNfV5rXccl/Gh4wx17NOKxNNT+EYqPT++Rbd7QnTrsmyrM2o12b9c33L50Q+pcjq5lF1r2y8+KZZniGCPVLGdFqbNiu7nz7Uu2x0RXe+ynA1sel8Ym7PyzNcsG+t8egvr/DvVcV3jR6bHpyHNleY5fzJ34bhG32h7jWUHRJdcOBoyy5wPcyUbqIwrz4ToR95smM9/4ToCOwI8ecY7t7NIMg7k3x1gk8PGanEhATn3toZBSWZ+HKa4mHmYnQ788ra3WHZJdHMBrXQbYDyPANQAqJc+MKgU1rUZQdGeOiFxvuvU99efh0F1/ixl1R/p4gHlHlf9Op7JxFvf77dnEH1e6h5N561sX3dEN54TTmQe0djY39Q2RXT1I+tZmJHvUpNp030Gua8HRDfkthJM4xwtnDZnvBtDSI20a5SS5NcfzHYPiO7myJJ9DYe1LvOIDiodqQcS8r5t++Xn9HK7Q6Ib8mhrA9XnwsVXier2tMnGwlkkcNb3duP++nE06nNyHB9M2xHRDfnQSdndpTiFvngMec+aUzfXzrpHm4huPHfv2qES3d4JMvu0WL+frXuiuxL5zCK6K7nGaPv2iOhuSRkrEZJaUycoAiFKWF+hvCWfZ03u1RHRXU9ZmnR9XUFEShnXrAhr235rIuctYad7QHSXk5XAjfpLn2qjR3WSO+t8EXsLoKJMcFa/0ezvmOj2SY6F6G4J41Hu0RgFXrkiDIvoiiooKVjqH31YuQw2fu940OdeQ4muEgZlTWoxBx3FzW1aR0R3PWWJwKrLjLULs3Stbb9Z5/du/wCIruykcoK89KONHK1TsEhqqch8m+sMpk8huht4hzI02TPBp8HgFza2RHRHQnoC0GXbYRHdwSnUsvJfw/F2DSW6oxwTHRHdUcpyS+pg070GQHQL7i3tcCG6wyO1TTpZiG7LAd8kvEHuK0R3NEa+EN1xGGF2pBDd8WBZiO54sCxEdxxYFqJbiO5oiN8gHY/NGH+F6I7DCBeiOx4cYVmI7njwLER3HFgWorsZRGOQxKpEdEdD7AvRHYcRLkR3PDgWojsuLAvRHQeehegWojsa4jdIx2Mzxl8huuMwwoXojgfHQnTHhWUhuuPAsxDdzSAagyRWJaI7GmJfiO44jHAhuuPBsRDdcWFZiO448CxEtxDd0RC/QToemzH+CtEdhxEuRHc8OBaiOy4sC9EdB56F6G4G0RgksSoR3dEQ+0J0x2GEC9EdD46F6I4Ly0J0x4Hniojuz3+Q0o+uLn+DlsG3UvXfj79dcBw0jlen9PPvp/SbXxcch46j5/+PH6f0nz8tWI4By//6j5R+8W8FyzFgiej+5F8KlkPH8qffm/Kehv//wSb7fvq1lP7fZ8rfkGXww89OYf33qwqOQ8bRs//0qyn95pcFx6Hj6Pl/+a8p/eoHBcsxYPlfP0npZ98oWI4BS0T3R/+rYDl0LH/85U3obOzYlOhedXRK75krf0OWwfu2neL7NzsWHIeMo2f/3OEp/ezrBceh4+j5v/6SlL5zacFyDFgKJnzhlILlGLBEdK/ctWA5dCw/eWDw2k3aQnSHDm7T8xeiOx6jVYjueLAsRHc8WBaiOx4sC9EdB5aF6F7DItSF6I5DcTkxheiOB8tCdMeDZSG648GyEN1xYFmIbiG6pRxloGOgEN1xGGFOSyG648GyEN3xYFmI7jiwLER3oCSnqSyhzb4S0R2H4paI7nhwLER3XFgWojsePAvRHQeWhegWolsiugMdAyWiOw4jXIjueHCEZSG648GzEN1xYFmI7kBJDoO6mr8S0V2d3FYj6/U+pxDd8WBZShfGg2UhuuPBshDdcWBZiO4qCeN6k5j1un4huuNQXOOjEN3xYFmI7niwLER3PFgWojsOLAvRLUR3VZHh9SLi5brtDUshuu1l1fdxVYjueLAsRHc8WBaiOw4sC9EtRLcQ3YGOgUJ0x2GEkfBCdMeDZSG648GyZ0T3G6+eS+85ez799oqBzlldBRz6QHT/851z6bSHLaQ977n470PPmU/ff8NcOmSvjfsPvt9C+t4lG0H+4kvn0hMevpD2uMdCutP2k3T3HSfpwXsspKcdvpC+9qq5akCc+ciN599jp0nadttJuv12k7TbXSfppIcupK+8YuP1uiB9v3jbXPWev9sSg7fj0gVYv/rU+XT/ey2k+9x9IT1s74X0sXO7lX8d80+eN5fOetRCesGx8+m7r1/8bJ8/fy498eEL6ZdvX7y/fo0t8rtjovt/LplLpx+6kO57j6n+0eG6vFYjh7UcI//yurn0/MfOp6cevpA+dd5izH582Vw65ZCF9I8d638lo4ESXbpy6D5T/PfZdSG98vHz6VfvWCzn1YyBweDWNHEXottIdAeJaU+I7rdeO5cese9CutuOk/SmM+bTb961+Tq2Gr2snzOYubIPRBdorzl1viKf17r21umPrzdJj7z/dAL6yVvm0jlHzqeb3XqSJltPqm0TlMnwaY+eT39+w0m67fwknX/CfLryufPpwlPm061uO0nXuvYkXXL6fEIeL3/6fLrXzvZtnXa4wyQh0PY9aI+Fqt8220zSN1/T3cA5+eCF5BlyAl8fUGv2u0OiCwsk8aH3W0g/eONchc1lZ86n+cmkwm4t3vHXl88ljsNqr2WivsPtJ+mCx82nI/ZfSDvecZIYaNfz/EcfsFCNwdVef03P65Dowm/3uy2kFx43n8j852+bSycetJB2ucsk/dubNpV/W1w2Z4z88NK59PFz56rnIecvv3yucn6R8WcfNZ/mFibpnU+b3zA23vHU+bT3rgvpZ2/d9HnXFKcmMlTf13Oiy0Z/4gVzi7D9wLPm0053miSTHXn97wvnqon4jMMWKl1pK8NB41bH0e+BEd2VOibsK32ehS8dNj/nxwelizmmPSC6giuCcwJ6bbB699nzFTdik3MMZm23uWaT/g9qruwD0Q0APvuiuXTjW0xJ6uMOWtgQnr/iGfPpNvMbDar+Lz5hPv3R9SbppreapL+7YDGgSLJjb3/qxkntyY9AardOu951Uk3KrvFPr5qrzv/D607SpU/e2DeeZ0u0//eN08l4YbKRUK3rfTskurxSjsanX7gRL0YR8RUNjPd+7jHzSeS96Q/u0S9vOS8P3H3q8XKI/L3+9MV9P3f+NDsg8s9xQsr+9jkb+8geOPaGJ033/fub56qJ/OUnT38bL55Jm9+7s+0OiS59kRHJSeLVF00NMoczZNIGl+irbTtG9BWlpdP53167LGyYhI998DRjENEPhFcmwSRsoj5oz4XKMc7v39l2z4guUnudrabBgZAv24ywhIxk2p7xmI1Y20937rLDJCGv0a/ejgq3nBTFdsdEl916+N4LjfZTFg1xggki9Lxj5tMNbz5JbztrMY51zPwWHGIz4SuYtN+9FirnJu8rYCRLt/U2i+ezQeli4KjtmOhyHgXBnvLIjXwol3d9G6YCELJsuW2u9/N7KfyX0//BzZV9IrqEj+QgnozsR58/jSAgF+ceu1ERRT6BzwA/9kEbCVKAKdKAKOcpySai++2L5yoCLYIsuhPnS0u73+1uN6kI8/VuOqnSc/Wob5t+olvKIxBy73X9m02qgYjsKZkQUfqf15mkP7n+pIokiiCqwYlnWfO2Q6JLfgj9u56++P0es//GKCnie8B9FtJxBy6kjzxvfsMfwkSBmxwSCs1g//NFUwOO2MD7JrecJKUtZPj+c+YTEnTVizcaedHZW952smGc6Cu6/JmMiO+/+0LlSbvGs46aT0c9cGXRqjXHLzfCHRLdi58wzcAoX4h3pJc733mSOKz2tcElzo22zRiJvlJ5xk4+Tr76yum9RSlM6jkRe+0T5qsIPRLmGU3aEa2Pa3bW9ozovvUp85XT995nbtRBMotIHT2VEUNgbIfc2FFlZEtFk0aFW66Psd0x0aVD5kclYrluyHDedYdJ5Ux+8NnzlS1mU6+71SS95SmLbXLgGS2S69zQrx9dNrXTyg0Da9k6AQZ6JXvynYsHqouBo7ZDokvXOJP0SRY7sFiqxR1ucLNN59j6Ocvhv5z+D26u7BvRNTkiJEgsr+RJhy2kh+y5sCgdjSghp//jOptG7eqAxu8mokt5lT4g0pFuNUGaPJHS4w9cqCZCEQgR4jtnaew2/RSMS3+71tMfPZ8YB9HBP73BJL3uifNVZDDuxdh4V2Qqj5rE869Z2yHRpbiit6IBnBHvJBrPWCqy95vRVOuXR1rt/9LL5qrykzCey8mDgedUyAboyymp19UitORuQtCH94zoIsV+w9hEgEQbH7IBvaon7pDoimrLsuy720LiMJKX8qEjHziNmPrd9FfHpd6nzRhxDmyMG/Vq9Wv4TfdE+Dm8cZzzCk+pV+VCavfjWOdtz4iu+nTrIZaSi3Kza99kUjkTdIvtNjEjVLPOGx1uTeO8Y6Irc2Wc16PqsmHmI46JjIaAAN1V+rcU0TVv3XOnSRWEynGlywI4ghD2w1ZLJ9nRsNWD08Uc0w6JrmDYjW4xSWcfMQ2w4CmcS8GepsVobKfjslb1uS7HzfZy+C+n/4ObK/tGdIEg6rbVraYlDBSmnip+2UnzFRFGGPPoJ0NLueJPtCYAD6JLMQ/fb6FasGYQIVVAi4HwvnOm5Pfmt5lUi9nst8CGh4xYW9hiX5t+vDARLiT5VadMz0OYpFAjfa+8AmkXWZS2jedYt7ZDouudRAAtFhTBZozJ/+9fsvG9GWFyCKMZcnjmEfNVfWwePYpjTS2H4ha3mSy50FDGQOYgShXCg+ZYMe7qhy1aFHl/4xnz6QH3nhoQZFek18IAZEkdedMzrPu+DomudyM/ERwZD5kJ2RVyW+q92+Cy3BhxfTXCSidM6rPuJ4JLbzlTdFzKVV2ZyL+J+wsvner2CQ9ZqI4haevqZOYTaH27Z0SXk8/pniVb+02WMnB/dePpAl+BCXauaRKO64wOtzqOfndMdNlOZUQhc625kWMouJPvb0N0LeJkSxHb/FzzqwydOv18f53oOjYoXcwx7ZDoCrD92Q2m65WUErCL7KdSk7rMyZg9VpIXQaQck1nbs/BfTv8HN1f2kegyoKIxoroibh+uKZgIm2MIYq64zzl6ut8xf4hpRHyC6IomWlHvqwzu4RrIL1JjMEi/ONekGJM2UO/3+ygzj6ltPwZfvbDr/cWNJpU3LTKZD7prGtFFTMgQ2VcP+9c3mVSF83Vim8tIZEI6LHdq8uP1bYtjFO8zrvVj+W8kVVQyd3QYE+UJ2207jVa6lmdDchFiUWAlLVK0zhPlzeuL8+uv+3aHRNfYfsXJ81W2RWmOdJlJjwM4673b4tJmjPiiCkeJUfccLz1xfpNafXZElFk5kLSrScK+Fx0/nw7bdxrxMvlb5AF3GRX91M3Peod1298jogvbA+87rV/m4JlU6V4EDUIGnHYT4jEPmgYOBB7oSUT4o1/ejg63nBTFdsdEN5d3bKubF3ThaMQ+7Syik/dRv2uO5Bjm+9llukV/8v1NRHdQuhg4ajskuhxv80u+uFqgh75ZMB1ZaLIXnVcSJIi01Fya42S7Cf+2+j+oubKPRBehMOEEuRQ5y0G1yMhXFfypFczB42U6F7mkgBEBDKKbL0YDqFSOviLHrmOw+J33s1/dqP3qZVbSj2dtMkW6nY9Yqw2NKOA1ieiq77JKO1JdHAiTqKgqsgiPHMvYtlLeGFiOgIiSB0l985nTL27ENeqtKDKSm9d+1/vEbxFc48H9fVlA+UWMK2NRSUs+PuO8dW87JLrS1ohmYMLoMcyiu3WyuxJc2o4RWR9fUkGyRRUtgJFGVyIU2DTJn/PquT2jEhUOUdR2q23kxKwkItJ0j1Xt6xHRVT6kbIEz4GsVdFOkiD0OvE2mZM5ZDL2lJ+TH/hoPTXIYHW45KYrtnhFd+sAu0pU6Jk1Ep97HHGW9Qz17wuZZXMxBzM9pIrr58djurS4Gjh0SXcRVlkyWhJMQMtPKSsGD0xj71c+ri46oO3LcZk5qwr+N/sd9621v58q+EV21mttvN42wKnhmYJFEyhQTGJIigoQ45jV4hA4k0T/H8hq8JqKr/0tOnEaBkS2/La5wLkJm9ap9BppBZz+PaSX99DVo1Yre+27ThWcIuvs4dk0iuiZNC4TqkSER+lvPTTZJt4XsTLptoqZk7LNgPkcn0qC8gCK7Tv5nEkZ21Gku5/0acxwTdVKuIdIl1R3XQ5iQpU4WNXVEdBlRJLPuJNA9jqDSj5CPti0u+q5mjMS96LiSp1iAGPvzViQeYeNocqhlFSLKpfV7qXrF/Fprut0jotv0+WRHHwAACLdJREFUXrJqsmsi5I5//vxp2UpedhT7YRDlQE3Xqu8bNG4121K9W8+ILgdOhir/Gkpg0ER04li0PtkH07oDq0RQFifK8qJ/W6LbW13MMe0wouvLGaLw9YVo1vfgRXAlc44mR0b/IMU+8ef71oHJrLYN/s6t63/T9Xo9V/aJ6IrwAUdqOwiIOjFfJUBErRQkYP2QH8QTyci/P7tSomtAuI6B49oixBaP5TW6ohgmQM+BGLftZzJVChHlEwgvwuZ+/mEL1wmi6371uirH1/yvwxpdn0hREhIORLwbYsEbjcha7Ncq9VAHqv4o37/cNiNsbDxqv40RJ+eot1asr3wljIIShKZ7668+XDQ5/lERWQILsIxBx40H0V41cMs905of74joMryidnSn/k4yIpyB+v74PQuXOL6aMRLnWsAoopx/KzeOaeHtk2JKHfw28RtbUZf7Dy+fRiSjfj4/d923e050RYdkLmTAyELkhs2KCFLIB75kutSCtOgb7aBxa7LRPSO6FqHR1yjFC7lr2xAdDuAdt58sChw5F/GFdf51I/vbEN1e62KOaYdElwPhk371khGBFkGzKGngbJrr8n8QZ62Jbl3/8zEU272eK/tCdJHACMkzoiE8JFN0DjnUMqSOISfqVER7kZlIqYnmxKfHIqLL4/EvILlGlCTwPqQoLQJzDSlp13UdxAbZFWlAuNX2qT9DTiP606afvhYzuR4y7h2jBjgmDLVvCs59/SG+urBSUheyatV2SHQRC4prRSdZeN5YGCTCHfvy9/B5KHJv8mqXqwcUfXdulIkgMJwodd2RHQgvVHQhv29sc7RipbJ9iLdvRFoo4GsNxqAyiei/RduOiK53ZEhF4XNSSIb2zSKaIZscl/jEXtTar2aMxHWRLgtM40sbsT9a6T2L0MKGcIqNB2VJavSNJ9H7cGLivC3S9pzock45qeoDycPEJ9pknUOkSGVqTj1kYdHXaUSfltPTQeOWk6LY7hHR5YDLcLJXTeO4iejWddJ5Mi25U8ge0+Om67Yhur3WxcBR2yHRxTE4KObGsEm4Uf6VDNzGImCf48znzyai26SLTfg3jZO6/jf16fVc2Qei6+PDUiuIqD/E86LTpp90UgMU+7UIYXz+SXSOd2Ny82UDC76QRuQGyUVKDJAoO5heZ7oAynXcR20ugMI7AqDyCZOfLwOoqf3LG02q2t2YIAPk5fqZSA040cp4Ps9ogVrUsCHA01KLaR+TR7xf3GdN2w6JrvewsEF0nNH0uRSkEVZNEdFIJUfZQC4H9Wai8PXFfdFH9EL5icg/MuuTLFaHi0K5Z/x5DiuK4/u6cb7WBM4xqketRP5Edh9/8Kb/rGx+/rpvd0h0jW3RV4s7Rfo4of5E58OJaHr/Oi7GutpaJSfRfyVjJM7RWowK11lfL4FXvZ6QAed4mSzUW8eEkl93i2z3nOgqVaBvuVMngsNO0im6LKrkd3xrldyW09PB45aTotjuEdGlX3DLvw1O5gJF5knzn7kp7KJPdzbpJH1n8wSGOIsivIIQkXl1TVF8+ud+5k3XVuLkWP2v17qYP2+HRDdw8g9zkCtuIHBGzmFjkWHzKVxiTtMq7ZSBhoNzXCvXxaXwr2Pld5P+5/16P1f2gejmAlvtNkEjzLEwIr8OQqxwO/6ArEwgIn1533ybcqu9XG7ya9MPkYuobn4P257ZseWep37eqn53THTjma3YhUvuhcaxaNX5qQ2jZLEvWjJrIseOc1oYUiuF458njfNG1XZIdEOOMXbr3+yM43k7CxfjPgx33r/NGIn+siAmVlmh2DeotsdEl8Pp2+acxjwgEPIVyRUEaDq2lJ46f/C45aQotntCdMle3Wae5g7Mlmtn6SRiO2seW+6agzzeMdENmeEY9LDJTkafvG2K6C6ni/n5+fZy+p/37e32WIhubwUcxq8vbU+I7nJ4mTxj1Wl98Vr9XGk0tbIWtfnckSitchGLKOp9R/W7B0R3KXmuJy5IsBpB6Tj/6IoSEp/CYsyXeqbeHusR0eV80h3/OpLUNNkq/aqXD61GlqPDrcmu94ToynYJFMhYrAarck63pQubI/8motv2euup/22fYc37FaI70ImxycC22TcgomthYJtPPSHCaizPO26+WkxocURbz3fNFaoNBmvVp+dEdz1xEWWwqMw/HqOud7msS+9x7hHRtVDIIlnfG0Z2pUfXSn6jw61Jl3tCdEXZ2cQtssi5SQ5j2NeTiO5K9c86CeWfKz1P//XU/9U8z5qcU4ju2hnxNQFkvY3DQIjuIGS53lgtd/2eE92C4QpsS4+IbsFtBbg16WhPiG7BcTNxhO1AiW7BvoZ9Ibo1gTQZrjHtK0R3VV5uLw1HIbrjwbIQ3fFgWYjueLAsRHccWBaiW4huL0ncmJyL9XqXQnTHYYSNj0J0x4NlIbrjwbIQ3XFgWYhuIbqF6A50DBSiOw4jXIjueHCEZSG648GzEN1xYFmI7kBJzmqjhKV0YRyKC/9CdMeDZYnojgfLQnTHg2UhuuPAshDdQnRLRHegY6AQ3XEY4RLRHQ+OJaI7LiwL0R0HnoXoDpTklIjuOBRwtTg6rxDd8YyBEtEdD5YlojseLAvRHQeWhegWolsiugMdA4XojsMIc1oK0R0PloXojgfLQnTHgeWKiO6XzkjpynuVvyHL4CN7puq/jz+g4DhkHD37F05L6edXFxyHjqPnv/p1KX33ioLlGLD80RdS+so5BcsxYInofuqgguXQsbzq2Cnvafj/H2yy779/m9LvflP+hi4Dyjv0dyjPnxJ9LFiOYyz/9+9S8lfG9fBlQCfLXDl8HOlisa8jwfG3m9DZ2LEp0Y0jpS0SKBIoEigSKBIoEigSKBIoEhiwBArRHTB45dGLBIoEigSKBIoEigSKBIoEZkugEN3ZsilHigSKBIoEigSKBIoEigSKBAYsgUJ0BwxeefQigSKBIoEigSKBIoEigSKB2RL4/wgUT5d8rOqaAAAAAElFTkSuQmCC)"
      ]
    },
    {
      "cell_type": "markdown",
      "metadata": {
        "id": "TjfzY0Dj2Fup"
      },
      "source": [
        "Dari ke-6 percobaan model di atas, diambil 2 model terbaik yaitu Random Forest dan XGBoost untuk dilakukan hyperparameter tuning agar dapat mendapatkan model akhir terbaik. Nilai evaluasi model yang dilihat F1-Score (dianggap memiliki nilai Recall dan Precision yang baik). \n",
        "\n",
        "Berikut hasil hyperparameter tuning:"
      ]
    },
    {
      "cell_type": "markdown",
      "metadata": {
        "id": "zB-u4KHfDLwH"
      },
      "source": [
        "![image.png](data:image/png;base64,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)"
      ]
    },
    {
      "cell_type": "markdown",
      "metadata": {
        "id": "0ku7MIWOEKWw"
      },
      "source": [
        "Gambar di atas adalah nilai evaluasi model sebelum dan sesudah dilakukan hyperparameter tuning untuk Random Forest (atas) dan XGBoost (bawah). Setelah dilakukan tuning, nilai evaluasi model untuk Random Forest secara keseluruhan lebih baik dibanding hasil tuning XGBoost. Sehingga, Random Forest dengan hyperparameter tuning merupakan model terbaik yang terbentuk. \n",
        "\n",
        "Dengan nilai Recall sebesar 73,96%. Sehingga, pelanggan yang diprediksi dengan benar tidak melanjutkan layanan (churn) sebesar 73,96%. Atau dengan kata lain, jika terdapat 10 pelanggan yang churn (data actual), 7 orang di antaranya diprediksi dengan benar adalah pelanggan yang churn."
      ]
    }
  ]
}